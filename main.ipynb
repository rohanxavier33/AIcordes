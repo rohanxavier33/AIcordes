{
 "cells": [
  {
   "cell_type": "markdown",
   "id": "2f8a9b71",
   "metadata": {},
   "source": [
    "Deep Learning for Chord Recognition\n",
    "# McGill Billboard Dataset"
   ]
  },
  {
   "cell_type": "markdown",
   "id": "8ba4cecf",
   "metadata": {},
   "source": [
    "This notebook implements a deep learning approach to chord recognition using the McGill Billboard dataset. The goal is to predict chord labels from audio chroma features."
   ]
  },
  {
   "cell_type": "markdown",
   "id": "487aa419",
   "metadata": {},
   "source": [
    "## Table of Contents\n",
    "1. Introduction and Problem Description\n",
    "2. Data Exploration (EDA)\n",
    "3. Data Preparation\n",
    "4. Model Development\n",
    "5. Training and Evaluation\n",
    "6. Results and Analysis\n",
    "7. Conclusion and Future Work"
   ]
  },
  {
   "cell_type": "markdown",
   "id": "80c3aba1",
   "metadata": {},
   "source": [
    "# 1. Introduction and Problem Description"
   ]
  },
  {
   "cell_type": "markdown",
   "id": "351906e2",
   "metadata": {},
   "source": [
    "In this project, we implement a deep learning solution for automatic chord recognition from audio. Chord recognition is a fundamental task in music information retrieval (MIR) with applications in music education, transcription, recommendation systems, and musicological analysis. "
   ]
  },
  {
   "cell_type": "markdown",
   "id": "62016bce",
   "metadata": {},
   "source": [
    "We aim to develop and compare multiple neural network architectures for identifying chords from audio features, specifically using chroma representations derived from music audio files. "
   ]
  },
  {
   "cell_type": "markdown",
   "id": "ba119d60",
   "metadata": {},
   "source": [
    "Our approach includes implementing memory-efficient data handling techniques to process a large dataset, and incorporating temporal context to improve chord recognition accuracy."
   ]
  },
  {
   "cell_type": "markdown",
   "id": "f579d1ee",
   "metadata": {},
   "source": [
    "## Dataset Description"
   ]
  },
  {
   "cell_type": "markdown",
   "id": "e5443862",
   "metadata": {},
   "source": [
    "We'll be using the McGill Billboard dataset, which contains:\n",
    "- Chroma features extracted from popular music recordings\n",
    "- Time-aligned chord labels\n",
    "- 890 songs spanning several decades of popular music"
   ]
  },
  {
   "cell_type": "code",
   "execution_count": 1,
   "id": "dbcd986b",
   "metadata": {},
   "outputs": [],
   "source": [
    "# Import necessary libraries\n",
    "import numpy as np\n",
    "import pandas as pd\n",
    "import matplotlib.pyplot as plt\n",
    "import seaborn as sns\n",
    "import os\n",
    "import glob\n",
    "from pathlib import Path\n",
    "import re\n",
    "from collections import Counter\n",
    "import pickle\n",
    "from tqdm import tqdm\n",
    "import random\n",
    "import tensorflow as tf\n",
    "from tensorflow.keras.models import Sequential, Model\n",
    "from tensorflow.keras.layers import Dense, LSTM, Dropout, Conv1D, MaxPooling1D, Flatten, Input, BatchNormalization, Bidirectional, TimeDistributed\n",
    "from tensorflow.keras.callbacks import EarlyStopping, ModelCheckpoint, ReduceLROnPlateau\n",
    "from sklearn.model_selection import train_test_split\n",
    "from sklearn.preprocessing import LabelEncoder\n",
    "from sklearn.metrics import confusion_matrix, classification_report\n",
    "import matplotlib.colors as mcolors\n",
    "import warnings\n",
    "warnings.filterwarnings('ignore')"
   ]
  },
  {
   "cell_type": "code",
   "execution_count": 2,
   "id": "363ca9f5",
   "metadata": {},
   "outputs": [],
   "source": [
    "# Constants\n",
    "SAMPLE_EPOCHS = 30\n",
    "FULL_EPOCHS = 50\n",
    "BATCH_SIZE = 256\n",
    "SEQUENCE_LENGTH = 15  # Number of frames to use for context window\n",
    "STEP_SIZE = 1  # Step size for creating sequences\n",
    "VALIDATION_SPLIT = 0.2\n",
    "TEST_SPLIT = 0.1"
   ]
  },
  {
   "cell_type": "code",
   "execution_count": 3,
   "id": "b1194e5b",
   "metadata": {},
   "outputs": [],
   "source": [
    "# Set the paths\n",
    "data_dir = Path('data/McGill-Billboard')\n",
    "chordino_dir = data_dir / 'chordino'\n",
    "lab_dir = data_dir / 'lab'\n",
    "annotations_dir = data_dir / 'annotations'\n",
    "index_path = data_dir / 'index.csv'"
   ]
  },
  {
   "cell_type": "code",
   "execution_count": 4,
   "id": "1edfdbc0",
   "metadata": {},
   "outputs": [],
   "source": [
    "# Set random seed for reproducibility\n",
    "np.random.seed(42)\n",
    "tf.random.set_seed(42)\n",
    "random.seed(42)"
   ]
  },
  {
   "cell_type": "code",
   "execution_count": 5,
   "id": "1647e17c",
   "metadata": {},
   "outputs": [],
   "source": [
    "# Create directories for models and results\n",
    "os.makedirs('models', exist_ok=True)\n",
    "os.makedirs('results', exist_ok=True)\n"
   ]
  },
  {
   "cell_type": "markdown",
   "id": "c58c3a68",
   "metadata": {},
   "source": [
    "# 2. Data Exploration (EDA)"
   ]
  },
  {
   "cell_type": "markdown",
   "id": "aa2bb5d0",
   "metadata": {},
   "source": [
    "Let's first explore the dataset to understand its structure and content."
   ]
  },
  {
   "cell_type": "code",
   "execution_count": 6,
   "id": "ad2f5751",
   "metadata": {},
   "outputs": [
    {
     "name": "stdout",
     "output_type": "stream",
     "text": [
      "Total entries in index: 1300\n",
      "Entries with complete data: 890\n"
     ]
    }
   ],
   "source": [
    "# Load the dataset index\n",
    "index_df = pd.read_csv(index_path)\n",
    "print(f\"Total entries in index: {len(index_df)}\")\n",
    "print(f\"Entries with complete data: {index_df['title'].notna().sum()}\")"
   ]
  },
  {
   "cell_type": "code",
   "execution_count": 7,
   "id": "b3a4de02",
   "metadata": {},
   "outputs": [
    {
     "name": "stdout",
     "output_type": "stream",
     "text": [
      "Total Entries after cleaning: 890\n"
     ]
    }
   ],
   "source": [
    "# Drop entries with missing/incomplete/unavailable data\n",
    "index_df = index_df.dropna(subset=['title'])\n",
    "print(f'Total Entries after cleaning: {len(index_df)}')"
   ]
  },
  {
   "cell_type": "code",
   "execution_count": 8,
   "id": "492679e7",
   "metadata": {},
   "outputs": [
    {
     "name": "stdout",
     "output_type": "stream",
     "text": [
      "Number of unique songs: 732\n",
      "Number of unique artists: 420\n"
     ]
    }
   ],
   "source": [
    "# Display basic information\n",
    "print(f\"Number of unique songs: {index_df['title'].nunique()}\")\n",
    "print(f\"Number of unique artists: {index_df['artist'].nunique()}\")"
   ]
  },
  {
   "cell_type": "code",
   "execution_count": 9,
   "id": "e610953c",
   "metadata": {},
   "outputs": [],
   "source": [
    "# Convert chart_date to datetime\n",
    "index_df['chart_date'] = pd.to_datetime(index_df['chart_date'])"
   ]
  },
  {
   "cell_type": "code",
   "execution_count": 10,
   "id": "19563398",
   "metadata": {},
   "outputs": [],
   "source": [
    "# Extract year and decade\n",
    "index_df['year'] = index_df['chart_date'].dt.year\n",
    "index_df['decade'] = (index_df['year'] // 10) * 10"
   ]
  },
  {
   "cell_type": "code",
   "execution_count": 11,
   "id": "bace8ecd",
   "metadata": {},
   "outputs": [
    {
     "data": {
      "image/png": "[encoded data removed]",
      "text/plain": [
       "<Figure size 1000x600 with 1 Axes>"
      ]
     },
     "metadata": {},
     "output_type": "display_data"
    }
   ],
   "source": [
    "# Plot distribution by decade\n",
    "plt.figure(figsize=(10, 6))\n",
    "decade_counts = index_df['decade'].value_counts().sort_index()\n",
    "decade_counts.plot(kind='bar', color='skyblue')\n",
    "plt.title('Number of Songs by Decade')\n",
    "plt.xlabel('Decade')\n",
    "plt.ylabel('Count')\n",
    "plt.grid(axis='y', linestyle='--', alpha=0.7)\n",
    "plt.xticks(rotation=0)\n",
    "plt.tight_layout()\n",
    "plt.show()"
   ]
  },
  {
   "cell_type": "code",
   "execution_count": 12,
   "id": "f781ecf3",
   "metadata": {},
   "outputs": [
    {
     "name": "stdout",
     "output_type": "stream",
     "text": [
      "Number of songs with chroma features: 890\n"
     ]
    }
   ],
   "source": [
    "# Check available directories\n",
    "song_ids = [d.name for d in chordino_dir.iterdir() if d.is_dir()]\n",
    "print(f\"Number of songs with chroma features: {len(song_ids)}\")"
   ]
  },
  {
   "cell_type": "code",
   "execution_count": 13,
   "id": "270faa66",
   "metadata": {},
   "outputs": [
    {
     "name": "stdout",
     "output_type": "stream",
     "text": [
      "Number of songs with lab files: 890\n"
     ]
    }
   ],
   "source": [
    "# Check if the same songs have lab files\n",
    "lab_ids = [d.name for d in lab_dir.iterdir() if d.is_dir()]\n",
    "print(f\"Number of songs with lab files: {len(lab_ids)}\")"
   ]
  },
  {
   "cell_type": "code",
   "execution_count": 14,
   "id": "53b46a48",
   "metadata": {},
   "outputs": [
    {
     "name": "stdout",
     "output_type": "stream",
     "text": [
      "Number of songs with both features and labels: 890\n"
     ]
    }
   ],
   "source": [
    "# Find songs that have both chroma and labels\n",
    "common_ids = set(song_ids).intersection(set(lab_ids))\n",
    "print(f\"Number of songs with both features and labels: {len(common_ids)}\")"
   ]
  },
  {
   "cell_type": "markdown",
   "id": "61b42552",
   "metadata": {},
   "source": [
    "## Exploring a Random Example"
   ]
  },
  {
   "cell_type": "markdown",
   "id": "7fa6f036",
   "metadata": {},
   "source": [
    "Let's examine a random song from the dataset to understand the structure of the chroma features and chord labels."
   ]
  },
  {
   "cell_type": "code",
   "execution_count": 15,
   "id": "8d133ea6",
   "metadata": {},
   "outputs": [],
   "source": [
    "# Choose a random example\n",
    "example_id = list(common_ids)[random.randint(0, len(common_ids) - 1)]"
   ]
  },
  {
   "cell_type": "code",
   "execution_count": 16,
   "id": "53d72d9e",
   "metadata": {},
   "outputs": [],
   "source": [
    "# Load chroma features for the example song\n",
    "chroma_path = chordino_dir / example_id / 'bothchroma.csv'\n",
    "tuning_path = chordino_dir / example_id / 'tuning.csv'"
   ]
  },
  {
   "cell_type": "code",
   "execution_count": 17,
   "id": "225b6c95",
   "metadata": {},
   "outputs": [
    {
     "name": "stdout",
     "output_type": "stream",
     "text": [
      "\n",
      "Chroma shape for song 0946: (3626, 26)\n",
      "Tuning shape for song 0946: (1, 5)\n",
      "\n",
      "Sample of chroma data:\n",
      "               0        1         2         3         4         5         6   \\\n",
      "0  /tmp/audio.wav  0.00000  0.000000  0.000000  0.000000  0.000000  0.000000   \n",
      "1             NaN  0.04644  0.000000  0.000000  0.000000  0.000000  0.000000   \n",
      "2             NaN  0.09288  0.000000  0.000000  0.000000  0.000000  0.000000   \n",
      "3             NaN  0.13932  0.000000  0.000000  0.000000  0.000000  0.000000   \n",
      "4             NaN  0.18576  0.659454  0.253792  0.727691  0.043323  0.166059   \n",
      "\n",
      "         7    8         9   ...        16        17       18        19   20  \\\n",
      "0  0.000000  0.0  0.000000  ...  0.000000  0.000000  0.00000  0.000000  0.0   \n",
      "1  0.000000  0.0  0.000000  ...  0.000000  0.000000  0.00000  0.000000  0.0   \n",
      "2  0.000000  0.0  0.000000  ...  0.000000  0.000000  0.00000  0.000000  0.0   \n",
      "3  0.000000  0.0  0.000000  ...  0.000000  0.000000  0.00000  0.000000  0.0   \n",
      "4  0.163558  0.0  0.247567  ...  0.302666  0.116319  1.24436  0.066794  0.0   \n",
      "\n",
      "      21        22        23        24        25  \n",
      "0  0.000  0.000000  0.000000  0.000000  0.000000  \n",
      "1  0.000  0.000000  0.000000  0.000000  0.000000  \n",
      "2  0.000  0.000000  0.000000  0.000000  0.000000  \n",
      "3  0.000  0.000000  0.000000  0.000000  0.000000  \n",
      "4  1.862  0.247269  0.292037  0.478943  0.708079  \n",
      "\n",
      "[5 rows x 26 columns]\n",
      "\n",
      "Number of chord segments for song 0946: 89\n",
      "\n",
      "Sample of chord labels:\n",
      "   start_time  end_time  chord\n",
      "0    0.000000  0.301859      N\n",
      "1    0.301859  1.582971  A:maj\n",
      "2    1.582971  2.864082  G:maj\n",
      "3    2.864082  5.426304  G:maj\n",
      "4    5.426304  7.988526  D:maj\n",
      "\n",
      "Number of unique chords in song 0946: 4\n",
      "\n",
      "Most common chords:\n",
      "chord\n",
      "D:maj    44\n",
      "G:maj    29\n",
      "A:maj    14\n",
      "N         2\n",
      "Name: count, dtype: int64\n"
     ]
    },
    {
     "data": {
      "image/png": "[encoded data removed]",
      "text/plain": [
       "<Figure size 1200x600 with 3 Axes>"
      ]
     },
     "metadata": {},
     "output_type": "display_data"
    },
    {
     "data": {
      "image/png": "[encoded data removed]",
      "text/plain": [
       "<Figure size 1200x600 with 1 Axes>"
      ]
     },
     "metadata": {},
     "output_type": "display_data"
    }
   ],
   "source": [
    "if chroma_path.exists() and tuning_path.exists():\n",
    "    chroma_data = pd.read_csv(chroma_path, header=None)\n",
    "    tuning_data = pd.read_csv(tuning_path, header=None)\n",
    "    \n",
    "    print(f\"\\nChroma shape for song {example_id}: {chroma_data.shape}\")\n",
    "    print(f\"Tuning shape for song {example_id}: {tuning_data.shape}\")\n",
    "    \n",
    "    # Display a sample of the chroma data\n",
    "    print(\"\\nSample of chroma data:\")\n",
    "    print(chroma_data.head())\n",
    "    \n",
    "    # Extract chroma values (assuming columns 2-13 contain the chroma values)\n",
    "    chroma_values = chroma_data.iloc[:, 2:14].values\n",
    "    if chroma_values.shape[1] != 12:\n",
    "        # If the format is different, try to find the 12 consecutive columns with numeric data\n",
    "        for i in range(len(chroma_data.columns) - 12 + 1):\n",
    "            test_values = chroma_data.iloc[:, i:i+12].values\n",
    "            if np.issubdtype(test_values.dtype, np.number):\n",
    "                chroma_values = test_values\n",
    "                print(f\"Found chroma values in columns {i} to {i+11}\")\n",
    "                break\n",
    "    \n",
    "    # Plot chroma data\n",
    "    plt.figure(figsize=(12, 6))\n",
    "    plt.subplot(211)\n",
    "    sns.heatmap(chroma_values[:100, :].T, cmap='coolwarm', cbar=True)\n",
    "    plt.title(f'Chroma Feature Heatmap for First 100 Frames - Song {example_id}')\n",
    "    plt.xlabel('Time frames')\n",
    "    plt.ylabel('Pitch Class')\n",
    "    \n",
    "    # Add pitch class labels on the y-axis\n",
    "    pitch_classes = ['C', 'C#', 'D', 'D#', 'E', 'F', 'F#', 'G', 'G#', 'A', 'A#', 'B']\n",
    "    plt.yticks(np.arange(12) + 0.5, pitch_classes)\n",
    "    \n",
    "    # Load chord labels for the example song\n",
    "    lab_path = lab_dir / example_id / \"full.lab\"\n",
    "    if lab_path.exists():\n",
    "        # Read the lab file (tab-separated with no header)\n",
    "        lab_data = pd.read_csv(lab_path, sep='\\t', header=None, names=['start_time', 'end_time', 'chord'])\n",
    "        \n",
    "        print(f\"\\nNumber of chord segments for song {example_id}: {len(lab_data)}\")\n",
    "        print(\"\\nSample of chord labels:\")\n",
    "        print(lab_data.head())\n",
    "        \n",
    "        # Count the unique chords in this song\n",
    "        print(f\"\\nNumber of unique chords in song {example_id}: {lab_data['chord'].nunique()}\")\n",
    "        print(\"\\nMost common chords:\")\n",
    "        print(lab_data['chord'].value_counts().head(10))\n",
    "        \n",
    "        # Plot chord durations\n",
    "        plt.subplot(212)\n",
    "        chord_durations = lab_data['end_time'] - lab_data['start_time']\n",
    "        plt.hist(chord_durations, bins=30, alpha=0.7, color='teal')\n",
    "        plt.title('Chord Duration Distribution')\n",
    "        plt.xlabel('Duration (seconds)')\n",
    "        plt.ylabel('Frequency')\n",
    "        plt.tight_layout()\n",
    "        plt.show()\n",
    "        \n",
    "        # Plot most common chords\n",
    "        plt.figure(figsize=(12, 6))\n",
    "        top_chords = lab_data['chord'].value_counts().head(15)\n",
    "        top_chords.plot(kind='bar', color='coral')\n",
    "        plt.title(f'Most Common Chords in Song {example_id}')\n",
    "        plt.xlabel('Chord')\n",
    "        plt.ylabel('Count')\n",
    "        plt.xticks(rotation=45, ha='right')\n",
    "        plt.tight_layout()\n",
    "        plt.show()\n",
    "    else:\n",
    "        print(f\"Lab file not found for song {example_id}\")\n",
    "else:\n",
    "    print(f\"Chroma or tuning data not found for song {example_id}\")"
   ]
  },
  {
   "cell_type": "markdown",
   "id": "56710649",
   "metadata": {},
   "source": [
    "## Analyzing Chord Distribution Across the Dataset"
   ]
  },
  {
   "cell_type": "code",
   "execution_count": 18,
   "id": "b1346168",
   "metadata": {
    "lines_to_next_cell": 1
   },
   "outputs": [],
   "source": [
    "def get_chord_distribution(song_ids, top_n=20):\n",
    "    \"\"\"Get the distribution of chords across all songs\"\"\"\n",
    "    all_chords = Counter()\n",
    "    processed_songs = 0\n",
    "    \n",
    "    for song_id in tqdm(song_ids, desc=\"Analyzing chord distribution\"):\n",
    "        lab_path = lab_dir / song_id / \"full.lab\"\n",
    "        \n",
    "        if lab_path.exists():\n",
    "            # Load and count chord labels\n",
    "            lab_data = pd.read_csv(lab_path, sep='\\t', header=None, names=['start_time', 'end_time', 'chord'])\n",
    "            chord_counts = lab_data['chord'].value_counts().to_dict()\n",
    "            \n",
    "            # Add to overall counter\n",
    "            all_chords.update(chord_counts)\n",
    "            processed_songs += 1\n",
    "    \n",
    "    print(f\"Processed {processed_songs} songs for chord distribution\")\n",
    "    return all_chords"
   ]
  },
  {
   "cell_type": "code",
   "execution_count": 19,
   "id": "12c53a23",
   "metadata": {},
   "outputs": [
    {
     "name": "stderr",
     "output_type": "stream",
     "text": [
      "Analyzing chord distribution: 100%|██████████| 100/100 [00:00<00:00, 194.01it/s]"
     ]
    },
    {
     "name": "stdout",
     "output_type": "stream",
     "text": [
      "Processed 100 songs for chord distribution\n"
     ]
    },
    {
     "name": "stderr",
     "output_type": "stream",
     "text": [
      "\n"
     ]
    }
   ],
   "source": [
    "# Analyze chord distribution across a sample of songs (limit to 100 for speed)\n",
    "chord_distribution = get_chord_distribution(list(common_ids)[:100])"
   ]
  },
  {
   "cell_type": "code",
   "execution_count": 20,
   "id": "5b2f8092",
   "metadata": {},
   "outputs": [
    {
     "data": {
      "image/png": "[encoded data removed]",
      "text/plain": [
       "<Figure size 1400x800 with 1 Axes>"
      ]
     },
     "metadata": {},
     "output_type": "display_data"
    }
   ],
   "source": [
    "# Plot top chords\n",
    "plt.figure(figsize=(14, 8))\n",
    "top_chords = pd.Series(dict(chord_distribution.most_common(30)))\n",
    "top_chords.plot(kind='bar', color='lightseagreen')\n",
    "plt.title('Most Common Chords Across the Dataset (Top 30)')\n",
    "plt.xlabel('Chord')\n",
    "plt.ylabel('Frequency')\n",
    "plt.xticks(rotation=45, ha='right')\n",
    "plt.grid(axis='y', linestyle='--', alpha=0.3)\n",
    "plt.tight_layout()\n",
    "plt.show()"
   ]
  },
  {
   "cell_type": "code",
   "execution_count": 21,
   "id": "2019d248",
   "metadata": {
    "lines_to_next_cell": 1
   },
   "outputs": [
    {
     "name": "stdout",
     "output_type": "stream",
     "text": [
      "Total chord occurrences: 14619\n",
      "Number of unique chords: 347\n"
     ]
    }
   ],
   "source": [
    "# Print statistics\n",
    "total_chords = sum(chord_distribution.values())\n",
    "unique_chords = len(chord_distribution)\n",
    "print(f\"Total chord occurrences: {total_chords}\")\n",
    "print(f\"Number of unique chords: {unique_chords}\")"
   ]
  },
  {
   "cell_type": "code",
   "execution_count": 22,
   "id": "a7a830ce",
   "metadata": {
    "lines_to_next_cell": 1
   },
   "outputs": [],
   "source": [
    "# How much of the dataset is covered by the top N chords?\n",
    "def coverage_analysis(chord_distribution, tops=[10, 20, 50, 100, 200]):\n",
    "    total = sum(chord_distribution.values())\n",
    "    for n in tops:\n",
    "        top_n = sum(dict(chord_distribution.most_common(n)).values())\n",
    "        print(f\"Top {n} chords cover {top_n/total*100:.2f}% of all chord occurrences\")"
   ]
  },
  {
   "cell_type": "code",
   "execution_count": 23,
   "id": "aab3ade1",
   "metadata": {},
   "outputs": [
    {
     "name": "stdout",
     "output_type": "stream",
     "text": [
      "Top 10 chords cover 45.92% of all chord occurrences\n",
      "Top 20 chords cover 60.54% of all chord occurrences\n",
      "Top 50 chords cover 78.95% of all chord occurrences\n",
      "Top 100 chords cover 90.93% of all chord occurrences\n",
      "Top 200 chords cover 97.63% of all chord occurrences\n"
     ]
    }
   ],
   "source": [
    "coverage_analysis(chord_distribution)\n"
   ]
  },
  {
   "cell_type": "markdown",
   "id": "1b19d18f",
   "metadata": {},
   "source": [
    "# 3. Data Preparation"
   ]
  },
  {
   "cell_type": "markdown",
   "id": "4e9730ca",
   "metadata": {},
   "source": [
    "Now let's implement memory-efficient data handling techniques to process the large dataset."
   ]
  },
  {
   "cell_type": "code",
   "execution_count": 24,
   "id": "662776d3",
   "metadata": {
    "lines_to_next_cell": 1
   },
   "outputs": [],
   "source": [
    "def load_chroma(song_id):\n",
    "    \"\"\"Load chroma features for a given song ID with robust error handling\"\"\"\n",
    "    chroma_path = chordino_dir / song_id / 'bothchroma.csv'\n",
    "    \n",
    "    if not chroma_path.exists():\n",
    "        return None\n",
    "    \n",
    "    try:\n",
    "        # Read the file\n",
    "        data = pd.read_csv(chroma_path, header=None)\n",
    "        \n",
    "        # Figure out which columns contain the chroma data (should be 12 consecutive numeric columns)\n",
    "        # Start by converting all to numeric, with errors='coerce' to handle non-numeric values\n",
    "        numeric_data = data.apply(pd.to_numeric, errors='coerce')\n",
    "        \n",
    "        # Find the column indices where most values are not NaN (these should be our chroma columns)\n",
    "        valid_columns = numeric_data.count() > 0.8 * len(numeric_data)\n",
    "        valid_column_indices = valid_columns[valid_columns].index.tolist()\n",
    "        \n",
    "        # Find a consecutive sequence of 12 columns (for 12 pitch classes)\n",
    "        chroma_start = None\n",
    "        for i in range(len(valid_column_indices) - 11):\n",
    "            if valid_column_indices[i:i+12] == list(range(valid_column_indices[i], valid_column_indices[i] + 12)):\n",
    "                chroma_start = valid_column_indices[i]\n",
    "                break\n",
    "        \n",
    "        if chroma_start is None:\n",
    "            # If no perfect consecutive sequence, try to find the best 12 consecutive columns\n",
    "            for i in range(len(data.columns) - 11):\n",
    "                test_cols = data.iloc[:, i:i+12]\n",
    "                if test_cols.apply(pd.to_numeric, errors='coerce').count().min() > 0.8 * len(data):\n",
    "                    chroma_start = i\n",
    "                    break\n",
    "        \n",
    "        if chroma_start is None:\n",
    "            # If still no luck, just take columns 2-13 (common format)\n",
    "            chroma_start = 2\n",
    "        \n",
    "        # Extract and convert the chroma values\n",
    "        chroma_values = data.iloc[:, chroma_start:chroma_start+12].apply(pd.to_numeric, errors='coerce').values\n",
    "        \n",
    "        # Replace any remaining NaNs with zeros\n",
    "        chroma_values = np.nan_to_num(chroma_values)\n",
    "        \n",
    "        return chroma_values.astype(np.float32)\n",
    "    \n",
    "    except Exception as e:\n",
    "        print(f\"Error loading chroma for song {song_id}: {e}\")\n",
    "        return None"
   ]
  },
  {
   "cell_type": "code",
   "execution_count": 25,
   "id": "bfb1014e",
   "metadata": {
    "lines_to_next_cell": 1
   },
   "outputs": [],
   "source": [
    "def load_chord_labels(song_id):\n",
    "    \"\"\"Load chord labels for a given song ID\"\"\"\n",
    "    lab_path = lab_dir / song_id / \"full.lab\"\n",
    "    \n",
    "    if not lab_path.exists():\n",
    "        return None\n",
    "    \n",
    "    try:\n",
    "        # Load the chord labels\n",
    "        lab_data = pd.read_csv(lab_path, sep='\\t', header=None, names=['start_time', 'end_time', 'chord'])\n",
    "        return lab_data\n",
    "    except Exception as e:\n",
    "        print(f\"Error loading chord labels for song {song_id}: {e}\")\n",
    "        return None"
   ]
  },
  {
   "cell_type": "code",
   "execution_count": 26,
   "id": "6634c302",
   "metadata": {
    "lines_to_next_cell": 1
   },
   "outputs": [],
   "source": [
    "def align_chroma_with_chords(chroma_array, chord_data, chroma_hop_size=0.01):\n",
    "    \"\"\"Align chroma features with chord labels\"\"\"\n",
    "    # Generate timestamps for each chroma frame\n",
    "    chroma_times = np.arange(len(chroma_array)) * chroma_hop_size\n",
    "    \n",
    "    aligned_chords = []\n",
    "    \n",
    "    for i, time in enumerate(chroma_times):\n",
    "        # Find the chord label for this time point\n",
    "        matching_chords = chord_data[(chord_data['start_time'] <= time) & (chord_data['end_time'] > time)]\n",
    "        \n",
    "        if len(matching_chords) > 0:\n",
    "            chord = matching_chords.iloc[0]['chord']\n",
    "        else:\n",
    "            chord = \"N\"  # No chord (silence or undefined)\n",
    "        \n",
    "        aligned_chords.append(chord)\n",
    "    \n",
    "    return aligned_chords"
   ]
  },
  {
   "cell_type": "code",
   "execution_count": 27,
   "id": "0086dd94",
   "metadata": {
    "lines_to_next_cell": 1
   },
   "outputs": [],
   "source": [
    "def create_sequences(features, labels, seq_length=15, step=1):\n",
    "    \"\"\"Create sequences for temporal context\"\"\"\n",
    "    X, y = [], []\n",
    "    for i in range(0, len(features) - seq_length + 1, step):\n",
    "        X.append(features[i:i+seq_length])\n",
    "        y.append(labels[i+seq_length-1])  # Target is the label of the last frame in the sequence\n",
    "    \n",
    "    return np.array(X), np.array(y)"
   ]
  },
  {
   "cell_type": "code",
   "execution_count": 28,
   "id": "5671672c",
   "metadata": {
    "lines_to_next_cell": 1
   },
   "outputs": [],
   "source": [
    "class ChordDataGenerator(tf.keras.utils.Sequence):\n",
    "    \"\"\"Custom data generator for memory-efficient loading\"\"\"\n",
    "    def __init__(self, song_ids, batch_size=32, seq_length=15, step=1, shuffle=True,\n",
    "                 label_encoder=None, is_training=True, num_classes=None):\n",
    "        self.song_ids = song_ids\n",
    "        self.batch_size = batch_size\n",
    "        self.seq_length = seq_length\n",
    "        self.step = step\n",
    "        self.shuffle = shuffle\n",
    "        self.is_training = is_training\n",
    "        self.label_encoder = label_encoder\n",
    "        self.num_classes = num_classes\n",
    "        \n",
    "        # Pre-load song lengths to calculate total size\n",
    "        self.song_data = []\n",
    "        total_frames = 0\n",
    "        \n",
    "        for song_id in tqdm(song_ids, desc=\"Analyzing songs for generator\"):\n",
    "            chroma = load_chroma(song_id)\n",
    "            chords = load_chord_labels(song_id)\n",
    "            \n",
    "            if chroma is not None and chords is not None:\n",
    "                # Calculate number of sequences in this song\n",
    "                num_seqs = max(0, (len(chroma) - seq_length + 1 + step - 1) // step)\n",
    "                if num_seqs > 0:\n",
    "                    total_frames += num_seqs\n",
    "                    self.song_data.append({\n",
    "                        'song_id': song_id,\n",
    "                        'num_sequences': num_seqs\n",
    "                    })\n",
    "        \n",
    "        self.total_sequences = total_frames\n",
    "        print(f\"Data generator initialized with {len(self.song_data)} songs and {self.total_sequences} total sequences\")\n",
    "        \n",
    "        # Create an array of sequence indices for shuffling\n",
    "        self.indices = np.arange(self.total_sequences)\n",
    "        if self.shuffle:\n",
    "            np.random.shuffle(self.indices)\n",
    "    \n",
    "    def __len__(self):\n",
    "        \"\"\"Return the number of batches\"\"\"\n",
    "        return (self.total_sequences + self.batch_size - 1) // self.batch_size\n",
    "    \n",
    "    def on_epoch_end(self):\n",
    "        \"\"\"Shuffle indices at the end of each epoch if shuffle is True\"\"\"\n",
    "        if self.shuffle:\n",
    "            np.random.shuffle(self.indices)\n",
    "    \n",
    "    def __getitem__(self, batch_idx):\n",
    "        \"\"\"Generate one batch of data\"\"\"\n",
    "        # Calculate start and end indices for this batch\n",
    "        batch_start = batch_idx * self.batch_size\n",
    "        batch_end = min((batch_idx + 1) * self.batch_size, self.total_sequences)\n",
    "        \n",
    "        # Get the sequence indices for this batch\n",
    "        batch_indices = self.indices[batch_start:batch_end]\n",
    "        \n",
    "        # Initialize batch arrays\n",
    "        batch_size = batch_end - batch_start\n",
    "        X_batch = np.zeros((batch_size, self.seq_length, 12), dtype=np.float32)\n",
    "        y_batch = np.zeros(batch_size, dtype=np.int32)\n",
    "        \n",
    "        # Load the data for this batch\n",
    "        for i, seq_idx in enumerate(batch_indices):\n",
    "            # Find which song this sequence belongs to\n",
    "            song_offset = 0\n",
    "            for song_data in self.song_data:\n",
    "                if seq_idx < song_offset + song_data['num_sequences']:\n",
    "                    song_id = song_data['song_id']\n",
    "                    sequence_in_song = seq_idx - song_offset\n",
    "                    \n",
    "                    # Calculate the starting frame in the song\n",
    "                    frame_start = sequence_in_song * self.step\n",
    "                    \n",
    "                    # Load the song data if not already cached\n",
    "                    chroma = load_chroma(song_id)\n",
    "                    chords_data = load_chord_labels(song_id)\n",
    "                    \n",
    "                    if chroma is not None and chords_data is not None:\n",
    "                        # Align chords with chroma\n",
    "                        aligned_chords = align_chroma_with_chords(chroma, chords_data)\n",
    "                        \n",
    "                        # Extract the sequence\n",
    "                        seq_features = chroma[frame_start:frame_start+self.seq_length]\n",
    "                        seq_label = aligned_chords[frame_start+self.seq_length-1]\n",
    "                        \n",
    "                        # Ensure we have a full sequence (handle edge cases)\n",
    "                        if len(seq_features) == self.seq_length:\n",
    "                            X_batch[i] = seq_features\n",
    "                            \n",
    "                            # Encode the label\n",
    "                            if self.label_encoder is not None and seq_label in self.label_encoder.classes_:\n",
    "                                y_batch[i] = self.label_encoder.transform([seq_label])[0]\n",
    "                    \n",
    "                    break\n",
    "                \n",
    "                song_offset += song_data['num_sequences']\n",
    "        \n",
    "        return X_batch, y_batch"
   ]
  },
  {
   "cell_type": "code",
   "execution_count": 29,
   "id": "d751ce7c",
   "metadata": {
    "lines_to_next_cell": 1
   },
   "outputs": [],
   "source": [
    "def prepare_data(song_ids, test_size=0.1, val_size=0.1, seed=42):\n",
    "    \"\"\"Prepare the dataset for training, validation, and testing\"\"\"\n",
    "    # Shuffle and split the song IDs\n",
    "    random.seed(seed)\n",
    "    song_ids = list(song_ids)\n",
    "    random.shuffle(song_ids)\n",
    "    \n",
    "    # Calculate split indices\n",
    "    test_idx = int(len(song_ids) * test_size)\n",
    "    val_idx = int(len(song_ids) * (test_size + val_size))\n",
    "    \n",
    "    # Split the song IDs\n",
    "    test_song_ids = song_ids[:test_idx]\n",
    "    val_song_ids = song_ids[test_idx:val_idx]\n",
    "    train_song_ids = song_ids[val_idx:]\n",
    "    \n",
    "    print(f\"Split {len(song_ids)} songs into {len(train_song_ids)} training, {len(val_song_ids)} validation, and {len(test_song_ids)} test songs\")\n",
    "    \n",
    "    return train_song_ids, val_song_ids, test_song_ids"
   ]
  },
  {
   "cell_type": "code",
   "execution_count": 30,
   "id": "f8f158a8",
   "metadata": {
    "lines_to_next_cell": 1
   },
   "outputs": [],
   "source": [
    "def create_label_encoder(song_ids, max_songs=None):\n",
    "    \"\"\"Create a label encoder for the chord labels\"\"\"\n",
    "    all_chords = set()\n",
    "    processed = 0\n",
    "    \n",
    "    for song_id in tqdm(song_ids, desc=\"Creating label encoder\"):\n",
    "        if max_songs is not None and processed >= max_songs:\n",
    "            break\n",
    "            \n",
    "        chord_data = load_chord_labels(song_id)\n",
    "        if chord_data is not None:\n",
    "            all_chords.update(chord_data['chord'].unique())\n",
    "            processed += 1\n",
    "    \n",
    "    print(f\"Found {len(all_chords)} unique chords across {processed} songs\")\n",
    "    \n",
    "    # Create and fit the label encoder\n",
    "    encoder = LabelEncoder()\n",
    "    encoder.fit(list(all_chords))\n",
    "    \n",
    "    return encoder, list(all_chords)"
   ]
  },
  {
   "cell_type": "code",
   "execution_count": 31,
   "id": "75eeb953",
   "metadata": {},
   "outputs": [
    {
     "name": "stdout",
     "output_type": "stream",
     "text": [
      "Split 890 songs into 623 training, 178 validation, and 89 test songs\n"
     ]
    }
   ],
   "source": [
    "# Split the data\n",
    "train_songs, val_songs, test_songs = prepare_data(common_ids, test_size=TEST_SPLIT, val_size=VALIDATION_SPLIT)"
   ]
  },
  {
   "cell_type": "code",
   "execution_count": 32,
   "id": "29e28223",
   "metadata": {},
   "outputs": [
    {
     "name": "stderr",
     "output_type": "stream",
     "text": [
      "Creating label encoder: 100%|██████████| 623/623 [00:02<00:00, 238.82it/s]"
     ]
    },
    {
     "name": "stdout",
     "output_type": "stream",
     "text": [
      "Found 867 unique chords across 623 songs\n",
      "Number of chord classes: 867\n"
     ]
    },
    {
     "name": "stderr",
     "output_type": "stream",
     "text": [
      "\n"
     ]
    }
   ],
   "source": [
    "# Create a label encoder\n",
    "label_encoder, unique_chords = create_label_encoder(train_songs)\n",
    "num_classes = len(unique_chords)\n",
    "print(f\"Number of chord classes: {num_classes}\")"
   ]
  },
  {
   "cell_type": "code",
   "execution_count": 33,
   "id": "2f5f9049",
   "metadata": {},
   "outputs": [],
   "source": [
    "# Save the label encoder for later use\n",
    "with open('models/chord_label_encoder.pkl', 'wb') as f:\n",
    "    pickle.dump(label_encoder, f)"
   ]
  },
  {
   "cell_type": "code",
   "execution_count": 34,
   "id": "1f671867",
   "metadata": {},
   "outputs": [
    {
     "name": "stderr",
     "output_type": "stream",
     "text": [
      "Analyzing songs for generator: 100%|██████████| 623/623 [00:16<00:00, 38.12it/s]"
     ]
    },
    {
     "name": "stdout",
     "output_type": "stream",
     "text": [
      "Data generator initialized with 623 songs and 2938908 total sequences\n"
     ]
    },
    {
     "name": "stderr",
     "output_type": "stream",
     "text": [
      "\n"
     ]
    }
   ],
   "source": [
    "# Create data generators\n",
    "train_generator = ChordDataGenerator(\n",
    "    train_songs, \n",
    "    batch_size=BATCH_SIZE, \n",
    "    seq_length=SEQUENCE_LENGTH, \n",
    "    step=STEP_SIZE,\n",
    "    label_encoder=label_encoder,\n",
    "    num_classes=num_classes\n",
    ")"
   ]
  },
  {
   "cell_type": "code",
   "execution_count": 35,
   "id": "75e16fbc",
   "metadata": {},
   "outputs": [
    {
     "name": "stderr",
     "output_type": "stream",
     "text": [
      "Analyzing songs for generator: 100%|██████████| 178/178 [00:05<00:00, 35.41it/s]"
     ]
    },
    {
     "name": "stdout",
     "output_type": "stream",
     "text": [
      "Data generator initialized with 178 songs and 785312 total sequences\n"
     ]
    },
    {
     "name": "stderr",
     "output_type": "stream",
     "text": [
      "\n"
     ]
    }
   ],
   "source": [
    "val_generator = ChordDataGenerator(\n",
    "    val_songs, \n",
    "    batch_size=BATCH_SIZE, \n",
    "    seq_length=SEQUENCE_LENGTH, \n",
    "    step=STEP_SIZE,\n",
    "    shuffle=False,\n",
    "    label_encoder=label_encoder,\n",
    "    num_classes=num_classes\n",
    ")"
   ]
  },
  {
   "cell_type": "code",
   "execution_count": 36,
   "id": "174da7d1",
   "metadata": {},
   "outputs": [
    {
     "name": "stderr",
     "output_type": "stream",
     "text": [
      "Analyzing songs for generator: 100%|██████████| 89/89 [00:02<00:00, 33.79it/s]"
     ]
    },
    {
     "name": "stdout",
     "output_type": "stream",
     "text": [
      "Data generator initialized with 89 songs and 407092 total sequences\n"
     ]
    },
    {
     "name": "stderr",
     "output_type": "stream",
     "text": [
      "\n"
     ]
    }
   ],
   "source": [
    "test_generator = ChordDataGenerator(\n",
    "    test_songs, \n",
    "    batch_size=BATCH_SIZE, \n",
    "    seq_length=SEQUENCE_LENGTH, \n",
    "    step=STEP_SIZE,\n",
    "    shuffle=False,\n",
    "    label_encoder=label_encoder,\n",
    "    num_classes=num_classes\n",
    ")"
   ]
  },
  {
   "cell_type": "code",
   "execution_count": 37,
   "id": "e1e63fd1",
   "metadata": {},
   "outputs": [
    {
     "name": "stderr",
     "output_type": "stream",
     "text": [
      "Analyzing common chords: 100%|██████████| 50/50 [00:00<00:00, 848.47it/s]\n"
     ]
    }
   ],
   "source": [
    "# Check the most common chord classes\n",
    "top_chord_counts = Counter()\n",
    "for song_id in tqdm(train_songs[:50], desc=\"Analyzing common chords\"):\n",
    "    chord_data = load_chord_labels(song_id)\n",
    "    if chord_data is not None:\n",
    "        chord_counts = chord_data['chord'].value_counts().to_dict()\n",
    "        top_chord_counts.update(chord_counts)"
   ]
  },
  {
   "cell_type": "code",
   "execution_count": 38,
   "id": "5258e536",
   "metadata": {},
   "outputs": [
    {
     "name": "stdout",
     "output_type": "stream",
     "text": [
      "\n",
      "Top 20 chord classes in the dataset:\n",
      "G:maj (class 795): 395 occurrences\n",
      "D:maj (class 409): 393 occurrences\n",
      "A:maj (class 37): 368 occurrences\n",
      "N (class 865): 291 occurrences\n",
      "Bb:maj (class 226): 290 occurrences\n",
      "C:maj (class 323): 256 occurrences\n",
      "E:maj (class 532): 253 occurrences\n",
      "B:maj (class 165): 222 occurrences\n",
      "F:maj (class 700): 210 occurrences\n",
      "Ab:maj (class 107): 181 occurrences\n",
      "E:min (class 548): 162 occurrences\n",
      "Eb:maj (class 595): 158 occurrences\n",
      "E:min7 (class 561): 151 occurrences\n",
      "D:7 (class 396): 131 occurrences\n",
      "F#:min (class 659): 113 occurrences\n",
      "Db:maj (class 484): 107 occurrences\n",
      "A:min (class 58): 100 occurrences\n",
      "Ab:7(#9) (class 96): 90 occurrences\n",
      "C:min7 (class 356): 79 occurrences\n",
      "F:7 (class 684): 74 occurrences\n"
     ]
    }
   ],
   "source": [
    "print(\"\\nTop 20 chord classes in the dataset:\")\n",
    "for chord, count in top_chord_counts.most_common(20):\n",
    "    chord_idx = label_encoder.transform([chord])[0]\n",
    "    print(f\"{chord} (class {chord_idx}): {count} occurrences\")"
   ]
  },
  {
   "cell_type": "markdown",
   "id": "012e6c5c",
   "metadata": {},
   "source": [
    "# 4. Model Development"
   ]
  },
  {
   "cell_type": "markdown",
   "id": "96df42c0",
   "metadata": {},
   "source": [
    "Let's develop several neural network architectures for chord recognition."
   ]
  },
  {
   "cell_type": "code",
   "execution_count": 39,
   "id": "1f1149fd",
   "metadata": {
    "lines_to_next_cell": 1
   },
   "outputs": [],
   "source": [
    "def create_cnn_model(input_shape, num_classes):\n",
    "    \"\"\"Create a CNN model for chord recognition\"\"\"\n",
    "    model = Sequential([\n",
    "        # Input layer\n",
    "        Input(shape=input_shape),\n",
    "        \n",
    "        # First conv block\n",
    "        Conv1D(64, kernel_size=3, activation='relu', padding='same'),\n",
    "        BatchNormalization(),\n",
    "        Conv1D(64, kernel_size=3, activation='relu', padding='same'),\n",
    "        BatchNormalization(),\n",
    "        MaxPooling1D(pool_size=2),\n",
    "        Dropout(0.25),\n",
    "        \n",
    "        # Second conv block\n",
    "        Conv1D(128, kernel_size=3, activation='relu', padding='same'),\n",
    "        BatchNormalization(),\n",
    "        Conv1D(128, kernel_size=3, activation='relu', padding='same'),\n",
    "        BatchNormalization(),\n",
    "        MaxPooling1D(pool_size=2),\n",
    "        Dropout(0.25),\n",
    "        \n",
    "        # Flatten and dense layers\n",
    "        Flatten(),\n",
    "        Dense(256, activation='relu'),\n",
    "        BatchNormalization(),\n",
    "        Dropout(0.5),\n",
    "        Dense(num_classes, activation='softmax')\n",
    "    ])\n",
    "    \n",
    "    # Compile the model\n",
    "    model.compile(\n",
    "        optimizer='adam',\n",
    "        loss='sparse_categorical_crossentropy',\n",
    "        metrics=['accuracy']\n",
    "    )\n",
    "    \n",
    "    return model"
   ]
  },
  {
   "cell_type": "code",
   "execution_count": 40,
   "id": "93401224",
   "metadata": {
    "lines_to_next_cell": 1
   },
   "outputs": [],
   "source": [
    "def create_lstm_model(input_shape, num_classes):\n",
    "    \"\"\"Create an LSTM model for chord recognition\"\"\"\n",
    "    model = Sequential([\n",
    "        # Input layer\n",
    "        Input(shape=input_shape),\n",
    "        \n",
    "        # LSTM layers\n",
    "        Bidirectional(LSTM(128, return_sequences=True)),\n",
    "        Dropout(0.25),\n",
    "        Bidirectional(LSTM(128)),\n",
    "        Dropout(0.25),\n",
    "        \n",
    "        # Dense layers\n",
    "        Dense(256, activation='relu'),\n",
    "        BatchNormalization(),\n",
    "        Dropout(0.5),\n",
    "        Dense(num_classes, activation='softmax')\n",
    "    ])\n",
    "    \n",
    "    # Compile the model\n",
    "    model.compile(\n",
    "        optimizer='adam',\n",
    "        loss='sparse_categorical_crossentropy',\n",
    "        metrics=['accuracy']\n",
    "    )\n",
    "    \n",
    "    return model"
   ]
  },
  {
   "cell_type": "code",
   "execution_count": 41,
   "id": "7089a55e",
   "metadata": {
    "lines_to_next_cell": 1
   },
   "outputs": [],
   "source": [
    "def create_hybrid_model(input_shape, num_classes):\n",
    "    \"\"\"Create a hybrid CNN-LSTM model for chord recognition\"\"\"\n",
    "    model = Sequential([\n",
    "        # Input layer\n",
    "        Input(shape=input_shape),\n",
    "        \n",
    "        # CNN feature extraction\n",
    "        Conv1D(64, kernel_size=3, activation='relu', padding='same'),\n",
    "        BatchNormalization(),\n",
    "        MaxPooling1D(pool_size=2),\n",
    "        Dropout(0.25),\n",
    "        \n",
    "        # LSTM for temporal dependencies\n",
    "        Bidirectional(LSTM(128, return_sequences=False)),\n",
    "        Dropout(0.25),\n",
    "        \n",
    "        # Dense layers\n",
    "        Dense(256, activation='relu'),\n",
    "        BatchNormalization(),\n",
    "        Dropout(0.5),\n",
    "        Dense(num_classes, activation='softmax')\n",
    "    ])\n",
    "    \n",
    "    # Compile the model\n",
    "    model.compile(\n",
    "        optimizer='adam',\n",
    "        loss='sparse_categorical_crossentropy',\n",
    "        metrics=['accuracy']\n",
    "    )\n",
    "    \n",
    "    return model"
   ]
  },
  {
   "cell_type": "code",
   "execution_count": 42,
   "id": "f4218129",
   "metadata": {},
   "outputs": [],
   "source": [
    "# Define input shape based on sequence length and features\n",
    "input_shape = (SEQUENCE_LENGTH, 12)  # 12 chroma features"
   ]
  },
  {
   "cell_type": "code",
   "execution_count": 43,
   "id": "1a98da13",
   "metadata": {},
   "outputs": [],
   "source": [
    "# Create models\n",
    "cnn_model = create_cnn_model(input_shape, num_classes)\n",
    "lstm_model = create_lstm_model(input_shape, num_classes)\n",
    "hybrid_model = create_hybrid_model(input_shape, num_classes)"
   ]
  },
  {
   "cell_type": "code",
   "execution_count": 44,
   "id": "3d30c608",
   "metadata": {},
   "outputs": [
    {
     "name": "stdout",
     "output_type": "stream",
     "text": [
      "CNN Model Summary:\n"
     ]
    },
    {
     "data": {
      "text/html": [
       "<pre style=\"white-space:pre;overflow-x:auto;line-height:normal;font-family:Menlo,'DejaVu Sans Mono',consolas,'Courier New',monospace\"><span style=\"font-weight: bold\">Model: \"sequential\"</span>\n",
       "</pre>\n"
      ],
      "text/plain": [
       "\u001b[1mModel: \"sequential\"\u001b[0m\n"
      ]
     },
     "metadata": {},
     "output_type": "display_data"
    },
    {
     "data": {
      "text/html": [
       "<pre style=\"white-space:pre;overflow-x:auto;line-height:normal;font-family:Menlo,'DejaVu Sans Mono',consolas,'Courier New',monospace\">┏━━━━━━━━━━━━━━━━━━━━━━━━━━━━━━━━━┳━━━━━━━━━━━━━━━━━━━━━━━━┳━━━━━━━━━━━━━━━┓\n",
       "┃<span style=\"font-weight: bold\"> Layer (type)                    </span>┃<span style=\"font-weight: bold\"> Output Shape           </span>┃<span style=\"font-weight: bold\">       Param # </span>┃\n",
       "┡━━━━━━━━━━━━━━━━━━━━━━━━━━━━━━━━━╇━━━━━━━━━━━━━━━━━━━━━━━━╇━━━━━━━━━━━━━━━┩\n",
       "│ conv1d (<span style=\"color: #0087ff; text-decoration-color: #0087ff\">Conv1D</span>)                 │ (<span style=\"color: #00d7ff; text-decoration-color: #00d7ff\">None</span>, <span style=\"color: #00af00; text-decoration-color: #00af00\">15</span>, <span style=\"color: #00af00; text-decoration-color: #00af00\">64</span>)         │         <span style=\"color: #00af00; text-decoration-color: #00af00\">2,368</span> │\n",
       "├─────────────────────────────────┼────────────────────────┼───────────────┤\n",
       "│ batch_normalization             │ (<span style=\"color: #00d7ff; text-decoration-color: #00d7ff\">None</span>, <span style=\"color: #00af00; text-decoration-color: #00af00\">15</span>, <span style=\"color: #00af00; text-decoration-color: #00af00\">64</span>)         │           <span style=\"color: #00af00; text-decoration-color: #00af00\">256</span> │\n",
       "│ (<span style=\"color: #0087ff; text-decoration-color: #0087ff\">BatchNormalization</span>)            │                        │               │\n",
       "├─────────────────────────────────┼────────────────────────┼───────────────┤\n",
       "│ conv1d_1 (<span style=\"color: #0087ff; text-decoration-color: #0087ff\">Conv1D</span>)               │ (<span style=\"color: #00d7ff; text-decoration-color: #00d7ff\">None</span>, <span style=\"color: #00af00; text-decoration-color: #00af00\">15</span>, <span style=\"color: #00af00; text-decoration-color: #00af00\">64</span>)         │        <span style=\"color: #00af00; text-decoration-color: #00af00\">12,352</span> │\n",
       "├─────────────────────────────────┼────────────────────────┼───────────────┤\n",
       "│ batch_normalization_1           │ (<span style=\"color: #00d7ff; text-decoration-color: #00d7ff\">None</span>, <span style=\"color: #00af00; text-decoration-color: #00af00\">15</span>, <span style=\"color: #00af00; text-decoration-color: #00af00\">64</span>)         │           <span style=\"color: #00af00; text-decoration-color: #00af00\">256</span> │\n",
       "│ (<span style=\"color: #0087ff; text-decoration-color: #0087ff\">BatchNormalization</span>)            │                        │               │\n",
       "├─────────────────────────────────┼────────────────────────┼───────────────┤\n",
       "│ max_pooling1d (<span style=\"color: #0087ff; text-decoration-color: #0087ff\">MaxPooling1D</span>)    │ (<span style=\"color: #00d7ff; text-decoration-color: #00d7ff\">None</span>, <span style=\"color: #00af00; text-decoration-color: #00af00\">7</span>, <span style=\"color: #00af00; text-decoration-color: #00af00\">64</span>)          │             <span style=\"color: #00af00; text-decoration-color: #00af00\">0</span> │\n",
       "├─────────────────────────────────┼────────────────────────┼───────────────┤\n",
       "│ dropout (<span style=\"color: #0087ff; text-decoration-color: #0087ff\">Dropout</span>)               │ (<span style=\"color: #00d7ff; text-decoration-color: #00d7ff\">None</span>, <span style=\"color: #00af00; text-decoration-color: #00af00\">7</span>, <span style=\"color: #00af00; text-decoration-color: #00af00\">64</span>)          │             <span style=\"color: #00af00; text-decoration-color: #00af00\">0</span> │\n",
       "├─────────────────────────────────┼────────────────────────┼───────────────┤\n",
       "│ conv1d_2 (<span style=\"color: #0087ff; text-decoration-color: #0087ff\">Conv1D</span>)               │ (<span style=\"color: #00d7ff; text-decoration-color: #00d7ff\">None</span>, <span style=\"color: #00af00; text-decoration-color: #00af00\">7</span>, <span style=\"color: #00af00; text-decoration-color: #00af00\">128</span>)         │        <span style=\"color: #00af00; text-decoration-color: #00af00\">24,704</span> │\n",
       "├─────────────────────────────────┼────────────────────────┼───────────────┤\n",
       "│ batch_normalization_2           │ (<span style=\"color: #00d7ff; text-decoration-color: #00d7ff\">None</span>, <span style=\"color: #00af00; text-decoration-color: #00af00\">7</span>, <span style=\"color: #00af00; text-decoration-color: #00af00\">128</span>)         │           <span style=\"color: #00af00; text-decoration-color: #00af00\">512</span> │\n",
       "│ (<span style=\"color: #0087ff; text-decoration-color: #0087ff\">BatchNormalization</span>)            │                        │               │\n",
       "├─────────────────────────────────┼────────────────────────┼───────────────┤\n",
       "│ conv1d_3 (<span style=\"color: #0087ff; text-decoration-color: #0087ff\">Conv1D</span>)               │ (<span style=\"color: #00d7ff; text-decoration-color: #00d7ff\">None</span>, <span style=\"color: #00af00; text-decoration-color: #00af00\">7</span>, <span style=\"color: #00af00; text-decoration-color: #00af00\">128</span>)         │        <span style=\"color: #00af00; text-decoration-color: #00af00\">49,280</span> │\n",
       "├─────────────────────────────────┼────────────────────────┼───────────────┤\n",
       "│ batch_normalization_3           │ (<span style=\"color: #00d7ff; text-decoration-color: #00d7ff\">None</span>, <span style=\"color: #00af00; text-decoration-color: #00af00\">7</span>, <span style=\"color: #00af00; text-decoration-color: #00af00\">128</span>)         │           <span style=\"color: #00af00; text-decoration-color: #00af00\">512</span> │\n",
       "│ (<span style=\"color: #0087ff; text-decoration-color: #0087ff\">BatchNormalization</span>)            │                        │               │\n",
       "├─────────────────────────────────┼────────────────────────┼───────────────┤\n",
       "│ max_pooling1d_1 (<span style=\"color: #0087ff; text-decoration-color: #0087ff\">MaxPooling1D</span>)  │ (<span style=\"color: #00d7ff; text-decoration-color: #00d7ff\">None</span>, <span style=\"color: #00af00; text-decoration-color: #00af00\">3</span>, <span style=\"color: #00af00; text-decoration-color: #00af00\">128</span>)         │             <span style=\"color: #00af00; text-decoration-color: #00af00\">0</span> │\n",
       "├─────────────────────────────────┼────────────────────────┼───────────────┤\n",
       "│ dropout_1 (<span style=\"color: #0087ff; text-decoration-color: #0087ff\">Dropout</span>)             │ (<span style=\"color: #00d7ff; text-decoration-color: #00d7ff\">None</span>, <span style=\"color: #00af00; text-decoration-color: #00af00\">3</span>, <span style=\"color: #00af00; text-decoration-color: #00af00\">128</span>)         │             <span style=\"color: #00af00; text-decoration-color: #00af00\">0</span> │\n",
       "├─────────────────────────────────┼────────────────────────┼───────────────┤\n",
       "│ flatten (<span style=\"color: #0087ff; text-decoration-color: #0087ff\">Flatten</span>)               │ (<span style=\"color: #00d7ff; text-decoration-color: #00d7ff\">None</span>, <span style=\"color: #00af00; text-decoration-color: #00af00\">384</span>)            │             <span style=\"color: #00af00; text-decoration-color: #00af00\">0</span> │\n",
       "├─────────────────────────────────┼────────────────────────┼───────────────┤\n",
       "│ dense (<span style=\"color: #0087ff; text-decoration-color: #0087ff\">Dense</span>)                   │ (<span style=\"color: #00d7ff; text-decoration-color: #00d7ff\">None</span>, <span style=\"color: #00af00; text-decoration-color: #00af00\">256</span>)            │        <span style=\"color: #00af00; text-decoration-color: #00af00\">98,560</span> │\n",
       "├─────────────────────────────────┼────────────────────────┼───────────────┤\n",
       "│ batch_normalization_4           │ (<span style=\"color: #00d7ff; text-decoration-color: #00d7ff\">None</span>, <span style=\"color: #00af00; text-decoration-color: #00af00\">256</span>)            │         <span style=\"color: #00af00; text-decoration-color: #00af00\">1,024</span> │\n",
       "│ (<span style=\"color: #0087ff; text-decoration-color: #0087ff\">BatchNormalization</span>)            │                        │               │\n",
       "├─────────────────────────────────┼────────────────────────┼───────────────┤\n",
       "│ dropout_2 (<span style=\"color: #0087ff; text-decoration-color: #0087ff\">Dropout</span>)             │ (<span style=\"color: #00d7ff; text-decoration-color: #00d7ff\">None</span>, <span style=\"color: #00af00; text-decoration-color: #00af00\">256</span>)            │             <span style=\"color: #00af00; text-decoration-color: #00af00\">0</span> │\n",
       "├─────────────────────────────────┼────────────────────────┼───────────────┤\n",
       "│ dense_1 (<span style=\"color: #0087ff; text-decoration-color: #0087ff\">Dense</span>)                 │ (<span style=\"color: #00d7ff; text-decoration-color: #00d7ff\">None</span>, <span style=\"color: #00af00; text-decoration-color: #00af00\">867</span>)            │       <span style=\"color: #00af00; text-decoration-color: #00af00\">222,819</span> │\n",
       "└─────────────────────────────────┴────────────────────────┴───────────────┘\n",
       "</pre>\n"
      ],
      "text/plain": [
       "┏━━━━━━━━━━━━━━━━━━━━━━━━━━━━━━━━━┳━━━━━━━━━━━━━━━━━━━━━━━━┳━━━━━━━━━━━━━━━┓\n",
       "┃\u001b[1m \u001b[0m\u001b[1mLayer (type)                   \u001b[0m\u001b[1m \u001b[0m┃\u001b[1m \u001b[0m\u001b[1mOutput Shape          \u001b[0m\u001b[1m \u001b[0m┃\u001b[1m \u001b[0m\u001b[1m      Param #\u001b[0m\u001b[1m \u001b[0m┃\n",
       "┡━━━━━━━━━━━━━━━━━━━━━━━━━━━━━━━━━╇━━━━━━━━━━━━━━━━━━━━━━━━╇━━━━━━━━━━━━━━━┩\n",
       "│ conv1d (\u001b[38;5;33mConv1D\u001b[0m)                 │ (\u001b[38;5;45mNone\u001b[0m, \u001b[38;5;34m15\u001b[0m, \u001b[38;5;34m64\u001b[0m)         │         \u001b[38;5;34m2,368\u001b[0m │\n",
       "├─────────────────────────────────┼────────────────────────┼───────────────┤\n",
       "│ batch_normalization             │ (\u001b[38;5;45mNone\u001b[0m, \u001b[38;5;34m15\u001b[0m, \u001b[38;5;34m64\u001b[0m)         │           \u001b[38;5;34m256\u001b[0m │\n",
       "│ (\u001b[38;5;33mBatchNormalization\u001b[0m)            │                        │               │\n",
       "├─────────────────────────────────┼────────────────────────┼───────────────┤\n",
       "│ conv1d_1 (\u001b[38;5;33mConv1D\u001b[0m)               │ (\u001b[38;5;45mNone\u001b[0m, \u001b[38;5;34m15\u001b[0m, \u001b[38;5;34m64\u001b[0m)         │        \u001b[38;5;34m12,352\u001b[0m │\n",
       "├─────────────────────────────────┼────────────────────────┼───────────────┤\n",
       "│ batch_normalization_1           │ (\u001b[38;5;45mNone\u001b[0m, \u001b[38;5;34m15\u001b[0m, \u001b[38;5;34m64\u001b[0m)         │           \u001b[38;5;34m256\u001b[0m │\n",
       "│ (\u001b[38;5;33mBatchNormalization\u001b[0m)            │                        │               │\n",
       "├─────────────────────────────────┼────────────────────────┼───────────────┤\n",
       "│ max_pooling1d (\u001b[38;5;33mMaxPooling1D\u001b[0m)    │ (\u001b[38;5;45mNone\u001b[0m, \u001b[38;5;34m7\u001b[0m, \u001b[38;5;34m64\u001b[0m)          │             \u001b[38;5;34m0\u001b[0m │\n",
       "├─────────────────────────────────┼────────────────────────┼───────────────┤\n",
       "│ dropout (\u001b[38;5;33mDropout\u001b[0m)               │ (\u001b[38;5;45mNone\u001b[0m, \u001b[38;5;34m7\u001b[0m, \u001b[38;5;34m64\u001b[0m)          │             \u001b[38;5;34m0\u001b[0m │\n",
       "├─────────────────────────────────┼────────────────────────┼───────────────┤\n",
       "│ conv1d_2 (\u001b[38;5;33mConv1D\u001b[0m)               │ (\u001b[38;5;45mNone\u001b[0m, \u001b[38;5;34m7\u001b[0m, \u001b[38;5;34m128\u001b[0m)         │        \u001b[38;5;34m24,704\u001b[0m │\n",
       "├─────────────────────────────────┼────────────────────────┼───────────────┤\n",
       "│ batch_normalization_2           │ (\u001b[38;5;45mNone\u001b[0m, \u001b[38;5;34m7\u001b[0m, \u001b[38;5;34m128\u001b[0m)         │           \u001b[38;5;34m512\u001b[0m │\n",
       "│ (\u001b[38;5;33mBatchNormalization\u001b[0m)            │                        │               │\n",
       "├─────────────────────────────────┼────────────────────────┼───────────────┤\n",
       "│ conv1d_3 (\u001b[38;5;33mConv1D\u001b[0m)               │ (\u001b[38;5;45mNone\u001b[0m, \u001b[38;5;34m7\u001b[0m, \u001b[38;5;34m128\u001b[0m)         │        \u001b[38;5;34m49,280\u001b[0m │\n",
       "├─────────────────────────────────┼────────────────────────┼───────────────┤\n",
       "│ batch_normalization_3           │ (\u001b[38;5;45mNone\u001b[0m, \u001b[38;5;34m7\u001b[0m, \u001b[38;5;34m128\u001b[0m)         │           \u001b[38;5;34m512\u001b[0m │\n",
       "│ (\u001b[38;5;33mBatchNormalization\u001b[0m)            │                        │               │\n",
       "├─────────────────────────────────┼────────────────────────┼───────────────┤\n",
       "│ max_pooling1d_1 (\u001b[38;5;33mMaxPooling1D\u001b[0m)  │ (\u001b[38;5;45mNone\u001b[0m, \u001b[38;5;34m3\u001b[0m, \u001b[38;5;34m128\u001b[0m)         │             \u001b[38;5;34m0\u001b[0m │\n",
       "├─────────────────────────────────┼────────────────────────┼───────────────┤\n",
       "│ dropout_1 (\u001b[38;5;33mDropout\u001b[0m)             │ (\u001b[38;5;45mNone\u001b[0m, \u001b[38;5;34m3\u001b[0m, \u001b[38;5;34m128\u001b[0m)         │             \u001b[38;5;34m0\u001b[0m │\n",
       "├─────────────────────────────────┼────────────────────────┼───────────────┤\n",
       "│ flatten (\u001b[38;5;33mFlatten\u001b[0m)               │ (\u001b[38;5;45mNone\u001b[0m, \u001b[38;5;34m384\u001b[0m)            │             \u001b[38;5;34m0\u001b[0m │\n",
       "├─────────────────────────────────┼────────────────────────┼───────────────┤\n",
       "│ dense (\u001b[38;5;33mDense\u001b[0m)                   │ (\u001b[38;5;45mNone\u001b[0m, \u001b[38;5;34m256\u001b[0m)            │        \u001b[38;5;34m98,560\u001b[0m │\n",
       "├─────────────────────────────────┼────────────────────────┼───────────────┤\n",
       "│ batch_normalization_4           │ (\u001b[38;5;45mNone\u001b[0m, \u001b[38;5;34m256\u001b[0m)            │         \u001b[38;5;34m1,024\u001b[0m │\n",
       "│ (\u001b[38;5;33mBatchNormalization\u001b[0m)            │                        │               │\n",
       "├─────────────────────────────────┼────────────────────────┼───────────────┤\n",
       "│ dropout_2 (\u001b[38;5;33mDropout\u001b[0m)             │ (\u001b[38;5;45mNone\u001b[0m, \u001b[38;5;34m256\u001b[0m)            │             \u001b[38;5;34m0\u001b[0m │\n",
       "├─────────────────────────────────┼────────────────────────┼───────────────┤\n",
       "│ dense_1 (\u001b[38;5;33mDense\u001b[0m)                 │ (\u001b[38;5;45mNone\u001b[0m, \u001b[38;5;34m867\u001b[0m)            │       \u001b[38;5;34m222,819\u001b[0m │\n",
       "└─────────────────────────────────┴────────────────────────┴───────────────┘\n"
      ]
     },
     "metadata": {},
     "output_type": "display_data"
    },
    {
     "data": {
      "text/html": [
       "<pre style=\"white-space:pre;overflow-x:auto;line-height:normal;font-family:Menlo,'DejaVu Sans Mono',consolas,'Courier New',monospace\"><span style=\"font-weight: bold\"> Total params: </span><span style=\"color: #00af00; text-decoration-color: #00af00\">412,643</span> (1.57 MB)\n",
       "</pre>\n"
      ],
      "text/plain": [
       "\u001b[1m Total params: \u001b[0m\u001b[38;5;34m412,643\u001b[0m (1.57 MB)\n"
      ]
     },
     "metadata": {},
     "output_type": "display_data"
    },
    {
     "data": {
      "text/html": [
       "<pre style=\"white-space:pre;overflow-x:auto;line-height:normal;font-family:Menlo,'DejaVu Sans Mono',consolas,'Courier New',monospace\"><span style=\"font-weight: bold\"> Trainable params: </span><span style=\"color: #00af00; text-decoration-color: #00af00\">411,363</span> (1.57 MB)\n",
       "</pre>\n"
      ],
      "text/plain": [
       "\u001b[1m Trainable params: \u001b[0m\u001b[38;5;34m411,363\u001b[0m (1.57 MB)\n"
      ]
     },
     "metadata": {},
     "output_type": "display_data"
    },
    {
     "data": {
      "text/html": [
       "<pre style=\"white-space:pre;overflow-x:auto;line-height:normal;font-family:Menlo,'DejaVu Sans Mono',consolas,'Courier New',monospace\"><span style=\"font-weight: bold\"> Non-trainable params: </span><span style=\"color: #00af00; text-decoration-color: #00af00\">1,280</span> (5.00 KB)\n",
       "</pre>\n"
      ],
      "text/plain": [
       "\u001b[1m Non-trainable params: \u001b[0m\u001b[38;5;34m1,280\u001b[0m (5.00 KB)\n"
      ]
     },
     "metadata": {},
     "output_type": "display_data"
    }
   ],
   "source": [
    "# Print model summaries\n",
    "print(\"CNN Model Summary:\")\n",
    "cnn_model.summary()"
   ]
  },
  {
   "cell_type": "code",
   "execution_count": 45,
   "id": "089c08fe",
   "metadata": {},
   "outputs": [
    {
     "name": "stdout",
     "output_type": "stream",
     "text": [
      "\n",
      "LSTM Model Summary:\n"
     ]
    },
    {
     "data": {
      "text/html": [
       "<pre style=\"white-space:pre;overflow-x:auto;line-height:normal;font-family:Menlo,'DejaVu Sans Mono',consolas,'Courier New',monospace\"><span style=\"font-weight: bold\">Model: \"sequential_1\"</span>\n",
       "</pre>\n"
      ],
      "text/plain": [
       "\u001b[1mModel: \"sequential_1\"\u001b[0m\n"
      ]
     },
     "metadata": {},
     "output_type": "display_data"
    },
    {
     "data": {
      "text/html": [
       "<pre style=\"white-space:pre;overflow-x:auto;line-height:normal;font-family:Menlo,'DejaVu Sans Mono',consolas,'Courier New',monospace\">┏━━━━━━━━━━━━━━━━━━━━━━━━━━━━━━━━━┳━━━━━━━━━━━━━━━━━━━━━━━━┳━━━━━━━━━━━━━━━┓\n",
       "┃<span style=\"font-weight: bold\"> Layer (type)                    </span>┃<span style=\"font-weight: bold\"> Output Shape           </span>┃<span style=\"font-weight: bold\">       Param # </span>┃\n",
       "┡━━━━━━━━━━━━━━━━━━━━━━━━━━━━━━━━━╇━━━━━━━━━━━━━━━━━━━━━━━━╇━━━━━━━━━━━━━━━┩\n",
       "│ bidirectional (<span style=\"color: #0087ff; text-decoration-color: #0087ff\">Bidirectional</span>)   │ (<span style=\"color: #00d7ff; text-decoration-color: #00d7ff\">None</span>, <span style=\"color: #00af00; text-decoration-color: #00af00\">15</span>, <span style=\"color: #00af00; text-decoration-color: #00af00\">256</span>)        │       <span style=\"color: #00af00; text-decoration-color: #00af00\">144,384</span> │\n",
       "├─────────────────────────────────┼────────────────────────┼───────────────┤\n",
       "│ dropout_3 (<span style=\"color: #0087ff; text-decoration-color: #0087ff\">Dropout</span>)             │ (<span style=\"color: #00d7ff; text-decoration-color: #00d7ff\">None</span>, <span style=\"color: #00af00; text-decoration-color: #00af00\">15</span>, <span style=\"color: #00af00; text-decoration-color: #00af00\">256</span>)        │             <span style=\"color: #00af00; text-decoration-color: #00af00\">0</span> │\n",
       "├─────────────────────────────────┼────────────────────────┼───────────────┤\n",
       "│ bidirectional_1 (<span style=\"color: #0087ff; text-decoration-color: #0087ff\">Bidirectional</span>) │ (<span style=\"color: #00d7ff; text-decoration-color: #00d7ff\">None</span>, <span style=\"color: #00af00; text-decoration-color: #00af00\">256</span>)            │       <span style=\"color: #00af00; text-decoration-color: #00af00\">394,240</span> │\n",
       "├─────────────────────────────────┼────────────────────────┼───────────────┤\n",
       "│ dropout_4 (<span style=\"color: #0087ff; text-decoration-color: #0087ff\">Dropout</span>)             │ (<span style=\"color: #00d7ff; text-decoration-color: #00d7ff\">None</span>, <span style=\"color: #00af00; text-decoration-color: #00af00\">256</span>)            │             <span style=\"color: #00af00; text-decoration-color: #00af00\">0</span> │\n",
       "├─────────────────────────────────┼────────────────────────┼───────────────┤\n",
       "│ dense_2 (<span style=\"color: #0087ff; text-decoration-color: #0087ff\">Dense</span>)                 │ (<span style=\"color: #00d7ff; text-decoration-color: #00d7ff\">None</span>, <span style=\"color: #00af00; text-decoration-color: #00af00\">256</span>)            │        <span style=\"color: #00af00; text-decoration-color: #00af00\">65,792</span> │\n",
       "├─────────────────────────────────┼────────────────────────┼───────────────┤\n",
       "│ batch_normalization_5           │ (<span style=\"color: #00d7ff; text-decoration-color: #00d7ff\">None</span>, <span style=\"color: #00af00; text-decoration-color: #00af00\">256</span>)            │         <span style=\"color: #00af00; text-decoration-color: #00af00\">1,024</span> │\n",
       "│ (<span style=\"color: #0087ff; text-decoration-color: #0087ff\">BatchNormalization</span>)            │                        │               │\n",
       "├─────────────────────────────────┼────────────────────────┼───────────────┤\n",
       "│ dropout_5 (<span style=\"color: #0087ff; text-decoration-color: #0087ff\">Dropout</span>)             │ (<span style=\"color: #00d7ff; text-decoration-color: #00d7ff\">None</span>, <span style=\"color: #00af00; text-decoration-color: #00af00\">256</span>)            │             <span style=\"color: #00af00; text-decoration-color: #00af00\">0</span> │\n",
       "├─────────────────────────────────┼────────────────────────┼───────────────┤\n",
       "│ dense_3 (<span style=\"color: #0087ff; text-decoration-color: #0087ff\">Dense</span>)                 │ (<span style=\"color: #00d7ff; text-decoration-color: #00d7ff\">None</span>, <span style=\"color: #00af00; text-decoration-color: #00af00\">867</span>)            │       <span style=\"color: #00af00; text-decoration-color: #00af00\">222,819</span> │\n",
       "└─────────────────────────────────┴────────────────────────┴───────────────┘\n",
       "</pre>\n"
      ],
      "text/plain": [
       "┏━━━━━━━━━━━━━━━━━━━━━━━━━━━━━━━━━┳━━━━━━━━━━━━━━━━━━━━━━━━┳━━━━━━━━━━━━━━━┓\n",
       "┃\u001b[1m \u001b[0m\u001b[1mLayer (type)                   \u001b[0m\u001b[1m \u001b[0m┃\u001b[1m \u001b[0m\u001b[1mOutput Shape          \u001b[0m\u001b[1m \u001b[0m┃\u001b[1m \u001b[0m\u001b[1m      Param #\u001b[0m\u001b[1m \u001b[0m┃\n",
       "┡━━━━━━━━━━━━━━━━━━━━━━━━━━━━━━━━━╇━━━━━━━━━━━━━━━━━━━━━━━━╇━━━━━━━━━━━━━━━┩\n",
       "│ bidirectional (\u001b[38;5;33mBidirectional\u001b[0m)   │ (\u001b[38;5;45mNone\u001b[0m, \u001b[38;5;34m15\u001b[0m, \u001b[38;5;34m256\u001b[0m)        │       \u001b[38;5;34m144,384\u001b[0m │\n",
       "├─────────────────────────────────┼────────────────────────┼───────────────┤\n",
       "│ dropout_3 (\u001b[38;5;33mDropout\u001b[0m)             │ (\u001b[38;5;45mNone\u001b[0m, \u001b[38;5;34m15\u001b[0m, \u001b[38;5;34m256\u001b[0m)        │             \u001b[38;5;34m0\u001b[0m │\n",
       "├─────────────────────────────────┼────────────────────────┼───────────────┤\n",
       "│ bidirectional_1 (\u001b[38;5;33mBidirectional\u001b[0m) │ (\u001b[38;5;45mNone\u001b[0m, \u001b[38;5;34m256\u001b[0m)            │       \u001b[38;5;34m394,240\u001b[0m │\n",
       "├─────────────────────────────────┼────────────────────────┼───────────────┤\n",
       "│ dropout_4 (\u001b[38;5;33mDropout\u001b[0m)             │ (\u001b[38;5;45mNone\u001b[0m, \u001b[38;5;34m256\u001b[0m)            │             \u001b[38;5;34m0\u001b[0m │\n",
       "├─────────────────────────────────┼────────────────────────┼───────────────┤\n",
       "│ dense_2 (\u001b[38;5;33mDense\u001b[0m)                 │ (\u001b[38;5;45mNone\u001b[0m, \u001b[38;5;34m256\u001b[0m)            │        \u001b[38;5;34m65,792\u001b[0m │\n",
       "├─────────────────────────────────┼────────────────────────┼───────────────┤\n",
       "│ batch_normalization_5           │ (\u001b[38;5;45mNone\u001b[0m, \u001b[38;5;34m256\u001b[0m)            │         \u001b[38;5;34m1,024\u001b[0m │\n",
       "│ (\u001b[38;5;33mBatchNormalization\u001b[0m)            │                        │               │\n",
       "├─────────────────────────────────┼────────────────────────┼───────────────┤\n",
       "│ dropout_5 (\u001b[38;5;33mDropout\u001b[0m)             │ (\u001b[38;5;45mNone\u001b[0m, \u001b[38;5;34m256\u001b[0m)            │             \u001b[38;5;34m0\u001b[0m │\n",
       "├─────────────────────────────────┼────────────────────────┼───────────────┤\n",
       "│ dense_3 (\u001b[38;5;33mDense\u001b[0m)                 │ (\u001b[38;5;45mNone\u001b[0m, \u001b[38;5;34m867\u001b[0m)            │       \u001b[38;5;34m222,819\u001b[0m │\n",
       "└─────────────────────────────────┴────────────────────────┴───────────────┘\n"
      ]
     },
     "metadata": {},
     "output_type": "display_data"
    },
    {
     "data": {
      "text/html": [
       "<pre style=\"white-space:pre;overflow-x:auto;line-height:normal;font-family:Menlo,'DejaVu Sans Mono',consolas,'Courier New',monospace\"><span style=\"font-weight: bold\"> Total params: </span><span style=\"color: #00af00; text-decoration-color: #00af00\">828,259</span> (3.16 MB)\n",
       "</pre>\n"
      ],
      "text/plain": [
       "\u001b[1m Total params: \u001b[0m\u001b[38;5;34m828,259\u001b[0m (3.16 MB)\n"
      ]
     },
     "metadata": {},
     "output_type": "display_data"
    },
    {
     "data": {
      "text/html": [
       "<pre style=\"white-space:pre;overflow-x:auto;line-height:normal;font-family:Menlo,'DejaVu Sans Mono',consolas,'Courier New',monospace\"><span style=\"font-weight: bold\"> Trainable params: </span><span style=\"color: #00af00; text-decoration-color: #00af00\">827,747</span> (3.16 MB)\n",
       "</pre>\n"
      ],
      "text/plain": [
       "\u001b[1m Trainable params: \u001b[0m\u001b[38;5;34m827,747\u001b[0m (3.16 MB)\n"
      ]
     },
     "metadata": {},
     "output_type": "display_data"
    },
    {
     "data": {
      "text/html": [
       "<pre style=\"white-space:pre;overflow-x:auto;line-height:normal;font-family:Menlo,'DejaVu Sans Mono',consolas,'Courier New',monospace\"><span style=\"font-weight: bold\"> Non-trainable params: </span><span style=\"color: #00af00; text-decoration-color: #00af00\">512</span> (2.00 KB)\n",
       "</pre>\n"
      ],
      "text/plain": [
       "\u001b[1m Non-trainable params: \u001b[0m\u001b[38;5;34m512\u001b[0m (2.00 KB)\n"
      ]
     },
     "metadata": {},
     "output_type": "display_data"
    }
   ],
   "source": [
    "print(\"\\nLSTM Model Summary:\")\n",
    "lstm_model.summary()"
   ]
  },
  {
   "cell_type": "code",
   "execution_count": 46,
   "id": "52d9e45e",
   "metadata": {},
   "outputs": [
    {
     "name": "stdout",
     "output_type": "stream",
     "text": [
      "\n",
      "Hybrid CNN-LSTM Model Summary:\n"
     ]
    },
    {
     "data": {
      "text/html": [
       "<pre style=\"white-space:pre;overflow-x:auto;line-height:normal;font-family:Menlo,'DejaVu Sans Mono',consolas,'Courier New',monospace\"><span style=\"font-weight: bold\">Model: \"sequential_2\"</span>\n",
       "</pre>\n"
      ],
      "text/plain": [
       "\u001b[1mModel: \"sequential_2\"\u001b[0m\n"
      ]
     },
     "metadata": {},
     "output_type": "display_data"
    },
    {
     "data": {
      "text/html": [
       "<pre style=\"white-space:pre;overflow-x:auto;line-height:normal;font-family:Menlo,'DejaVu Sans Mono',consolas,'Courier New',monospace\">┏━━━━━━━━━━━━━━━━━━━━━━━━━━━━━━━━━┳━━━━━━━━━━━━━━━━━━━━━━━━┳━━━━━━━━━━━━━━━┓\n",
       "┃<span style=\"font-weight: bold\"> Layer (type)                    </span>┃<span style=\"font-weight: bold\"> Output Shape           </span>┃<span style=\"font-weight: bold\">       Param # </span>┃\n",
       "┡━━━━━━━━━━━━━━━━━━━━━━━━━━━━━━━━━╇━━━━━━━━━━━━━━━━━━━━━━━━╇━━━━━━━━━━━━━━━┩\n",
       "│ conv1d_4 (<span style=\"color: #0087ff; text-decoration-color: #0087ff\">Conv1D</span>)               │ (<span style=\"color: #00d7ff; text-decoration-color: #00d7ff\">None</span>, <span style=\"color: #00af00; text-decoration-color: #00af00\">15</span>, <span style=\"color: #00af00; text-decoration-color: #00af00\">64</span>)         │         <span style=\"color: #00af00; text-decoration-color: #00af00\">2,368</span> │\n",
       "├─────────────────────────────────┼────────────────────────┼───────────────┤\n",
       "│ batch_normalization_6           │ (<span style=\"color: #00d7ff; text-decoration-color: #00d7ff\">None</span>, <span style=\"color: #00af00; text-decoration-color: #00af00\">15</span>, <span style=\"color: #00af00; text-decoration-color: #00af00\">64</span>)         │           <span style=\"color: #00af00; text-decoration-color: #00af00\">256</span> │\n",
       "│ (<span style=\"color: #0087ff; text-decoration-color: #0087ff\">BatchNormalization</span>)            │                        │               │\n",
       "├─────────────────────────────────┼────────────────────────┼───────────────┤\n",
       "│ max_pooling1d_2 (<span style=\"color: #0087ff; text-decoration-color: #0087ff\">MaxPooling1D</span>)  │ (<span style=\"color: #00d7ff; text-decoration-color: #00d7ff\">None</span>, <span style=\"color: #00af00; text-decoration-color: #00af00\">7</span>, <span style=\"color: #00af00; text-decoration-color: #00af00\">64</span>)          │             <span style=\"color: #00af00; text-decoration-color: #00af00\">0</span> │\n",
       "├─────────────────────────────────┼────────────────────────┼───────────────┤\n",
       "│ dropout_6 (<span style=\"color: #0087ff; text-decoration-color: #0087ff\">Dropout</span>)             │ (<span style=\"color: #00d7ff; text-decoration-color: #00d7ff\">None</span>, <span style=\"color: #00af00; text-decoration-color: #00af00\">7</span>, <span style=\"color: #00af00; text-decoration-color: #00af00\">64</span>)          │             <span style=\"color: #00af00; text-decoration-color: #00af00\">0</span> │\n",
       "├─────────────────────────────────┼────────────────────────┼───────────────┤\n",
       "│ bidirectional_2 (<span style=\"color: #0087ff; text-decoration-color: #0087ff\">Bidirectional</span>) │ (<span style=\"color: #00d7ff; text-decoration-color: #00d7ff\">None</span>, <span style=\"color: #00af00; text-decoration-color: #00af00\">256</span>)            │       <span style=\"color: #00af00; text-decoration-color: #00af00\">197,632</span> │\n",
       "├─────────────────────────────────┼────────────────────────┼───────────────┤\n",
       "│ dropout_7 (<span style=\"color: #0087ff; text-decoration-color: #0087ff\">Dropout</span>)             │ (<span style=\"color: #00d7ff; text-decoration-color: #00d7ff\">None</span>, <span style=\"color: #00af00; text-decoration-color: #00af00\">256</span>)            │             <span style=\"color: #00af00; text-decoration-color: #00af00\">0</span> │\n",
       "├─────────────────────────────────┼────────────────────────┼───────────────┤\n",
       "│ dense_4 (<span style=\"color: #0087ff; text-decoration-color: #0087ff\">Dense</span>)                 │ (<span style=\"color: #00d7ff; text-decoration-color: #00d7ff\">None</span>, <span style=\"color: #00af00; text-decoration-color: #00af00\">256</span>)            │        <span style=\"color: #00af00; text-decoration-color: #00af00\">65,792</span> │\n",
       "├─────────────────────────────────┼────────────────────────┼───────────────┤\n",
       "│ batch_normalization_7           │ (<span style=\"color: #00d7ff; text-decoration-color: #00d7ff\">None</span>, <span style=\"color: #00af00; text-decoration-color: #00af00\">256</span>)            │         <span style=\"color: #00af00; text-decoration-color: #00af00\">1,024</span> │\n",
       "│ (<span style=\"color: #0087ff; text-decoration-color: #0087ff\">BatchNormalization</span>)            │                        │               │\n",
       "├─────────────────────────────────┼────────────────────────┼───────────────┤\n",
       "│ dropout_8 (<span style=\"color: #0087ff; text-decoration-color: #0087ff\">Dropout</span>)             │ (<span style=\"color: #00d7ff; text-decoration-color: #00d7ff\">None</span>, <span style=\"color: #00af00; text-decoration-color: #00af00\">256</span>)            │             <span style=\"color: #00af00; text-decoration-color: #00af00\">0</span> │\n",
       "├─────────────────────────────────┼────────────────────────┼───────────────┤\n",
       "│ dense_5 (<span style=\"color: #0087ff; text-decoration-color: #0087ff\">Dense</span>)                 │ (<span style=\"color: #00d7ff; text-decoration-color: #00d7ff\">None</span>, <span style=\"color: #00af00; text-decoration-color: #00af00\">867</span>)            │       <span style=\"color: #00af00; text-decoration-color: #00af00\">222,819</span> │\n",
       "└─────────────────────────────────┴────────────────────────┴───────────────┘\n",
       "</pre>\n"
      ],
      "text/plain": [
       "┏━━━━━━━━━━━━━━━━━━━━━━━━━━━━━━━━━┳━━━━━━━━━━━━━━━━━━━━━━━━┳━━━━━━━━━━━━━━━┓\n",
       "┃\u001b[1m \u001b[0m\u001b[1mLayer (type)                   \u001b[0m\u001b[1m \u001b[0m┃\u001b[1m \u001b[0m\u001b[1mOutput Shape          \u001b[0m\u001b[1m \u001b[0m┃\u001b[1m \u001b[0m\u001b[1m      Param #\u001b[0m\u001b[1m \u001b[0m┃\n",
       "┡━━━━━━━━━━━━━━━━━━━━━━━━━━━━━━━━━╇━━━━━━━━━━━━━━━━━━━━━━━━╇━━━━━━━━━━━━━━━┩\n",
       "│ conv1d_4 (\u001b[38;5;33mConv1D\u001b[0m)               │ (\u001b[38;5;45mNone\u001b[0m, \u001b[38;5;34m15\u001b[0m, \u001b[38;5;34m64\u001b[0m)         │         \u001b[38;5;34m2,368\u001b[0m │\n",
       "├─────────────────────────────────┼────────────────────────┼───────────────┤\n",
       "│ batch_normalization_6           │ (\u001b[38;5;45mNone\u001b[0m, \u001b[38;5;34m15\u001b[0m, \u001b[38;5;34m64\u001b[0m)         │           \u001b[38;5;34m256\u001b[0m │\n",
       "│ (\u001b[38;5;33mBatchNormalization\u001b[0m)            │                        │               │\n",
       "├─────────────────────────────────┼────────────────────────┼───────────────┤\n",
       "│ max_pooling1d_2 (\u001b[38;5;33mMaxPooling1D\u001b[0m)  │ (\u001b[38;5;45mNone\u001b[0m, \u001b[38;5;34m7\u001b[0m, \u001b[38;5;34m64\u001b[0m)          │             \u001b[38;5;34m0\u001b[0m │\n",
       "├─────────────────────────────────┼────────────────────────┼───────────────┤\n",
       "│ dropout_6 (\u001b[38;5;33mDropout\u001b[0m)             │ (\u001b[38;5;45mNone\u001b[0m, \u001b[38;5;34m7\u001b[0m, \u001b[38;5;34m64\u001b[0m)          │             \u001b[38;5;34m0\u001b[0m │\n",
       "├─────────────────────────────────┼────────────────────────┼───────────────┤\n",
       "│ bidirectional_2 (\u001b[38;5;33mBidirectional\u001b[0m) │ (\u001b[38;5;45mNone\u001b[0m, \u001b[38;5;34m256\u001b[0m)            │       \u001b[38;5;34m197,632\u001b[0m │\n",
       "├─────────────────────────────────┼────────────────────────┼───────────────┤\n",
       "│ dropout_7 (\u001b[38;5;33mDropout\u001b[0m)             │ (\u001b[38;5;45mNone\u001b[0m, \u001b[38;5;34m256\u001b[0m)            │             \u001b[38;5;34m0\u001b[0m │\n",
       "├─────────────────────────────────┼────────────────────────┼───────────────┤\n",
       "│ dense_4 (\u001b[38;5;33mDense\u001b[0m)                 │ (\u001b[38;5;45mNone\u001b[0m, \u001b[38;5;34m256\u001b[0m)            │        \u001b[38;5;34m65,792\u001b[0m │\n",
       "├─────────────────────────────────┼────────────────────────┼───────────────┤\n",
       "│ batch_normalization_7           │ (\u001b[38;5;45mNone\u001b[0m, \u001b[38;5;34m256\u001b[0m)            │         \u001b[38;5;34m1,024\u001b[0m │\n",
       "│ (\u001b[38;5;33mBatchNormalization\u001b[0m)            │                        │               │\n",
       "├─────────────────────────────────┼────────────────────────┼───────────────┤\n",
       "│ dropout_8 (\u001b[38;5;33mDropout\u001b[0m)             │ (\u001b[38;5;45mNone\u001b[0m, \u001b[38;5;34m256\u001b[0m)            │             \u001b[38;5;34m0\u001b[0m │\n",
       "├─────────────────────────────────┼────────────────────────┼───────────────┤\n",
       "│ dense_5 (\u001b[38;5;33mDense\u001b[0m)                 │ (\u001b[38;5;45mNone\u001b[0m, \u001b[38;5;34m867\u001b[0m)            │       \u001b[38;5;34m222,819\u001b[0m │\n",
       "└─────────────────────────────────┴────────────────────────┴───────────────┘\n"
      ]
     },
     "metadata": {},
     "output_type": "display_data"
    },
    {
     "data": {
      "text/html": [
       "<pre style=\"white-space:pre;overflow-x:auto;line-height:normal;font-family:Menlo,'DejaVu Sans Mono',consolas,'Courier New',monospace\"><span style=\"font-weight: bold\"> Total params: </span><span style=\"color: #00af00; text-decoration-color: #00af00\">489,891</span> (1.87 MB)\n",
       "</pre>\n"
      ],
      "text/plain": [
       "\u001b[1m Total params: \u001b[0m\u001b[38;5;34m489,891\u001b[0m (1.87 MB)\n"
      ]
     },
     "metadata": {},
     "output_type": "display_data"
    },
    {
     "data": {
      "text/html": [
       "<pre style=\"white-space:pre;overflow-x:auto;line-height:normal;font-family:Menlo,'DejaVu Sans Mono',consolas,'Courier New',monospace\"><span style=\"font-weight: bold\"> Trainable params: </span><span style=\"color: #00af00; text-decoration-color: #00af00\">489,251</span> (1.87 MB)\n",
       "</pre>\n"
      ],
      "text/plain": [
       "\u001b[1m Trainable params: \u001b[0m\u001b[38;5;34m489,251\u001b[0m (1.87 MB)\n"
      ]
     },
     "metadata": {},
     "output_type": "display_data"
    },
    {
     "data": {
      "text/html": [
       "<pre style=\"white-space:pre;overflow-x:auto;line-height:normal;font-family:Menlo,'DejaVu Sans Mono',consolas,'Courier New',monospace\"><span style=\"font-weight: bold\"> Non-trainable params: </span><span style=\"color: #00af00; text-decoration-color: #00af00\">640</span> (2.50 KB)\n",
       "</pre>\n"
      ],
      "text/plain": [
       "\u001b[1m Non-trainable params: \u001b[0m\u001b[38;5;34m640\u001b[0m (2.50 KB)\n"
      ]
     },
     "metadata": {},
     "output_type": "display_data"
    }
   ],
   "source": [
    "print(\"\\nHybrid CNN-LSTM Model Summary:\")\n",
    "hybrid_model.summary()"
   ]
  },
  {
   "cell_type": "markdown",
   "id": "c165f229",
   "metadata": {},
   "source": [
    "# 5. Training and Evaluation"
   ]
  },
  {
   "cell_type": "code",
   "execution_count": 47,
   "id": "b354c183",
   "metadata": {
    "lines_to_next_cell": 1
   },
   "outputs": [],
   "source": [
    "# Define callbacks\n",
    "def get_callbacks(model_name):\n",
    "    return [\n",
    "        EarlyStopping(\n",
    "            monitor='val_loss',\n",
    "            patience=10,\n",
    "            restore_best_weights=True,\n",
    "            verbose=1\n",
    "        ),\n",
    "        ReduceLROnPlateau(\n",
    "            monitor='val_loss',\n",
    "            factor=0.5,\n",
    "            patience=5,\n",
    "            min_lr=1e-6,\n",
    "            verbose=1\n",
    "        ),\n",
    "        ModelCheckpoint(\n",
    "            filepath=f'models/{model_name}_best.h5',\n",
    "            monitor='val_loss',\n",
    "            save_best_only=True,\n",
    "            verbose=1\n",
    "        )\n",
    "    ]"
   ]
  },
  {
   "cell_type": "code",
   "execution_count": null,
   "id": "2384e938",
   "metadata": {},
   "outputs": [
    {
     "name": "stdout",
     "output_type": "stream",
     "text": [
      "Training CNN Model...\n"
     ]
    }
   ],
   "source": [
    "# Train the CNN model\n",
    "print(\"Training CNN Model...\")\n",
    "cnn_history = cnn_model.fit(\n",
    "    train_generator,\n",
    "    validation_data=val_generator,\n",
    "    epochs=SAMPLE_EPOCHS,\n",
    "    callbacks=get_callbacks('cnn'),\n",
    "    verbose=1\n",
    ")"
   ]
  },
  {
   "cell_type": "code",
   "execution_count": null,
   "id": "09758f93",
   "metadata": {},
   "outputs": [],
   "source": [
    "# Train the LSTM model\n",
    "print(\"Training LSTM Model...\")\n",
    "lstm_history = lstm_model.fit(\n",
    "    train_generator,\n",
    "    validation_data=val_generator,\n",
    "    epochs=SAMPLE_EPOCHS,\n",
    "    callbacks=get_callbacks('lstm'),\n",
    "    verbose=1\n",
    ")"
   ]
  },
  {
   "cell_type": "code",
   "execution_count": null,
   "id": "c9187b9e",
   "metadata": {
    "lines_to_next_cell": 1
   },
   "outputs": [],
   "source": [
    "# Train the hybrid model\n",
    "print(\"Training Hybrid CNN-LSTM Model...\")\n",
    "hybrid_history = hybrid_model.fit(\n",
    "    train_generator,\n",
    "    validation_data=val_generator,\n",
    "    epochs=SAMPLE_EPOCHS,\n",
    "    callbacks=get_callbacks('hybrid'),\n",
    "    verbose=1\n",
    ")"
   ]
  },
  {
   "cell_type": "code",
   "execution_count": null,
   "id": "db81f74a",
   "metadata": {
    "lines_to_next_cell": 1
   },
   "outputs": [],
   "source": [
    "# Plot training histories\n",
    "def plot_history(histories, names):\n",
    "    plt.figure(figsize=(12, 5))\n",
    "    \n",
    "    # Plot accuracy\n",
    "    plt.subplot(1, 2, 1)\n",
    "    for history, name in zip(histories, names):\n",
    "        plt.plot(history.history['accuracy'], label=f'{name} Train')\n",
    "        plt.plot(history.history['val_accuracy'], label=f'{name} Val')\n",
    "    \n",
    "    plt.title('Model Accuracy')\n",
    "    plt.xlabel('Epoch')\n",
    "    plt.ylabel('Accuracy')\n",
    "    plt.legend()\n",
    "    plt.grid(True, linestyle='--', alpha=0.6)\n",
    "    \n",
    "    # Plot loss\n",
    "    plt.subplot(1, 2, 2)\n",
    "    for history, name in zip(histories, names):\n",
    "        plt.plot(history.history['loss'], label=f'{name} Train')\n",
    "        plt.plot(history.history['val_loss'], label=f'{name} Val')\n",
    "    \n",
    "    plt.title('Model Loss')\n",
    "    plt.xlabel('Epoch')\n",
    "    plt.ylabel('Loss')\n",
    "    plt.legend()\n",
    "    plt.grid(True, linestyle='--', alpha=0.6)\n",
    "    \n",
    "    plt.tight_layout()\n",
    "    plt.savefig('results/training_history.png', dpi=300, bbox_inches='tight')\n",
    "    plt.show()"
   ]
  },
  {
   "cell_type": "code",
   "execution_count": null,
   "id": "96c8451e",
   "metadata": {},
   "outputs": [],
   "source": [
    "# Plot the training histories\n",
    "plot_history(\n",
    "    [cnn_history, lstm_history, hybrid_history],\n",
    "    ['CNN', 'LSTM', 'Hybrid']\n",
    ")"
   ]
  },
  {
   "cell_type": "code",
   "execution_count": null,
   "id": "a18dd468",
   "metadata": {},
   "outputs": [],
   "source": [
    "# Evaluate the models on the test set\n",
    "print(\"Evaluating Models on Test Set...\")\n",
    "cnn_test_results = cnn_model.evaluate(test_generator, verbose=1)\n",
    "lstm_test_results = lstm_model.evaluate(test_generator, verbose=1)\n",
    "hybrid_test_results = hybrid_model.evaluate(test_generator, verbose=1)"
   ]
  },
  {
   "cell_type": "code",
   "execution_count": null,
   "id": "75210328",
   "metadata": {},
   "outputs": [],
   "source": [
    "print(f\"CNN Test Loss: {cnn_test_results[0]:.4f}, Test Accuracy: {cnn_test_results[1]:.4f}\")\n",
    "print(f\"LSTM Test Loss: {lstm_test_results[0]:.4f}, Test Accuracy: {lstm_test_results[1]:.4f}\")\n",
    "print(f\"Hybrid Test Loss: {hybrid_test_results[0]:.4f}, Test Accuracy: {hybrid_test_results[1]:.4f}\")"
   ]
  },
  {
   "cell_type": "code",
   "execution_count": null,
   "id": "4510d444",
   "metadata": {},
   "outputs": [],
   "source": [
    "# Save the models\n",
    "cnn_model.save('models/cnn_model.h5')\n",
    "lstm_model.save('models/lstm_model.h5')\n",
    "hybrid_model.save('models/hybrid_model.h5')"
   ]
  },
  {
   "cell_type": "markdown",
   "id": "1a4680c8",
   "metadata": {},
   "source": [
    "# 6. Results and Analysis"
   ]
  },
  {
   "cell_type": "markdown",
   "id": "c56e0a0d",
   "metadata": {},
   "source": [
    "Let's evaluate the models in more depth and generate predictions."
   ]
  },
  {
   "cell_type": "code",
   "execution_count": null,
   "id": "3e2f80b3",
   "metadata": {
    "lines_to_next_cell": 1
   },
   "outputs": [],
   "source": [
    "def analyze_model_predictions(model, generator, label_encoder, num_batches=10, class_threshold=20):\n",
    "    \"\"\"Analyze model predictions on a sample of data\"\"\"\n",
    "    # Generate predictions for a subset of the data\n",
    "    y_true = []\n",
    "    y_pred = []\n",
    "    \n",
    "    for i in range(min(num_batches, len(generator))):\n",
    "        X_batch, y_batch = generator[i]\n",
    "        batch_preds = model.predict(X_batch, verbose=0)\n",
    "        batch_pred_classes = np.argmax(batch_preds, axis=1)\n",
    "        \n",
    "        y_true.extend(y_batch)\n",
    "        y_pred.extend(batch_pred_classes)\n",
    "    \n",
    "    # Convert to numpy arrays\n",
    "    y_true = np.array(y_true)\n",
    "    y_pred = np.array(y_pred)\n",
    "    \n",
    "    # Get the class names\n",
    "    class_names = label_encoder.classes_\n",
    "    \n",
    "    # Calculate overall accuracy\n",
    "    accuracy = np.mean(y_true == y_pred)\n",
    "    print(f\"Overall accuracy on {len(y_true)} samples: {accuracy:.4f}\")\n",
    "    \n",
    "    # Identify the most common chords in the test set\n",
    "    chord_counts = Counter(y_true)\n",
    "    most_common_chords = chord_counts.most_common()\n",
    "    \n",
    "    # Filter to chords with at least class_threshold occurrences\n",
    "    common_chords = [(chord, count) for chord, count in most_common_chords if count >= class_threshold]\n",
    "    print(f\"Found {len(common_chords)} chord classes with at least {class_threshold} occurrences\")\n",
    "    \n",
    "    # Calculate per-chord accuracy for common chords\n",
    "    chord_accuracies = {}\n",
    "    for chord_idx, count in common_chords:\n",
    "        mask = (y_true == chord_idx)\n",
    "        if np.sum(mask) > 0:\n",
    "            chord_acc = np.mean(y_pred[mask] == chord_idx)\n",
    "            chord_name = class_names[chord_idx]\n",
    "            chord_accuracies[chord_name] = (chord_acc, count)\n",
    "    \n",
    "    # Plot chord-specific accuracies\n",
    "    plt.figure(figsize=(14, 8))\n",
    "    chords = []\n",
    "    accs = []\n",
    "    counts = []\n",
    "    \n",
    "    for chord, (acc, count) in sorted(chord_accuracies.items(), key=lambda x: x[1][0], reverse=True):\n",
    "        chords.append(chord)\n",
    "        accs.append(acc)\n",
    "        counts.append(count)\n",
    "    \n",
    "    # Create a colormap based on accuracies\n",
    "    colors = plt.cm.viridis(np.array(accs))\n",
    "    \n",
    "    ax = plt.bar(range(len(chords)), accs, color=colors)\n",
    "    plt.xticks(range(len(chords)), chords, rotation=90)\n",
    "    plt.ylim(0, 1.05)\n",
    "    plt.xlabel('Chord')\n",
    "    plt.ylabel('Accuracy')\n",
    "    plt.title(f'Per-Chord Accuracy (for chords with at least {class_threshold} occurrences)')\n",
    "    plt.grid(axis='y', linestyle='--', alpha=0.3)\n",
    "    \n",
    "    # Add a colorbar\n",
    "    sm = plt.cm.ScalarMappable(cmap=plt.cm.viridis, norm=plt.Normalize(0, 1))\n",
    "    sm.set_array([])\n",
    "    cbar = plt.colorbar(sm)\n",
    "    cbar.set_label('Accuracy')\n",
    "    \n",
    "    plt.tight_layout()\n",
    "    plt.savefig(f'results/chord_accuracies_threshold_{class_threshold}.png', dpi=300, bbox_inches='tight')\n",
    "    plt.show()\n",
    "    \n",
    "    # Create confusion matrix for top N most common chords\n",
    "    N = min(15, len(common_chords))\n",
    "    top_n_chords = [chord for chord, _ in common_chords[:N]]\n",
    "    \n",
    "    # Filter to samples with these chords\n",
    "    mask = np.isin(y_true, top_n_chords)\n",
    "    y_true_filtered = y_true[mask]\n",
    "    y_pred_filtered = y_pred[mask]\n",
    "    \n",
    "    # Create confusion matrix\n",
    "    cm = confusion_matrix(y_true_filtered, y_pred_filtered, labels=top_n_chords)\n",
    "    \n",
    "    # Plot confusion matrix\n",
    "    plt.figure(figsize=(12, 10))\n",
    "    cm_normalized = cm.astype('float') / cm.sum(axis=1)[:, np.newaxis]\n",
    "    \n",
    "    # Replace NaN with 0\n",
    "    cm_normalized = np.nan_to_num(cm_normalized)\n",
    "    \n",
    "    sns.heatmap(cm_normalized, annot=True, fmt='.2f', cmap='Blues',\n",
    "                xticklabels=[class_names[idx] for idx in top_n_chords],\n",
    "                yticklabels=[class_names[idx] for idx in top_n_chords])\n",
    "    plt.xlabel('Predicted Chord')\n",
    "    plt.ylabel('True Chord')\n",
    "    plt.title(f'Confusion Matrix (Top {N} Most Common Chords)')\n",
    "    plt.tight_layout()\n",
    "    plt.savefig(f'results/confusion_matrix_top_{N}.png', dpi=300, bbox_inches='tight')\n",
    "    plt.show()\n",
    "    \n",
    "    return accuracy, chord_accuracies"
   ]
  },
  {
   "cell_type": "code",
   "execution_count": null,
   "id": "7937da1d",
   "metadata": {},
   "outputs": [],
   "source": [
    "# Choose the best model based on validation accuracy\n",
    "# For this example, let's analyze the hybrid model\n",
    "print(\"Analyzing Hybrid Model Predictions...\")\n",
    "hybrid_accuracy, hybrid_chord_accuracies = analyze_model_predictions(\n",
    "    hybrid_model, test_generator, label_encoder, num_batches=20, class_threshold=30\n",
    ")"
   ]
  },
  {
   "cell_type": "markdown",
   "id": "068d9f17",
   "metadata": {},
   "source": [
    "# 7. Conclusion and Future Work"
   ]
  },
  {
   "cell_type": "code",
   "execution_count": null,
   "id": "e2c8d5e1",
   "metadata": {
    "lines_to_next_cell": 1
   },
   "outputs": [],
   "source": [
    "def chord_complexity_analysis(chord_accuracies, label_encoder):\n",
    "    \"\"\"Analyze how chord complexity affects recognition accuracy\"\"\"\n",
    "    # Define chord complexity categories\n",
    "    def get_complexity(chord):\n",
    "        if chord == 'N':  # No chord\n",
    "            return 'No Chord'\n",
    "        elif ':' not in chord:  # Unknown format\n",
    "            return 'Other'\n",
    "        \n",
    "        # Basic classification\n",
    "        root, quality = chord.split(':', 1)\n",
    "        \n",
    "        if quality in ['maj', '']:\n",
    "            return 'Major'\n",
    "        elif quality == 'min':\n",
    "            return 'Minor'\n",
    "        elif quality in ['7', 'maj7', 'min7']:\n",
    "            return 'Seventh'\n",
    "        elif '/' in quality:  # Slash chords (e.g., C:maj/3)\n",
    "            return 'Slash'\n",
    "        elif any(ext in quality for ext in ['9', '11', '13']):\n",
    "            return 'Extended'\n",
    "        elif any(mod in quality for ext in ['dim', 'aug', 'sus']):\n",
    "            return 'Altered'\n",
    "        else:\n",
    "            return 'Other'\n",
    "    \n",
    "    # Group chords by complexity\n",
    "    complexity_groups = {}\n",
    "    \n",
    "    for chord, (acc, count) in chord_accuracies.items():\n",
    "        complexity = get_complexity(chord)\n",
    "        if complexity not in complexity_groups:\n",
    "            complexity_groups[complexity] = []\n",
    "        complexity_groups[complexity].append((chord, acc, count))\n",
    "    \n",
    "    # Calculate average accuracy per complexity group\n",
    "    avg_accuracies = {}\n",
    "    for complexity, chords in complexity_groups.items():\n",
    "        if chords:\n",
    "            total_samples = sum(count for _, _, count in chords)\n",
    "            weighted_acc = sum(acc * count for _, acc, count in chords) / total_samples\n",
    "            avg_accuracies[complexity] = (weighted_acc, total_samples, len(chords))\n",
    "    \n",
    "    # Plot results\n",
    "    plt.figure(figsize=(12, 6))\n",
    "    \n",
    "    complexities = []\n",
    "    accs = []\n",
    "    counts = []\n",
    "    num_chords = []\n",
    "    \n",
    "    for complexity, (acc, count, n_chords) in sorted(avg_accuracies.items()):\n",
    "        complexities.append(complexity)\n",
    "        accs.append(acc)\n",
    "        counts.append(count)\n",
    "        num_chords.append(n_chords)\n",
    "    \n",
    "    bars = plt.bar(complexities, accs, color='skyblue')\n",
    "    \n",
    "    # Add count and number of chords as text\n",
    "    for i, (bar, count, n_chords) in enumerate(zip(bars, counts, num_chords)):\n",
    "        plt.text(bar.get_x() + bar.get_width()/2, bar.get_height() + 0.02,\n",
    "                f'{count} samples\\n{n_chords} chords',\n",
    "                ha='center', va='bottom', fontsize=9)\n",
    "    \n",
    "    plt.ylim(0, 1.05)\n",
    "    plt.xlabel('Chord Complexity')\n",
    "    plt.ylabel('Average Accuracy')\n",
    "    plt.title('Recognition Accuracy by Chord Complexity')\n",
    "    plt.grid(axis='y', linestyle='--', alpha=0.3)\n",
    "    plt.tight_layout()\n",
    "    plt.savefig('results/chord_complexity_analysis.png', dpi=300, bbox_inches='tight')\n",
    "    plt.show()\n",
    "    \n",
    "    return avg_accuracies"
   ]
  },
  {
   "cell_type": "code",
   "execution_count": null,
   "id": "e6324ef1",
   "metadata": {},
   "outputs": [],
   "source": [
    "# Analyze chord complexity\n",
    "complexity_results = chord_complexity_analysis(hybrid_chord_accuracies, label_encoder)"
   ]
  },
  {
   "cell_type": "code",
   "execution_count": null,
   "id": "eac3fb45",
   "metadata": {},
   "outputs": [],
   "source": [
    "# Final accuracy comparison\n",
    "model_accuracies = {\n",
    "    'CNN': cnn_test_results[1],\n",
    "    'LSTM': lstm_test_results[1],\n",
    "    'Hybrid CNN-LSTM': hybrid_test_results[1]\n",
    "}"
   ]
  },
  {
   "cell_type": "code",
   "execution_count": null,
   "id": "22d59f35",
   "metadata": {},
   "outputs": [],
   "source": [
    "plt.figure(figsize=(10, 6))\n",
    "bars = plt.bar(model_accuracies.keys(), model_accuracies.values(), color=['cornflowerblue', 'lightseagreen', 'coral'])"
   ]
  },
  {
   "cell_type": "code",
   "execution_count": null,
   "id": "dceca5b0",
   "metadata": {},
   "outputs": [],
   "source": [
    "# Add accuracy values on top of bars\n",
    "for bar in bars:\n",
    "    plt.text(bar.get_x() + bar.get_width()/2, bar.get_height() + 0.01,\n",
    "            f'{bar.get_height():.4f}',\n",
    "            ha='center', va='bottom')"
   ]
  },
  {
   "cell_type": "code",
   "execution_count": null,
   "id": "a0c1b618",
   "metadata": {},
   "outputs": [],
   "source": [
    "plt.ylim(0, max(model_accuracies.values()) + 0.1)\n",
    "plt.xlabel('Model Architecture')\n",
    "plt.ylabel('Test Accuracy')\n",
    "plt.title('Model Performance Comparison')\n",
    "plt.grid(axis='y', linestyle='--', alpha=0.3)\n",
    "plt.tight_layout()\n",
    "plt.savefig('results/model_comparison.png', dpi=300, bbox_inches='tight')\n",
    "plt.show()"
   ]
  },
  {
   "cell_type": "markdown",
   "id": "b2308eb2",
   "metadata": {},
   "source": [
    "# Conclusion"
   ]
  },
  {
   "cell_type": "markdown",
   "id": "242adb00",
   "metadata": {},
   "source": [
    "In this project, we developed deep learning models for automatic chord recognition using the McGill Billboard dataset. Our approach addressed key challenges including:"
   ]
  },
  {
   "cell_type": "markdown",
   "id": "6a12f759",
   "metadata": {},
   "source": [
    "1. **Memory Efficiency**: We implemented a custom data generator to handle the large dataset without running into memory limitations, avoiding the need for one-hot encoding of labels."
   ]
  },
  {
   "cell_type": "markdown",
   "id": "ac88862a",
   "metadata": {},
   "source": [
    "2. **Temporal Context**: We incorporated sequence modeling to capture the temporal dependencies in music by using windows of consecutive frames."
   ]
  },
  {
   "cell_type": "markdown",
   "id": "d3323675",
   "metadata": {},
   "source": [
    "3. **Model Architecture Comparison**: We compared three different architectures (CNN, LSTM, and hybrid CNN-LSTM) to understand which approach works best for chord recognition."
   ]
  },
  {
   "cell_type": "markdown",
   "id": "0a0e1ac8",
   "metadata": {},
   "source": [
    "4. **Chord Complexity Analysis**: We analyzed how recognition accuracy varies with chord complexity, providing insights into the strengths and limitations of our models."
   ]
  },
  {
   "cell_type": "markdown",
   "id": "80f8a669",
   "metadata": {},
   "source": [
    "## Key Findings:"
   ]
  },
  {
   "cell_type": "markdown",
   "id": "fbd0a7bd",
   "metadata": {},
   "source": [
    "- The hybrid CNN-LSTM model achieved the best overall performance, likely due to its ability to capture both local patterns in chroma features and temporal dependencies.\n",
    "- Simple chords (major and minor) were recognized more accurately than complex chords (extended, altered, and slash chords).\n",
    "- Using context windows significantly"
   ]
  }
 ],
 "metadata": {
  "jupytext": {
   "cell_metadata_filter": "-all",
   "main_language": "python",
   "notebook_metadata_filter": "-all"
  },
  "kernelspec": {
   "display_name": "Python 3",
   "language": "python",
   "name": "python3"
  },
  "language_info": {
   "codemirror_mode": {
    "name": "ipython",
    "version": 3
   },
   "file_extension": ".py",
   "mimetype": "text/x-python",
   "name": "python",
   "nbconvert_exporter": "python",
   "pygments_lexer": "ipython3",
   "version": "3.12.8"
  }
 },
 "nbformat": 4,
 "nbformat_minor": 5
}
