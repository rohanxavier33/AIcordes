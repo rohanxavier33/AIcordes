{
 "cells": [
  {
   "cell_type": "markdown",
   "metadata": {},
   "source": [
    "data: https://ddmal.music.mcgill.ca/research/The_McGill_Billboard_Project_(Chord_Analysis_Dataset)/"
   ]
  },
  {
   "cell_type": "code",
   "execution_count": null,
   "metadata": {},
   "outputs": [],
   "source": [
    "import numpy as np\n",
    "import pandas as pd\n",
    "import matplotlib.pyplot as plt\n",
    "import seaborn as sns\n",
    "import os\n",
    "import glob\n",
    "from pathlib import Path\n",
    "import re\n",
    "from collections import Counter\n",
    "import pickle\n",
    "from tqdm import tqdm\n",
    "import random\n",
    "\n",
    "import tensorflow as tf\n",
    "from tensorflow.keras.models import Sequential, Model\n",
    "from tensorflow.keras.layers import Dense, LSTM, Dropout, Conv1D, MaxPooling1D, Flatten, Input, BatchNormalization\n",
    "from tensorflow.keras.callbacks import EarlyStopping, ModelCheckpoint, ReduceLROnPlateau\n",
    "from sklearn.model_selection import train_test_split\n",
    "from sklearn.preprocessing import LabelEncoder\n",
    "from sklearn.metrics import confusion_matrix, classification_report"
   ]
  },
  {
   "cell_type": "code",
   "execution_count": null,
   "metadata": {},
   "outputs": [],
   "source": [
    "# CONSTANTS\n",
    "\n",
    "EPOCHS = 50\n",
    "SAMPLE_SIZE = 890\n",
    "BATCH_SIZE = 256\n",
    "SEQUENCE_LENGTH = 5"
   ]
  },
  {
   "cell_type": "code",
   "execution_count": 21,
   "metadata": {},
   "outputs": [],
   "source": [
    "# Set the paths\n",
    "data_dir = Path('data/McGill-Billboard')\n",
    "chordino_dir = data_dir / 'chordino'\n",
    "lab_dir = data_dir / 'lab'\n",
    "annotations_dir = data_dir / 'annotations'\n",
    "index_path = index_path = data_dir / 'index.csv'\n"
   ]
  },
  {
   "cell_type": "code",
   "execution_count": 22,
   "metadata": {},
   "outputs": [
    {
     "name": "stdout",
     "output_type": "stream",
     "text": [
      "Total entries in index: 1300\n",
      "Entries with complete data: 890\n"
     ]
    }
   ],
   "source": [
    "# Load the dataset index\n",
    "index_df = pd.read_csv(index_path)\n",
    "print(f\"Total entries in index: {len(index_df)}\")\n",
    "print(f\"Entries with complete data: {index_df['title'].notna().sum()}\")\n"
   ]
  },
  {
   "cell_type": "code",
   "execution_count": 23,
   "metadata": {},
   "outputs": [
    {
     "name": "stdout",
     "output_type": "stream",
     "text": [
      "Total Entries after cleaning: 890\n"
     ]
    }
   ],
   "source": [
    "# Drop entries with missing incomplete/unavailable data\n",
    "index_df = index_df.dropna(subset=['title'])\n",
    "\n",
    "# Verify new dataframe\n",
    "print(f'Total Entries after cleaning: {len(index_df)}')"
   ]
  },
  {
   "cell_type": "code",
   "execution_count": 24,
   "metadata": {},
   "outputs": [
    {
     "data": {
      "text/html": [
       "<div>\n",
       "<style scoped>\n",
       "    .dataframe tbody tr th:only-of-type {\n",
       "        vertical-align: middle;\n",
       "    }\n",
       "\n",
       "    .dataframe tbody tr th {\n",
       "        vertical-align: top;\n",
       "    }\n",
       "\n",
       "    .dataframe thead th {\n",
       "        text-align: right;\n",
       "    }\n",
       "</style>\n",
       "<table border=\"1\" class=\"dataframe\">\n",
       "  <thead>\n",
       "    <tr style=\"text-align: right;\">\n",
       "      <th></th>\n",
       "      <th>id</th>\n",
       "      <th>chart_date</th>\n",
       "      <th>target_rank</th>\n",
       "      <th>actual_rank</th>\n",
       "      <th>title</th>\n",
       "      <th>artist</th>\n",
       "      <th>peak_rank</th>\n",
       "      <th>weeks_on_chart</th>\n",
       "    </tr>\n",
       "  </thead>\n",
       "  <tbody>\n",
       "    <tr>\n",
       "      <th>2</th>\n",
       "      <td>3</td>\n",
       "      <td>1961-07-03</td>\n",
       "      <td>56</td>\n",
       "      <td>57.0</td>\n",
       "      <td>I Don't Mind</td>\n",
       "      <td>James Brown</td>\n",
       "      <td>47.0</td>\n",
       "      <td>8.0</td>\n",
       "    </tr>\n",
       "    <tr>\n",
       "      <th>3</th>\n",
       "      <td>4</td>\n",
       "      <td>1971-08-07</td>\n",
       "      <td>32</td>\n",
       "      <td>31.0</td>\n",
       "      <td>You've Got A Friend</td>\n",
       "      <td>Roberta Flack,Donny Hathaway</td>\n",
       "      <td>29.0</td>\n",
       "      <td>12.0</td>\n",
       "    </tr>\n",
       "    <tr>\n",
       "      <th>5</th>\n",
       "      <td>6</td>\n",
       "      <td>1980-08-02</td>\n",
       "      <td>15</td>\n",
       "      <td>16.0</td>\n",
       "      <td>The Rose</td>\n",
       "      <td>Bette Midler</td>\n",
       "      <td>3.0</td>\n",
       "      <td>25.0</td>\n",
       "    </tr>\n",
       "    <tr>\n",
       "      <th>9</th>\n",
       "      <td>10</td>\n",
       "      <td>1984-03-24</td>\n",
       "      <td>49</td>\n",
       "      <td>51.0</td>\n",
       "      <td>An Innocent Man</td>\n",
       "      <td>Billy Joel</td>\n",
       "      <td>10.0</td>\n",
       "      <td>18.0</td>\n",
       "    </tr>\n",
       "    <tr>\n",
       "      <th>11</th>\n",
       "      <td>12</td>\n",
       "      <td>1980-11-15</td>\n",
       "      <td>65</td>\n",
       "      <td>63.0</td>\n",
       "      <td>Lookin' For Love</td>\n",
       "      <td>Johnny Lee</td>\n",
       "      <td>5.0</td>\n",
       "      <td>21.0</td>\n",
       "    </tr>\n",
       "  </tbody>\n",
       "</table>\n",
       "</div>"
      ],
      "text/plain": [
       "    id  chart_date  target_rank  actual_rank                title  \\\n",
       "2    3  1961-07-03           56         57.0         I Don't Mind   \n",
       "3    4  1971-08-07           32         31.0  You've Got A Friend   \n",
       "5    6  1980-08-02           15         16.0             The Rose   \n",
       "9   10  1984-03-24           49         51.0      An Innocent Man   \n",
       "11  12  1980-11-15           65         63.0     Lookin' For Love   \n",
       "\n",
       "                          artist  peak_rank  weeks_on_chart  \n",
       "2                    James Brown       47.0             8.0  \n",
       "3   Roberta Flack,Donny Hathaway       29.0            12.0  \n",
       "5                   Bette Midler        3.0            25.0  \n",
       "9                     Billy Joel       10.0            18.0  \n",
       "11                    Johnny Lee        5.0            21.0  "
      ]
     },
     "execution_count": 24,
     "metadata": {},
     "output_type": "execute_result"
    }
   ],
   "source": [
    "index_df.head()"
   ]
  },
  {
   "cell_type": "code",
   "execution_count": 25,
   "metadata": {},
   "outputs": [
    {
     "name": "stdout",
     "output_type": "stream",
     "text": [
      "Number of unique songs: 732\n",
      "Number of unique artists: 420\n"
     ]
    }
   ],
   "source": [
    "# Display basic information\n",
    "print(f\"Number of unique songs: {index_df['title'].nunique()}\")\n",
    "print(f\"Number of unique artists: {index_df['artist'].nunique()}\")"
   ]
  },
  {
   "cell_type": "code",
   "execution_count": 26,
   "metadata": {},
   "outputs": [],
   "source": [
    "# Convert chart_date to datetime\n",
    "index_df['chart_date'] = pd.to_datetime(index_df['chart_date'])\n",
    "\n",
    "# Extract year and decade\n",
    "index_df['year'] = index_df['chart_date'].dt.year\n",
    "index_df['decade'] = (index_df['year'] // 10) * 10"
   ]
  },
  {
   "cell_type": "code",
   "execution_count": 27,
   "metadata": {},
   "outputs": [
    {
     "name": "stdout",
     "output_type": "stream",
     "text": [
      "decade\n",
      "1950     27\n",
      "1960    252\n",
      "1970    316\n",
      "1980    252\n",
      "1990     43\n",
      "Name: count, dtype: int64\n"
     ]
    }
   ],
   "source": [
    "decade_counts = index_df['decade'].value_counts().sort_index()\n",
    "\n",
    "print(decade_counts)"
   ]
  },
  {
   "cell_type": "code",
   "execution_count": 28,
   "metadata": {},
   "outputs": [
    {
     "name": "stdout",
     "output_type": "stream",
     "text": [
      "Number of songs with chroma features: 890\n",
      "Number of songs with lab files: 890\n",
      "Number of songs with both features and labels: 890\n"
     ]
    }
   ],
   "source": [
    "# Check available directories\n",
    "song_ids = [d.name for d in chordino_dir.iterdir() if d.is_dir()]\n",
    "print(f\"Number of songs with chroma features: {len(song_ids)}\")\n",
    "\n",
    "# Check if the same songs have lab files\n",
    "lab_ids = [d.name for d in lab_dir.iterdir() if d.is_dir()]\n",
    "print(f\"Number of songs with lab files: {len(lab_ids)}\")\n",
    "\n",
    "# Find songs that have both chroma and labels\n",
    "common_ids = set(song_ids).intersection(set(lab_ids))\n",
    "print(f\"Number of songs with both features and labels: {len(common_ids)}\")"
   ]
  },
  {
   "cell_type": "code",
   "execution_count": 29,
   "metadata": {},
   "outputs": [
    {
     "name": "stdout",
     "output_type": "stream",
     "text": [
      "\n",
      "Chroma shape for song 0468: (3322, 26)\n",
      "Tuning shape for song 0468: (1, 5)\n",
      "\n",
      "Sample of chroma data:\n",
      "               0        1    2    3    4    5    6    7    8    9   ...   16  \\\n",
      "0  /tmp/audio.wav  0.00000  0.0  0.0  0.0  0.0  0.0  0.0  0.0  0.0  ...  0.0   \n",
      "1             NaN  0.04644  0.0  0.0  0.0  0.0  0.0  0.0  0.0  0.0  ...  0.0   \n",
      "2             NaN  0.09288  0.0  0.0  0.0  0.0  0.0  0.0  0.0  0.0  ...  0.0   \n",
      "3             NaN  0.13932  0.0  0.0  0.0  0.0  0.0  0.0  0.0  0.0  ...  0.0   \n",
      "4             NaN  0.18576  0.0  0.0  0.0  0.0  0.0  0.0  0.0  0.0  ...  0.0   \n",
      "\n",
      "    17   18   19   20   21   22   23   24   25  \n",
      "0  0.0  0.0  0.0  0.0  0.0  0.0  0.0  0.0  0.0  \n",
      "1  0.0  0.0  0.0  0.0  0.0  0.0  0.0  0.0  0.0  \n",
      "2  0.0  0.0  0.0  0.0  0.0  0.0  0.0  0.0  0.0  \n",
      "3  0.0  0.0  0.0  0.0  0.0  0.0  0.0  0.0  0.0  \n",
      "4  0.0  0.0  0.0  0.0  0.0  0.0  0.0  0.0  0.0  \n",
      "\n",
      "[5 rows x 26 columns]\n",
      "\n",
      "Number of chord segments for song 0468: 129\n",
      "\n",
      "Sample of chord labels:\n",
      "   start_time  end_time chord\n",
      "0    0.000000  0.464399     N\n",
      "1    0.464399  1.202543     N\n",
      "2    1.202543  1.448592     N\n",
      "3    1.448592  3.416977     N\n",
      "4    3.416977  4.401169     N\n",
      "\n",
      "Number of unique chords in song 0468: 4\n",
      "\n",
      "Most common chords:\n",
      "chord\n",
      "C:maj    60\n",
      "F:maj    47\n",
      "N        15\n",
      "G:maj     7\n",
      "Name: count, dtype: int64\n"
     ]
    }
   ],
   "source": [
    "# Explore one example\n",
    "example_id = list(common_ids)[random.randint(0, len(common_ids))]\n",
    "\n",
    "# Load chroma features for the example song\n",
    "chroma_path = chordino_dir / example_id / 'bothchroma.csv'\n",
    "tuning_path = chordino_dir / example_id / 'tuning.csv'\n",
    "\n",
    "if chroma_path.exists() and tuning_path.exists():\n",
    "    chroma_data = pd.read_csv(chroma_path, header=None)\n",
    "    tuning_data = pd.read_csv(tuning_path, header=None)\n",
    "    \n",
    "    print(f\"\\nChroma shape for song {example_id}: {chroma_data.shape}\")\n",
    "    print(f\"Tuning shape for song {example_id}: {tuning_data.shape}\")\n",
    "    \n",
    "    # Display a sample of the chroma data\n",
    "    print(\"\\nSample of chroma data:\")\n",
    "    print(chroma_data.head())\n",
    "else:\n",
    "    print(f\"Chroma or tuning data not found for song {example_id}\")\n",
    "\n",
    "# Load chord labels for the example song\n",
    "lab_path = lab_dir / example_id / \"full.lab\"\n",
    "\n",
    "if lab_path.exists():\n",
    "    # Read the lab file (tab-separated with no header)\n",
    "    lab_data = pd.read_csv(lab_path, sep='\\t', header=None, names=['start_time', 'end_time', 'chord'])\n",
    "    \n",
    "    print(f\"\\nNumber of chord segments for song {example_id}: {len(lab_data)}\")\n",
    "    print(\"\\nSample of chord labels:\")\n",
    "    print(lab_data.head())\n",
    "    \n",
    "    # Count the unique chords in this song\n",
    "    print(f\"\\nNumber of unique chords in song {example_id}: {lab_data['chord'].nunique()}\")\n",
    "    print(\"\\nMost common chords:\")\n",
    "    print(lab_data['chord'].value_counts().head(10))\n",
    "else:\n",
    "    print(f\"Lab file not found for song {example_id}\")"
   ]
  },
  {
   "cell_type": "code",
   "execution_count": 30,
   "metadata": {},
   "outputs": [
    {
     "name": "stdout",
     "output_type": "stream",
     "text": [
      "Chroma shape for song 0468: (3322, 26)\n",
      "\n",
      "Sample of chroma data:\n",
      "               0        1    2    3    4    5    6    7    8    9   ...   16  \\\n",
      "0  /tmp/audio.wav  0.00000  0.0  0.0  0.0  0.0  0.0  0.0  0.0  0.0  ...  0.0   \n",
      "1             NaN  0.04644  0.0  0.0  0.0  0.0  0.0  0.0  0.0  0.0  ...  0.0   \n",
      "2             NaN  0.09288  0.0  0.0  0.0  0.0  0.0  0.0  0.0  0.0  ...  0.0   \n",
      "3             NaN  0.13932  0.0  0.0  0.0  0.0  0.0  0.0  0.0  0.0  ...  0.0   \n",
      "4             NaN  0.18576  0.0  0.0  0.0  0.0  0.0  0.0  0.0  0.0  ...  0.0   \n",
      "\n",
      "    17   18   19   20   21   22   23   24   25  \n",
      "0  0.0  0.0  0.0  0.0  0.0  0.0  0.0  0.0  0.0  \n",
      "1  0.0  0.0  0.0  0.0  0.0  0.0  0.0  0.0  0.0  \n",
      "2  0.0  0.0  0.0  0.0  0.0  0.0  0.0  0.0  0.0  \n",
      "3  0.0  0.0  0.0  0.0  0.0  0.0  0.0  0.0  0.0  \n",
      "4  0.0  0.0  0.0  0.0  0.0  0.0  0.0  0.0  0.0  \n",
      "\n",
      "[5 rows x 26 columns]\n"
     ]
    }
   ],
   "source": [
    "print(f\"Chroma shape for song {example_id}: {chroma_data.shape}\")\n",
    "print(\"\\nSample of chroma data:\")\n",
    "print(chroma_data.head())"
   ]
  },
  {
   "cell_type": "code",
   "execution_count": 31,
   "metadata": {},
   "outputs": [
    {
     "name": "stdout",
     "output_type": "stream",
     "text": [
      "Number of chord segments for song 0468: 129\n",
      "\n",
      "Sample of chord segments:\n",
      "      start       end chord\n",
      "0  0.000000  0.464399     N\n",
      "1  0.464399  1.202543     N\n",
      "2  1.202543  1.448592     N\n",
      "3  1.448592  3.416977     N\n",
      "4  3.416977  4.401169     N\n"
     ]
    }
   ],
   "source": [
    "# Load chord labels\n",
    "lab_data = pd.read_csv(lab_dir / example_id / \"full.lab\", sep='\\t', names=['start', 'end', 'chord'])\n",
    "\n",
    "print(f\"Number of chord segments for song {example_id}: {len(lab_data)}\")\n",
    "print(\"\\nSample of chord segments:\")\n",
    "print(lab_data.head())"
   ]
  },
  {
   "cell_type": "code",
   "execution_count": 32,
   "metadata": {},
   "outputs": [
    {
     "name": "stdout",
     "output_type": "stream",
     "text": [
      "Number of unique chords in song 0468: 4\n"
     ]
    }
   ],
   "source": [
    "# Count unique chords\n",
    "unique_chords = lab_data['chord'].nunique()\n",
    "print(f\"Number of unique chords in song {example_id}: {unique_chords}\")"
   ]
  },
  {
   "cell_type": "code",
   "execution_count": 33,
   "metadata": {},
   "outputs": [
    {
     "name": "stdout",
     "output_type": "stream",
     "text": [
      "Most common chords:\n",
      "chord\n",
      "C:maj    60\n",
      "F:maj    47\n",
      "N        15\n",
      "G:maj     7\n",
      "Name: count, dtype: int64\n"
     ]
    }
   ],
   "source": [
    "# Most frequent chords\n",
    "most_common_chords = lab_data['chord'].value_counts().head(10)\n",
    "print(\"Most common chords:\")\n",
    "print(most_common_chords)"
   ]
  }
 ],
 "metadata": {
  "kernelspec": {
   "display_name": "Python 3",
   "language": "python",
   "name": "python3"
  },
  "language_info": {
   "codemirror_mode": {
    "name": "ipython",
    "version": 3
   },
   "file_extension": ".py",
   "mimetype": "text/x-python",
   "name": "python",
   "nbconvert_exporter": "python",
   "pygments_lexer": "ipython3",
   "version": "3.12.8"
  }
 },
 "nbformat": 4,
 "nbformat_minor": 2
}
