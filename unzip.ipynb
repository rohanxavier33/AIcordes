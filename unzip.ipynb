{
 "cells": [
  {
   "cell_type": "code",
   "execution_count": 1,
   "metadata": {},
   "outputs": [],
   "source": [
    "import os\n",
    "import shutil\n",
    "import tarfile\n",
    "import pandas as pd\n",
    "from pathlib import Path"
   ]
  },
  {
   "cell_type": "code",
   "execution_count": null,
   "metadata": {},
   "outputs": [
    {
     "name": "stdout",
     "output_type": "stream",
     "text": [
      "Extracting zipped_data\\billboard-2.0-chordino.tar.xz...\n"
     ]
    },
    {
     "name": "stderr",
     "output_type": "stream",
     "text": [
      "C:\\Users\\RohanGupta\\AppData\\Local\\Temp\\ipykernel_7624\\1251558743.py:47: DeprecationWarning: Python 3.14 will, by default, filter extracted tar archives and reject files or modify their metadata. Use the filter argument to control this behavior.\n",
      "  tar.extract(member, path=id_dir)\n"
     ]
    },
    {
     "name": "stdout",
     "output_type": "stream",
     "text": [
      "Extraction of zipped_data\\billboard-2.0-chordino.tar.xz complete\n",
      "Extracting zipped_data\\billboard-2.0-salami_chords.tar.xz...\n",
      "Extraction of zipped_data\\billboard-2.0-salami_chords.tar.xz complete\n",
      "Extracting zipped_data\\billboard-2.0.1-lab.tar.xz...\n",
      "Extraction of zipped_data\\billboard-2.0.1-lab.tar.xz complete\n",
      "Warning: zipped_data\\billboard-2.0.1-mirex.tar.xz not found\n",
      "Warning: Index file data\\billboard-2.0-index.csv not found\n",
      "Dataset organization complete\n"
     ]
    }
   ],
   "source": [
    "# Define paths\n",
    "zipped_data_dir = Path('zipped_data')\n",
    "data_dir = Path('data')\n",
    "target_dir = data_dir / 'McGill-Billboard'\n",
    "\n",
    "# Create target directory if it doesn't exist\n",
    "os.makedirs(target_dir, exist_ok=True)\n",
    "\n",
    "# Dictionary to map file types to subdirectories\n",
    "file_type_dirs = {\n",
    "    'chordino': target_dir / 'chordino',\n",
    "    'salami_chords': target_dir / 'annotations',\n",
    "    'lab': target_dir / 'lab',\n",
    "    'mirex': target_dir / 'mirex'\n",
    "}\n",
    "\n",
    "# Create subdirectories\n",
    "for directory in file_type_dirs.values():\n",
    "    os.makedirs(directory, exist_ok=True)\n",
    "\n",
    "# Function to extract files\n",
    "def extract_tar_file(tar_path, dest_dir, file_type):\n",
    "    print(f\"Extracting {tar_path}...\")\n",
    "    \n",
    "    # Open the tar file\n",
    "    with tarfile.open(tar_path, 'r:*') as tar:\n",
    "        # Iterate through members\n",
    "        for member in tar.getmembers():\n",
    "            # Skip if not a file or if it's a directory\n",
    "            if not member.isfile():\n",
    "                continue\n",
    "                \n",
    "            # Extract directory ID from path\n",
    "            path_parts = member.name.split('/')\n",
    "            if len(path_parts) < 2 or not path_parts[1].isdigit():\n",
    "                continue\n",
    "                \n",
    "            dir_id = path_parts[1]\n",
    "            filename = path_parts[-1]\n",
    "            \n",
    "            # Create directory for this ID if needed\n",
    "            id_dir = file_type_dirs[file_type] / dir_id\n",
    "            os.makedirs(id_dir, exist_ok=True)\n",
    "            \n",
    "            # Extract file to the correct location\n",
    "            member.name = filename\n",
    "            tar.extract(member, path=id_dir)\n",
    "            \n",
    "            # Fix the extracted file path\n",
    "            extracted_path = id_dir / filename\n",
    "            if not extracted_path.exists():\n",
    "                src_path = Path(id_dir) / member.name\n",
    "                if src_path.exists():\n",
    "                    shutil.move(str(src_path), str(extracted_path))\n",
    "                    \n",
    "    print(f\"Extraction of {tar_path} complete\")\n",
    "\n",
    "# List of tar files to extract\n",
    "tar_files = [\n",
    "    ('billboard-2.0-chordino.tar.xz', 'chordino'),\n",
    "    ('billboard-2.0-salami_chords.tar.xz', 'salami_chords'),\n",
    "    ('billboard-2.0.1-lab.tar.xz', 'lab'),\n",
    "    ('billboard-2.0.1-mirex.tar.xz', 'mirex')\n",
    "]\n",
    "\n",
    "# Extract each tar file\n",
    "for filename, file_type in tar_files:\n",
    "    tar_path = zipped_data_dir / filename\n",
    "    if tar_path.exists():\n",
    "        extract_tar_file(tar_path, target_dir, file_type)\n",
    "    else:\n",
    "        print(f\"Warning: {tar_path} not found\")\n",
    "\n",
    "# Copy the index file to the target directory\n",
    "index_file = zipped_data_dir / 'billboard-2.0-index.csv'\n",
    "if index_file.exists():\n",
    "    shutil.copy(index_file, target_dir / 'index.csv')\n",
    "    print(f\"Copied index file to {target_dir / 'index.csv'}\")\n",
    "else:\n",
    "    print(f\"Warning: Index file {index_file} not found\")\n",
    "\n",
    "print(\"Dataset organization complete\")"
   ]
  }
 ],
 "metadata": {
  "kernelspec": {
   "display_name": "Python 3",
   "language": "python",
   "name": "python3"
  },
  "language_info": {
   "codemirror_mode": {
    "name": "ipython",
    "version": 3
   },
   "file_extension": ".py",
   "mimetype": "text/x-python",
   "name": "python",
   "nbconvert_exporter": "python",
   "pygments_lexer": "ipython3",
   "version": "3.12.8"
  }
 },
 "nbformat": 4,
 "nbformat_minor": 2
}
