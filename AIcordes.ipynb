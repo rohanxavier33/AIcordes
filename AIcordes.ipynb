{
 "cells": [
  {
   "cell_type": "markdown",
   "metadata": {},
   "source": [
    "data: https://ddmal.music.mcgill.ca/research/The_McGill_Billboard_Project_(Chord_Analysis_Dataset)/"
   ]
  },
  {
   "cell_type": "code",
   "execution_count": 2,
   "metadata": {},
   "outputs": [],
   "source": [
    "import numpy as np\n",
    "import pandas as pd\n",
    "import matplotlib.pyplot as plt\n",
    "import seaborn as sns\n",
    "import os\n",
    "import glob\n",
    "from pathlib import Path\n",
    "import re\n",
    "from collections import Counter\n",
    "import pickle\n",
    "from tqdm import tqdm\n",
    "import random\n",
    "\n",
    "import tensorflow as tf\n",
    "from tensorflow.keras.models import Sequential, Model\n",
    "from tensorflow.keras.layers import Dense, LSTM, Dropout, Conv1D, MaxPooling1D, Flatten, Input, BatchNormalization\n",
    "from tensorflow.keras.utils import to_categorical\n",
    "from tensorflow.keras.callbacks import EarlyStopping, ModelCheckpoint, ReduceLROnPlateau\n",
    "from sklearn.model_selection import train_test_split\n",
    "from sklearn.preprocessing import LabelEncoder\n",
    "from sklearn.metrics import confusion_matrix, classification_report"
   ]
  },
  {
   "cell_type": "code",
   "execution_count": 3,
   "metadata": {},
   "outputs": [],
   "source": [
    "# Set the paths\n",
    "data_dir = Path('data/McGill-Billboard')\n",
    "chordino_dir = data_dir / 'chordino'\n",
    "lab_dir = data_dir / 'lab'\n",
    "annotations_dir = data_dir / 'annotations'\n",
    "index_path = index_path = data_dir / 'index.csv'\n"
   ]
  },
  {
   "cell_type": "code",
   "execution_count": 4,
   "metadata": {},
   "outputs": [
    {
     "name": "stdout",
     "output_type": "stream",
     "text": [
      "Total entries in index: 1300\n",
      "Entries with complete data: 890\n"
     ]
    }
   ],
   "source": [
    "# Load the dataset index\n",
    "index_df = pd.read_csv(index_path)\n",
    "print(f\"Total entries in index: {len(index_df)}\")\n",
    "print(f\"Entries with complete data: {index_df['title'].notna().sum()}\")\n"
   ]
  },
  {
   "cell_type": "code",
   "execution_count": 5,
   "metadata": {},
   "outputs": [
    {
     "name": "stdout",
     "output_type": "stream",
     "text": [
      "Total Entries after cleaning: 890\n"
     ]
    }
   ],
   "source": [
    "# Drop entries with missing incomplete/unavailable data\n",
    "index_df = index_df.dropna(subset=['title'])\n",
    "\n",
    "# Verify new dataframe\n",
    "print(f'Total Entries after cleaning: {len(index_df)}')"
   ]
  },
  {
   "cell_type": "code",
   "execution_count": 6,
   "metadata": {},
   "outputs": [
    {
     "data": {
      "text/html": [
       "<div>\n",
       "<style scoped>\n",
       "    .dataframe tbody tr th:only-of-type {\n",
       "        vertical-align: middle;\n",
       "    }\n",
       "\n",
       "    .dataframe tbody tr th {\n",
       "        vertical-align: top;\n",
       "    }\n",
       "\n",
       "    .dataframe thead th {\n",
       "        text-align: right;\n",
       "    }\n",
       "</style>\n",
       "<table border=\"1\" class=\"dataframe\">\n",
       "  <thead>\n",
       "    <tr style=\"text-align: right;\">\n",
       "      <th></th>\n",
       "      <th>id</th>\n",
       "      <th>chart_date</th>\n",
       "      <th>target_rank</th>\n",
       "      <th>actual_rank</th>\n",
       "      <th>title</th>\n",
       "      <th>artist</th>\n",
       "      <th>peak_rank</th>\n",
       "      <th>weeks_on_chart</th>\n",
       "    </tr>\n",
       "  </thead>\n",
       "  <tbody>\n",
       "    <tr>\n",
       "      <th>2</th>\n",
       "      <td>3</td>\n",
       "      <td>1961-07-03</td>\n",
       "      <td>56</td>\n",
       "      <td>57.0</td>\n",
       "      <td>I Don't Mind</td>\n",
       "      <td>James Brown</td>\n",
       "      <td>47.0</td>\n",
       "      <td>8.0</td>\n",
       "    </tr>\n",
       "    <tr>\n",
       "      <th>3</th>\n",
       "      <td>4</td>\n",
       "      <td>1971-08-07</td>\n",
       "      <td>32</td>\n",
       "      <td>31.0</td>\n",
       "      <td>You've Got A Friend</td>\n",
       "      <td>Roberta Flack,Donny Hathaway</td>\n",
       "      <td>29.0</td>\n",
       "      <td>12.0</td>\n",
       "    </tr>\n",
       "    <tr>\n",
       "      <th>5</th>\n",
       "      <td>6</td>\n",
       "      <td>1980-08-02</td>\n",
       "      <td>15</td>\n",
       "      <td>16.0</td>\n",
       "      <td>The Rose</td>\n",
       "      <td>Bette Midler</td>\n",
       "      <td>3.0</td>\n",
       "      <td>25.0</td>\n",
       "    </tr>\n",
       "    <tr>\n",
       "      <th>9</th>\n",
       "      <td>10</td>\n",
       "      <td>1984-03-24</td>\n",
       "      <td>49</td>\n",
       "      <td>51.0</td>\n",
       "      <td>An Innocent Man</td>\n",
       "      <td>Billy Joel</td>\n",
       "      <td>10.0</td>\n",
       "      <td>18.0</td>\n",
       "    </tr>\n",
       "    <tr>\n",
       "      <th>11</th>\n",
       "      <td>12</td>\n",
       "      <td>1980-11-15</td>\n",
       "      <td>65</td>\n",
       "      <td>63.0</td>\n",
       "      <td>Lookin' For Love</td>\n",
       "      <td>Johnny Lee</td>\n",
       "      <td>5.0</td>\n",
       "      <td>21.0</td>\n",
       "    </tr>\n",
       "  </tbody>\n",
       "</table>\n",
       "</div>"
      ],
      "text/plain": [
       "    id  chart_date  target_rank  actual_rank                title  \\\n",
       "2    3  1961-07-03           56         57.0         I Don't Mind   \n",
       "3    4  1971-08-07           32         31.0  You've Got A Friend   \n",
       "5    6  1980-08-02           15         16.0             The Rose   \n",
       "9   10  1984-03-24           49         51.0      An Innocent Man   \n",
       "11  12  1980-11-15           65         63.0     Lookin' For Love   \n",
       "\n",
       "                          artist  peak_rank  weeks_on_chart  \n",
       "2                    James Brown       47.0             8.0  \n",
       "3   Roberta Flack,Donny Hathaway       29.0            12.0  \n",
       "5                   Bette Midler        3.0            25.0  \n",
       "9                     Billy Joel       10.0            18.0  \n",
       "11                    Johnny Lee        5.0            21.0  "
      ]
     },
     "execution_count": 6,
     "metadata": {},
     "output_type": "execute_result"
    }
   ],
   "source": [
    "index_df.head()"
   ]
  },
  {
   "cell_type": "code",
   "execution_count": 7,
   "metadata": {},
   "outputs": [
    {
     "name": "stdout",
     "output_type": "stream",
     "text": [
      "Number of unique songs: 732\n",
      "Number of unique artists: 420\n"
     ]
    }
   ],
   "source": [
    "# Display basic information\n",
    "print(f\"Number of unique songs: {index_df['title'].nunique()}\")\n",
    "print(f\"Number of unique artists: {index_df['artist'].nunique()}\")"
   ]
  },
  {
   "cell_type": "code",
   "execution_count": 8,
   "metadata": {},
   "outputs": [],
   "source": [
    "# Convert chart_date to datetime\n",
    "index_df['chart_date'] = pd.to_datetime(index_df['chart_date'])\n",
    "\n",
    "# Extract year and decade\n",
    "index_df['year'] = index_df['chart_date'].dt.year\n",
    "index_df['decade'] = (index_df['year'] // 10) * 10"
   ]
  },
  {
   "cell_type": "code",
   "execution_count": 9,
   "metadata": {},
   "outputs": [
    {
     "name": "stdout",
     "output_type": "stream",
     "text": [
      "decade\n",
      "1950     27\n",
      "1960    252\n",
      "1970    316\n",
      "1980    252\n",
      "1990     43\n",
      "Name: count, dtype: int64\n"
     ]
    }
   ],
   "source": [
    "decade_counts = index_df['decade'].value_counts().sort_index()\n",
    "\n",
    "print(decade_counts)"
   ]
  },
  {
   "cell_type": "code",
   "execution_count": 10,
   "metadata": {},
   "outputs": [
    {
     "name": "stdout",
     "output_type": "stream",
     "text": [
      "Number of songs with chroma features: 890\n",
      "Number of songs with lab files: 890\n",
      "Number of songs with both features and labels: 890\n"
     ]
    }
   ],
   "source": [
    "# Check available directories\n",
    "song_ids = [d.name for d in chordino_dir.iterdir() if d.is_dir()]\n",
    "print(f\"Number of songs with chroma features: {len(song_ids)}\")\n",
    "\n",
    "# Check if the same songs have lab files\n",
    "lab_ids = [d.name for d in lab_dir.iterdir() if d.is_dir()]\n",
    "print(f\"Number of songs with lab files: {len(lab_ids)}\")\n",
    "\n",
    "# Find songs that have both chroma and labels\n",
    "common_ids = set(song_ids).intersection(set(lab_ids))\n",
    "print(f\"Number of songs with both features and labels: {len(common_ids)}\")"
   ]
  },
  {
   "cell_type": "code",
   "execution_count": 11,
   "metadata": {},
   "outputs": [
    {
     "name": "stdout",
     "output_type": "stream",
     "text": [
      "\n",
      "Chroma shape for song 0220: (3634, 26)\n",
      "Tuning shape for song 0220: (1, 5)\n",
      "\n",
      "Sample of chroma data:\n",
      "               0        1    2    3    4    5    6    7    8    9   ...   16  \\\n",
      "0  /tmp/audio.wav  0.00000  0.0  0.0  0.0  0.0  0.0  0.0  0.0  0.0  ...  0.0   \n",
      "1             NaN  0.04644  0.0  0.0  0.0  0.0  0.0  0.0  0.0  0.0  ...  0.0   \n",
      "2             NaN  0.09288  0.0  0.0  0.0  0.0  0.0  0.0  0.0  0.0  ...  0.0   \n",
      "3             NaN  0.13932  0.0  0.0  0.0  0.0  0.0  0.0  0.0  0.0  ...  0.0   \n",
      "4             NaN  0.18576  0.0  0.0  0.0  0.0  0.0  0.0  0.0  0.0  ...  0.0   \n",
      "\n",
      "    17   18   19   20   21   22   23   24   25  \n",
      "0  0.0  0.0  0.0  0.0  0.0  0.0  0.0  0.0  0.0  \n",
      "1  0.0  0.0  0.0  0.0  0.0  0.0  0.0  0.0  0.0  \n",
      "2  0.0  0.0  0.0  0.0  0.0  0.0  0.0  0.0  0.0  \n",
      "3  0.0  0.0  0.0  0.0  0.0  0.0  0.0  0.0  0.0  \n",
      "4  0.0  0.0  0.0  0.0  0.0  0.0  0.0  0.0  0.0  \n",
      "\n",
      "[5 rows x 26 columns]\n",
      "\n",
      "Number of chord segments for song 0220: 81\n",
      "\n",
      "Sample of chord labels:\n",
      "   start_time  end_time chord\n",
      "0    0.000000  0.580499     N\n",
      "1    0.580499  3.365577     N\n",
      "2    3.365577  3.675030     N\n",
      "3    3.675030  6.150654   E:7\n",
      "4    6.150654  8.626279   E:7\n",
      "\n",
      "Number of unique chords in song 0220: 18\n",
      "\n",
      "Most common chords:\n",
      "chord\n",
      "Bb:maj    13\n",
      "A:maj     11\n",
      "F:7        9\n",
      "E:7        8\n",
      "N          7\n",
      "D:maj      5\n",
      "Eb:maj     5\n",
      "B:7        4\n",
      "C:7        4\n",
      "A:7        2\n",
      "Name: count, dtype: int64\n"
     ]
    }
   ],
   "source": [
    "# Explore one example\n",
    "example_id = list(common_ids)[random.randint(0, len(common_ids))]\n",
    "\n",
    "# Load chroma features for the example song\n",
    "chroma_path = chordino_dir / example_id / 'bothchroma.csv'\n",
    "tuning_path = chordino_dir / example_id / 'tuning.csv'\n",
    "\n",
    "if chroma_path.exists() and tuning_path.exists():\n",
    "    chroma_data = pd.read_csv(chroma_path, header=None)\n",
    "    tuning_data = pd.read_csv(tuning_path, header=None)\n",
    "    \n",
    "    print(f\"\\nChroma shape for song {example_id}: {chroma_data.shape}\")\n",
    "    print(f\"Tuning shape for song {example_id}: {tuning_data.shape}\")\n",
    "    \n",
    "    # Display a sample of the chroma data\n",
    "    print(\"\\nSample of chroma data:\")\n",
    "    print(chroma_data.head())\n",
    "else:\n",
    "    print(f\"Chroma or tuning data not found for song {example_id}\")\n",
    "\n",
    "# Load chord labels for the example song\n",
    "lab_path = lab_dir / example_id / \"full.lab\"\n",
    "\n",
    "if lab_path.exists():\n",
    "    # Read the lab file (tab-separated with no header)\n",
    "    lab_data = pd.read_csv(lab_path, sep='\\t', header=None, names=['start_time', 'end_time', 'chord'])\n",
    "    \n",
    "    print(f\"\\nNumber of chord segments for song {example_id}: {len(lab_data)}\")\n",
    "    print(\"\\nSample of chord labels:\")\n",
    "    print(lab_data.head())\n",
    "    \n",
    "    # Count the unique chords in this song\n",
    "    print(f\"\\nNumber of unique chords in song {example_id}: {lab_data['chord'].nunique()}\")\n",
    "    print(\"\\nMost common chords:\")\n",
    "    print(lab_data['chord'].value_counts().head(10))\n",
    "else:\n",
    "    print(f\"Lab file not found for song {example_id}\")"
   ]
  },
  {
   "cell_type": "code",
   "execution_count": 12,
   "metadata": {},
   "outputs": [
    {
     "name": "stdout",
     "output_type": "stream",
     "text": [
      "Chroma shape for song 0220: (3634, 26)\n",
      "\n",
      "Sample of chroma data:\n",
      "               0        1    2    3    4    5    6    7    8    9   ...   16  \\\n",
      "0  /tmp/audio.wav  0.00000  0.0  0.0  0.0  0.0  0.0  0.0  0.0  0.0  ...  0.0   \n",
      "1             NaN  0.04644  0.0  0.0  0.0  0.0  0.0  0.0  0.0  0.0  ...  0.0   \n",
      "2             NaN  0.09288  0.0  0.0  0.0  0.0  0.0  0.0  0.0  0.0  ...  0.0   \n",
      "3             NaN  0.13932  0.0  0.0  0.0  0.0  0.0  0.0  0.0  0.0  ...  0.0   \n",
      "4             NaN  0.18576  0.0  0.0  0.0  0.0  0.0  0.0  0.0  0.0  ...  0.0   \n",
      "\n",
      "    17   18   19   20   21   22   23   24   25  \n",
      "0  0.0  0.0  0.0  0.0  0.0  0.0  0.0  0.0  0.0  \n",
      "1  0.0  0.0  0.0  0.0  0.0  0.0  0.0  0.0  0.0  \n",
      "2  0.0  0.0  0.0  0.0  0.0  0.0  0.0  0.0  0.0  \n",
      "3  0.0  0.0  0.0  0.0  0.0  0.0  0.0  0.0  0.0  \n",
      "4  0.0  0.0  0.0  0.0  0.0  0.0  0.0  0.0  0.0  \n",
      "\n",
      "[5 rows x 26 columns]\n"
     ]
    },
    {
     "data": {
      "image/png": "[encoded data removed]",
      "text/plain": [
       "<Figure size 1200x400 with 2 Axes>"
      ]
     },
     "metadata": {},
     "output_type": "display_data"
    }
   ],
   "source": [
    "print(f\"Chroma shape for song {example_id}: {chroma_data.shape}\")\n",
    "print(\"\\nSample of chroma data:\")\n",
    "print(chroma_data.head())\n",
    "\n",
    "# Plot chroma data\n",
    "plt.figure(figsize=(12, 4))\n",
    "sns.heatmap(chroma_data.iloc[:, 2:].T, cmap='coolwarm', cbar=True)\n",
    "plt.title(f'Chroma Feature Heatmap for Song {example_id}')\n",
    "plt.xlabel('Time frames')\n",
    "plt.ylabel('Pitch Class')\n",
    "plt.show()"
   ]
  },
  {
   "cell_type": "code",
   "execution_count": 13,
   "metadata": {},
   "outputs": [
    {
     "name": "stdout",
     "output_type": "stream",
     "text": [
      "Number of chord segments for song 0220: 81\n",
      "\n",
      "Sample of chord segments:\n",
      "      start       end chord\n",
      "0  0.000000  0.580499     N\n",
      "1  0.580499  3.365577     N\n",
      "2  3.365577  3.675030     N\n",
      "3  3.675030  6.150654   E:7\n",
      "4  6.150654  8.626279   E:7\n"
     ]
    }
   ],
   "source": [
    "# Load chord labels\n",
    "lab_data = pd.read_csv(lab_dir / example_id / \"full.lab\", sep='\\t', names=['start', 'end', 'chord'])\n",
    "\n",
    "print(f\"Number of chord segments for song {example_id}: {len(lab_data)}\")\n",
    "print(\"\\nSample of chord segments:\")\n",
    "print(lab_data.head())"
   ]
  },
  {
   "cell_type": "code",
   "execution_count": 14,
   "metadata": {},
   "outputs": [
    {
     "name": "stdout",
     "output_type": "stream",
     "text": [
      "Number of unique chords in song 0220: 18\n"
     ]
    }
   ],
   "source": [
    "# Count unique chords\n",
    "unique_chords = lab_data['chord'].nunique()\n",
    "print(f\"Number of unique chords in song {example_id}: {unique_chords}\")"
   ]
  },
  {
   "cell_type": "code",
   "execution_count": 15,
   "metadata": {},
   "outputs": [
    {
     "name": "stdout",
     "output_type": "stream",
     "text": [
      "Most common chords:\n",
      "chord\n",
      "Bb:maj    13\n",
      "A:maj     11\n",
      "F:7        9\n",
      "E:7        8\n",
      "N          7\n",
      "D:maj      5\n",
      "Eb:maj     5\n",
      "B:7        4\n",
      "C:7        4\n",
      "A:7        2\n",
      "Name: count, dtype: int64\n"
     ]
    }
   ],
   "source": [
    "# Most frequent chords\n",
    "most_common_chords = lab_data['chord'].value_counts().head(10)\n",
    "print(\"Most common chords:\")\n",
    "print(most_common_chords)"
   ]
  },
  {
   "cell_type": "code",
   "execution_count": 16,
   "metadata": {},
   "outputs": [],
   "source": [
    "def load_chroma(song_id):\n",
    "    \"\"\"Load chroma features for a given song ID\"\"\"\n",
    "    chroma_path = chordino_dir / song_id / 'bothchroma.csv'\n",
    "    \n",
    "    if not chroma_path.exists():\n",
    "        return None\n",
    "    \n",
    "    # Read the file as text first to understand the structure\n",
    "    with open(chroma_path, 'r') as f:\n",
    "        first_line = f.readline().strip()\n",
    "    \n",
    "    # Check the structure of the file\n",
    "    columns = first_line.split(',')\n",
    "    \n",
    "    # Based on your description, we need to handle two different formats\n",
    "    if len(columns) >= 14:  # First two columns are non-numeric, followed by 12 chroma values\n",
    "        # Load the chroma features, skipping the non-numeric metadata columns\n",
    "        chroma_data = pd.read_csv(chroma_path, header=None, usecols=range(2, 14))\n",
    "    else:\n",
    "        # If the format is different, try to determine which columns contain the chroma features\n",
    "        # For now, we'll just use all columns and convert non-numeric to NaN\n",
    "        chroma_data = pd.read_csv(chroma_path, header=None)\n",
    "        # Convert to numeric, coercing errors to NaN\n",
    "        for col in chroma_data.columns:\n",
    "            chroma_data[col] = pd.to_numeric(chroma_data[col], errors='coerce')\n",
    "        # Drop columns with NaN values (these are likely non-numeric metadata columns)\n",
    "        chroma_data = chroma_data.dropna(axis=1)\n",
    "    \n",
    "    # Convert to numpy array, ensuring all values are numeric\n",
    "    chroma_array = chroma_data.values.astype(np.float32)\n",
    "    \n",
    "    # Check for invalid values and replace with zeros\n",
    "    chroma_array = np.nan_to_num(chroma_array)\n",
    "    \n",
    "    return chroma_array\n",
    "\n",
    "def load_chord_labels(song_id):\n",
    "    \"\"\"Load chord labels for a given song ID\"\"\"\n",
    "    lab_path = lab_dir / song_id / \"full.lab\"\n",
    "    \n",
    "    if not lab_path.exists():\n",
    "        return None\n",
    "    \n",
    "    # Load the chord labels\n",
    "    lab_data = pd.read_csv(lab_path, sep='\\t', header=None, names=['start_time', 'end_time', 'chord'])\n",
    "    \n",
    "    return lab_data\n",
    "\n",
    "def get_chroma_timestamps(chroma_array, hop_size=0.01):\n",
    "    \"\"\"Generate timestamps for chroma features\"\"\"\n",
    "    # Chordino typically uses a 0.01s hop size (10ms)\n",
    "    return np.arange(len(chroma_array)) * hop_size\n",
    "\n",
    "def align_chroma_with_chords(chroma_array, chord_data, chroma_hop_size=0.01):\n",
    "    \"\"\"Align chroma features with chord labels\"\"\"\n",
    "    chroma_times = get_chroma_timestamps(chroma_array, chroma_hop_size)\n",
    "    aligned_chords = []\n",
    "    \n",
    "    for i, time in enumerate(chroma_times):\n",
    "        # Find the chord label for this time point\n",
    "        chord_idx = ((chord_data['start_time'] <= time) & (chord_data['end_time'] > time)).idxmax()\n",
    "        if pd.isna(chord_idx):  # No matching chord found\n",
    "            chord = \"N\"  # No chord (silence or undefined)\n",
    "        else:\n",
    "            chord = chord_data.loc[chord_idx, 'chord']\n",
    "        \n",
    "        aligned_chords.append(chord)\n",
    "    \n",
    "    return aligned_chords"
   ]
  },
  {
   "cell_type": "code",
   "execution_count": 17,
   "metadata": {},
   "outputs": [
    {
     "name": "stderr",
     "output_type": "stream",
     "text": [
      "100%|██████████| 100/100 [01:04<00:00,  1.55it/s]"
     ]
    },
    {
     "name": "stdout",
     "output_type": "stream",
     "text": [
      "Successfully processed 100 songs, failed to process 0 songs\n",
      "Processed 100 songs\n",
      "Number of unique chords: 209\n",
      "Some example chords: ['B:maj6(b7)', 'Bb:sus4(b7)/b7', 'B:sus4(b7,9)', 'B:sus4', 'F#:sus4', 'A:maj6', 'B:min(11)', 'E:maj/b7', 'G:7', 'D:min9']\n"
     ]
    },
    {
     "name": "stderr",
     "output_type": "stream",
     "text": [
      "\n"
     ]
    }
   ],
   "source": [
    "def build_dataset(song_ids, max_songs=100):\n",
    "    \"\"\"Build a dataset of chroma features and chord labels\"\"\"\n",
    "    X = []  # Chroma features\n",
    "    y = []  # Chord labels\n",
    "    \n",
    "    processed_songs = 0\n",
    "    all_chords = []\n",
    "    failed_songs = 0\n",
    "    \n",
    "    for song_id in tqdm(song_ids):\n",
    "        if processed_songs >= max_songs:\n",
    "            break\n",
    "            \n",
    "        try:\n",
    "            # Load chroma and chord data\n",
    "            chroma_array = load_chroma(song_id)\n",
    "            chord_data = load_chord_labels(song_id)\n",
    "            \n",
    "            if chroma_array is None or chord_data is None:\n",
    "                continue\n",
    "                \n",
    "            # Make sure chroma data is strictly numerical and contains no NaNs or Infs\n",
    "            if not np.isfinite(chroma_array).all():\n",
    "                print(f\"Warning: Song {song_id} has non-finite values in chroma. Skipping.\")\n",
    "                failed_songs += 1\n",
    "                continue\n",
    "                \n",
    "            # Align chroma with chords\n",
    "            aligned_chords = align_chroma_with_chords(chroma_array, chord_data)\n",
    "            \n",
    "            # Add to dataset\n",
    "            X.append(chroma_array)\n",
    "            y.append(aligned_chords)\n",
    "            \n",
    "            # Track all unique chords\n",
    "            all_chords.extend(set(aligned_chords))\n",
    "            \n",
    "            processed_songs += 1\n",
    "        except Exception as e:\n",
    "            print(f\"Error processing song {song_id}: {e}\")\n",
    "            failed_songs += 1\n",
    "    \n",
    "    print(f\"Successfully processed {processed_songs} songs, failed to process {failed_songs} songs\")\n",
    "    return X, y, list(set(all_chords))\n",
    "\n",
    "# Let's start with a smaller dataset\n",
    "sample_size = min(100, len(common_ids))\n",
    "song_subset = list(common_ids)[:sample_size]\n",
    "\n",
    "# Build the initial dataset\n",
    "X_songs, y_songs, unique_chords = build_dataset(song_subset, max_songs=sample_size)\n",
    "\n",
    "print(f\"Processed {len(X_songs)} songs\")\n",
    "print(f\"Number of unique chords: {len(unique_chords)}\")\n",
    "print(f\"Some example chords: {unique_chords[:10]}\")"
   ]
  },
  {
   "cell_type": "code",
   "execution_count": 18,
   "metadata": {},
   "outputs": [],
   "source": [
    "# Flatten the dataset to frame-level\n",
    "def flatten_dataset(X_songs, y_songs):\n",
    "    \"\"\"Convert song-level dataset to frame-level\"\"\"\n",
    "    X_frames = []\n",
    "    y_frames = []\n",
    "    \n",
    "    for i in range(len(X_songs)):\n",
    "        X_frames.extend(X_songs[i])\n",
    "        y_frames.extend(y_songs[i])\n",
    "        \n",
    "    # Convert to numpy array and ensure correct data type\n",
    "    X_frames_np = np.array(X_frames, dtype=np.float32)\n",
    "    y_frames_np = np.array(y_frames)\n",
    "    \n",
    "    return X_frames_np, y_frames_np"
   ]
  },
  {
   "cell_type": "code",
   "execution_count": 19,
   "metadata": {},
   "outputs": [
    {
     "name": "stdout",
     "output_type": "stream",
     "text": [
      "Total frames: 461008\n",
      "Feature shape: (461008, 12)\n",
      "Max chroma value is 3.367959976196289, normalizing to [0, 1] range\n",
      "Number of chord classes: 209\n",
      "Training set: (368806, 12)\n",
      "Testing set: (92202, 12)\n"
     ]
    }
   ],
   "source": [
    "# Check if we have data to process\n",
    "if len(X_songs) > 0:\n",
    "    X_flat, y_flat = flatten_dataset(X_songs, y_songs)\n",
    "\n",
    "    print(f\"Total frames: {len(X_flat)}\")\n",
    "    print(f\"Feature shape: {X_flat.shape}\")\n",
    "    \n",
    "    # Check for any remaining non-finite values\n",
    "    non_finite_count = np.sum(~np.isfinite(X_flat))\n",
    "    if non_finite_count > 0:\n",
    "        print(f\"Warning: {non_finite_count} non-finite values found in the flattened data.\")\n",
    "        # Replace non-finite values with zeros\n",
    "        X_flat = np.nan_to_num(X_flat)\n",
    "        \n",
    "    # Make sure the data is normalized (important for neural networks)\n",
    "    # Chroma features are typically already between 0 and 1, but let's check\n",
    "    max_value = np.max(X_flat)\n",
    "    if max_value > 1.0:\n",
    "        print(f\"Max chroma value is {max_value}, normalizing to [0, 1] range\")\n",
    "        X_flat = X_flat / max_value\n",
    "\n",
    "    # Encode the chord labels\n",
    "    label_encoder = LabelEncoder()\n",
    "    try:\n",
    "        y_encoded = label_encoder.fit_transform(y_flat)\n",
    "        \n",
    "        # Save the label encoder for later use\n",
    "        os.makedirs('models', exist_ok=True)\n",
    "        with open('models/chord_label_encoder.pkl', 'wb') as f:\n",
    "            pickle.dump(label_encoder, f)\n",
    "        \n",
    "        # Get the number of classes\n",
    "        n_classes = len(label_encoder.classes_)\n",
    "        print(f\"Number of chord classes: {n_classes}\")\n",
    "        \n",
    "        # Convert to one-hot encoding\n",
    "        y_onehot = to_categorical(y_encoded, num_classes=n_classes)\n",
    "        \n",
    "        # Split into training and testing sets\n",
    "        X_train, X_test, y_train, y_test = train_test_split(X_flat, y_onehot, test_size=0.2, random_state=42)\n",
    "        \n",
    "        print(f\"Training set: {X_train.shape}\")\n",
    "        print(f\"Testing set: {X_test.shape}\")\n",
    "    except Exception as e:\n",
    "        print(f\"Error in encoding labels: {e}\")\n",
    "        print(\"This may be due to empty or invalid chord labels.\")\n",
    "else:\n",
    "    print(\"No data to process. Check the dataset loading steps above for errors.\")"
   ]
  },
  {
   "cell_type": "code",
   "execution_count": 20,
   "metadata": {},
   "outputs": [
    {
     "name": "stdout",
     "output_type": "stream",
     "text": [
      "Top 20 chords:\n",
      "A:maj: 34977\n",
      "G:maj: 25720\n",
      "C:maj: 24605\n",
      "N: 24048\n",
      "D:maj: 20966\n",
      "E:maj: 20199\n",
      "Bb:maj: 15427\n",
      "F:maj: 14893\n",
      "E:min: 12902\n",
      "A:min: 12892\n",
      "D:min: 9792\n",
      "B:maj: 9473\n",
      "C:min: 8383\n",
      "D:7: 7650\n",
      "F:7: 7470\n",
      "A:7: 7390\n",
      "Ab:7(#9): 7146\n",
      "F:min: 5924\n",
      "G:7: 5571\n",
      "C:7: 4898\n"
     ]
    },
    {
     "data": {
      "image/png": "[encoded data removed]",
      "text/plain": [
       "<Figure size 1200x600 with 1 Axes>"
      ]
     },
     "metadata": {},
     "output_type": "display_data"
    }
   ],
   "source": [
    "# Count chord occurrences\n",
    "chord_counts = Counter(y_flat)\n",
    "\n",
    "# Get the top 20 chords\n",
    "top_chords = chord_counts.most_common(20)\n",
    "print(\"Top 20 chords:\")\n",
    "for chord, count in top_chords:\n",
    "    print(f\"{chord}: {count}\")\n",
    "\n",
    "# Visualize chord distribution\n",
    "plt.figure(figsize=(12, 6))\n",
    "counts = [count for _, count in top_chords]\n",
    "labels = [chord for chord, _ in top_chords]\n",
    "\n",
    "plt.bar(range(len(counts)), counts)\n",
    "plt.xticks(range(len(counts)), labels, rotation=45, ha='right')\n",
    "plt.title('Top 20 Chord Frequencies')\n",
    "plt.tight_layout()\n",
    "plt.show()"
   ]
  },
  {
   "cell_type": "code",
   "execution_count": 21,
   "metadata": {},
   "outputs": [],
   "source": [
    "# Build and Train Models\n",
    "\n",
    "def create_feedforward_model(input_shape, n_classes):\n",
    "    \"\"\"Create a simple feedforward neural network optimized for chroma input\"\"\"\n",
    "    model = Sequential([\n",
    "        # Input layer - shape is (12,) for chroma vectors\n",
    "        Dense(128, activation='relu', input_shape=input_shape),\n",
    "        BatchNormalization(),\n",
    "        Dropout(0.3),\n",
    "        \n",
    "        # Hidden layers\n",
    "        Dense(256, activation='relu'),\n",
    "        BatchNormalization(),\n",
    "        Dropout(0.4),\n",
    "        \n",
    "        Dense(256, activation='relu'),\n",
    "        BatchNormalization(),\n",
    "        Dropout(0.4),\n",
    "        \n",
    "        Dense(128, activation='relu'),\n",
    "        BatchNormalization(),\n",
    "        Dropout(0.3),\n",
    "        \n",
    "        # Output layer\n",
    "        Dense(n_classes, activation='softmax')\n",
    "    ])\n",
    "    \n",
    "    model.compile(\n",
    "        optimizer=tf.keras.optimizers.Adam(learning_rate=0.001),\n",
    "        loss='categorical_crossentropy',\n",
    "        metrics=['accuracy']\n",
    "    )\n",
    "    \n",
    "    return model\n",
    "\n",
    "def create_cnn_model(input_shape, n_classes):\n",
    "    \"\"\"Create a 1D CNN model for chroma processing\"\"\"\n",
    "    # For chroma vectors, we reshape to (12, 1) to apply 1D convolutions\n",
    "    model = Sequential([\n",
    "        # Input layer\n",
    "        Input(shape=input_shape),\n",
    "        \n",
    "        # Reshape to have a time dimension (treating the 12 chroma bins as a sequence)\n",
    "        tf.keras.layers.Reshape((input_shape[0], 1)),\n",
    "        \n",
    "        # First conv block\n",
    "        Conv1D(64, kernel_size=3, padding='same', activation='relu'),\n",
    "        BatchNormalization(),\n",
    "        MaxPooling1D(pool_size=2),\n",
    "        Dropout(0.3),\n",
    "        \n",
    "        # Second conv block\n",
    "        Conv1D(128, kernel_size=3, padding='same', activation='relu'),\n",
    "        BatchNormalization(),\n",
    "        MaxPooling1D(pool_size=2),\n",
    "        Dropout(0.3),\n",
    "        \n",
    "        # Flatten and dense layers\n",
    "        Flatten(),\n",
    "        Dense(256, activation='relu'),\n",
    "        BatchNormalization(),\n",
    "        Dropout(0.4),\n",
    "        Dense(128, activation='relu'),\n",
    "        BatchNormalization(),\n",
    "        Dropout(0.3),\n",
    "        \n",
    "        # Output layer\n",
    "        Dense(n_classes, activation='softmax')\n",
    "    ])\n",
    "    \n",
    "    model.compile(\n",
    "        optimizer=tf.keras.optimizers.Adam(learning_rate=0.001),\n",
    "        loss='categorical_crossentropy',\n",
    "        metrics=['accuracy']\n",
    "    )\n",
    "    \n",
    "    return model\n",
    "\n",
    "def create_lstm_model(input_shape, n_classes):\n",
    "    \"\"\"Create an LSTM model for chroma sequences\"\"\"\n",
    "    # Reshape chroma vectors to sequences\n",
    "    model = Sequential([\n",
    "        # Input layer\n",
    "        Input(shape=input_shape),\n",
    "        \n",
    "        # Reshape to have a time dimension\n",
    "        tf.keras.layers.Reshape((input_shape[0], 1)),\n",
    "        \n",
    "        # LSTM layers\n",
    "        LSTM(128, return_sequences=True),\n",
    "        BatchNormalization(),\n",
    "        Dropout(0.4),\n",
    "        \n",
    "        LSTM(64),\n",
    "        BatchNormalization(),\n",
    "        Dropout(0.3),\n",
    "        \n",
    "        # Dense layers\n",
    "        Dense(128, activation='relu'),\n",
    "        BatchNormalization(),\n",
    "        Dropout(0.3),\n",
    "        \n",
    "        # Output layer\n",
    "        Dense(n_classes, activation='softmax')\n",
    "    ])\n",
    "    \n",
    "    model.compile(\n",
    "        optimizer=tf.keras.optimizers.Adam(learning_rate=0.001),\n",
    "        loss='categorical_crossentropy',\n",
    "        metrics=['accuracy']\n",
    "    )\n",
    "    \n",
    "    return model"
   ]
  },
  {
   "cell_type": "code",
   "execution_count": null,
   "metadata": {},
   "outputs": [
    {
     "name": "stdout",
     "output_type": "stream",
     "text": [
      "Input shape for models: (12,)\n",
      "\n",
      "--- Training Feedforward Model ---\n"
     ]
    },
    {
     "name": "stderr",
     "output_type": "stream",
     "text": [
      "c:\\Users\\RohanGupta\\AppData\\Local\\Programs\\Python\\Python312\\Lib\\site-packages\\keras\\src\\layers\\core\\dense.py:87: UserWarning: Do not pass an `input_shape`/`input_dim` argument to a layer. When using Sequential models, prefer using an `Input(shape)` object as the first layer in the model instead.\n",
      "  super().__init__(activity_regularizer=activity_regularizer, **kwargs)\n"
     ]
    },
    {
     "data": {
      "text/html": [
       "<pre style=\"white-space:pre;overflow-x:auto;line-height:normal;font-family:Menlo,'DejaVu Sans Mono',consolas,'Courier New',monospace\"><span style=\"font-weight: bold\">Model: \"sequential\"</span>\n",
       "</pre>\n"
      ],
      "text/plain": [
       "\u001b[1mModel: \"sequential\"\u001b[0m\n"
      ]
     },
     "metadata": {},
     "output_type": "display_data"
    },
    {
     "data": {
      "text/html": [
       "<pre style=\"white-space:pre;overflow-x:auto;line-height:normal;font-family:Menlo,'DejaVu Sans Mono',consolas,'Courier New',monospace\">┏━━━━━━━━━━━━━━━━━━━━━━━━━━━━━━━━━┳━━━━━━━━━━━━━━━━━━━━━━━━┳━━━━━━━━━━━━━━━┓\n",
       "┃<span style=\"font-weight: bold\"> Layer (type)                    </span>┃<span style=\"font-weight: bold\"> Output Shape           </span>┃<span style=\"font-weight: bold\">       Param # </span>┃\n",
       "┡━━━━━━━━━━━━━━━━━━━━━━━━━━━━━━━━━╇━━━━━━━━━━━━━━━━━━━━━━━━╇━━━━━━━━━━━━━━━┩\n",
       "│ dense (<span style=\"color: #0087ff; text-decoration-color: #0087ff\">Dense</span>)                   │ (<span style=\"color: #00d7ff; text-decoration-color: #00d7ff\">None</span>, <span style=\"color: #00af00; text-decoration-color: #00af00\">128</span>)            │         <span style=\"color: #00af00; text-decoration-color: #00af00\">1,664</span> │\n",
       "├─────────────────────────────────┼────────────────────────┼───────────────┤\n",
       "│ batch_normalization             │ (<span style=\"color: #00d7ff; text-decoration-color: #00d7ff\">None</span>, <span style=\"color: #00af00; text-decoration-color: #00af00\">128</span>)            │           <span style=\"color: #00af00; text-decoration-color: #00af00\">512</span> │\n",
       "│ (<span style=\"color: #0087ff; text-decoration-color: #0087ff\">BatchNormalization</span>)            │                        │               │\n",
       "├─────────────────────────────────┼────────────────────────┼───────────────┤\n",
       "│ dropout (<span style=\"color: #0087ff; text-decoration-color: #0087ff\">Dropout</span>)               │ (<span style=\"color: #00d7ff; text-decoration-color: #00d7ff\">None</span>, <span style=\"color: #00af00; text-decoration-color: #00af00\">128</span>)            │             <span style=\"color: #00af00; text-decoration-color: #00af00\">0</span> │\n",
       "├─────────────────────────────────┼────────────────────────┼───────────────┤\n",
       "│ dense_1 (<span style=\"color: #0087ff; text-decoration-color: #0087ff\">Dense</span>)                 │ (<span style=\"color: #00d7ff; text-decoration-color: #00d7ff\">None</span>, <span style=\"color: #00af00; text-decoration-color: #00af00\">256</span>)            │        <span style=\"color: #00af00; text-decoration-color: #00af00\">33,024</span> │\n",
       "├─────────────────────────────────┼────────────────────────┼───────────────┤\n",
       "│ batch_normalization_1           │ (<span style=\"color: #00d7ff; text-decoration-color: #00d7ff\">None</span>, <span style=\"color: #00af00; text-decoration-color: #00af00\">256</span>)            │         <span style=\"color: #00af00; text-decoration-color: #00af00\">1,024</span> │\n",
       "│ (<span style=\"color: #0087ff; text-decoration-color: #0087ff\">BatchNormalization</span>)            │                        │               │\n",
       "├─────────────────────────────────┼────────────────────────┼───────────────┤\n",
       "│ dropout_1 (<span style=\"color: #0087ff; text-decoration-color: #0087ff\">Dropout</span>)             │ (<span style=\"color: #00d7ff; text-decoration-color: #00d7ff\">None</span>, <span style=\"color: #00af00; text-decoration-color: #00af00\">256</span>)            │             <span style=\"color: #00af00; text-decoration-color: #00af00\">0</span> │\n",
       "├─────────────────────────────────┼────────────────────────┼───────────────┤\n",
       "│ dense_2 (<span style=\"color: #0087ff; text-decoration-color: #0087ff\">Dense</span>)                 │ (<span style=\"color: #00d7ff; text-decoration-color: #00d7ff\">None</span>, <span style=\"color: #00af00; text-decoration-color: #00af00\">256</span>)            │        <span style=\"color: #00af00; text-decoration-color: #00af00\">65,792</span> │\n",
       "├─────────────────────────────────┼────────────────────────┼───────────────┤\n",
       "│ batch_normalization_2           │ (<span style=\"color: #00d7ff; text-decoration-color: #00d7ff\">None</span>, <span style=\"color: #00af00; text-decoration-color: #00af00\">256</span>)            │         <span style=\"color: #00af00; text-decoration-color: #00af00\">1,024</span> │\n",
       "│ (<span style=\"color: #0087ff; text-decoration-color: #0087ff\">BatchNormalization</span>)            │                        │               │\n",
       "├─────────────────────────────────┼────────────────────────┼───────────────┤\n",
       "│ dropout_2 (<span style=\"color: #0087ff; text-decoration-color: #0087ff\">Dropout</span>)             │ (<span style=\"color: #00d7ff; text-decoration-color: #00d7ff\">None</span>, <span style=\"color: #00af00; text-decoration-color: #00af00\">256</span>)            │             <span style=\"color: #00af00; text-decoration-color: #00af00\">0</span> │\n",
       "├─────────────────────────────────┼────────────────────────┼───────────────┤\n",
       "│ dense_3 (<span style=\"color: #0087ff; text-decoration-color: #0087ff\">Dense</span>)                 │ (<span style=\"color: #00d7ff; text-decoration-color: #00d7ff\">None</span>, <span style=\"color: #00af00; text-decoration-color: #00af00\">128</span>)            │        <span style=\"color: #00af00; text-decoration-color: #00af00\">32,896</span> │\n",
       "├─────────────────────────────────┼────────────────────────┼───────────────┤\n",
       "│ batch_normalization_3           │ (<span style=\"color: #00d7ff; text-decoration-color: #00d7ff\">None</span>, <span style=\"color: #00af00; text-decoration-color: #00af00\">128</span>)            │           <span style=\"color: #00af00; text-decoration-color: #00af00\">512</span> │\n",
       "│ (<span style=\"color: #0087ff; text-decoration-color: #0087ff\">BatchNormalization</span>)            │                        │               │\n",
       "├─────────────────────────────────┼────────────────────────┼───────────────┤\n",
       "│ dropout_3 (<span style=\"color: #0087ff; text-decoration-color: #0087ff\">Dropout</span>)             │ (<span style=\"color: #00d7ff; text-decoration-color: #00d7ff\">None</span>, <span style=\"color: #00af00; text-decoration-color: #00af00\">128</span>)            │             <span style=\"color: #00af00; text-decoration-color: #00af00\">0</span> │\n",
       "├─────────────────────────────────┼────────────────────────┼───────────────┤\n",
       "│ dense_4 (<span style=\"color: #0087ff; text-decoration-color: #0087ff\">Dense</span>)                 │ (<span style=\"color: #00d7ff; text-decoration-color: #00d7ff\">None</span>, <span style=\"color: #00af00; text-decoration-color: #00af00\">209</span>)            │        <span style=\"color: #00af00; text-decoration-color: #00af00\">26,961</span> │\n",
       "└─────────────────────────────────┴────────────────────────┴───────────────┘\n",
       "</pre>\n"
      ],
      "text/plain": [
       "┏━━━━━━━━━━━━━━━━━━━━━━━━━━━━━━━━━┳━━━━━━━━━━━━━━━━━━━━━━━━┳━━━━━━━━━━━━━━━┓\n",
       "┃\u001b[1m \u001b[0m\u001b[1mLayer (type)                   \u001b[0m\u001b[1m \u001b[0m┃\u001b[1m \u001b[0m\u001b[1mOutput Shape          \u001b[0m\u001b[1m \u001b[0m┃\u001b[1m \u001b[0m\u001b[1m      Param #\u001b[0m\u001b[1m \u001b[0m┃\n",
       "┡━━━━━━━━━━━━━━━━━━━━━━━━━━━━━━━━━╇━━━━━━━━━━━━━━━━━━━━━━━━╇━━━━━━━━━━━━━━━┩\n",
       "│ dense (\u001b[38;5;33mDense\u001b[0m)                   │ (\u001b[38;5;45mNone\u001b[0m, \u001b[38;5;34m128\u001b[0m)            │         \u001b[38;5;34m1,664\u001b[0m │\n",
       "├─────────────────────────────────┼────────────────────────┼───────────────┤\n",
       "│ batch_normalization             │ (\u001b[38;5;45mNone\u001b[0m, \u001b[38;5;34m128\u001b[0m)            │           \u001b[38;5;34m512\u001b[0m │\n",
       "│ (\u001b[38;5;33mBatchNormalization\u001b[0m)            │                        │               │\n",
       "├─────────────────────────────────┼────────────────────────┼───────────────┤\n",
       "│ dropout (\u001b[38;5;33mDropout\u001b[0m)               │ (\u001b[38;5;45mNone\u001b[0m, \u001b[38;5;34m128\u001b[0m)            │             \u001b[38;5;34m0\u001b[0m │\n",
       "├─────────────────────────────────┼────────────────────────┼───────────────┤\n",
       "│ dense_1 (\u001b[38;5;33mDense\u001b[0m)                 │ (\u001b[38;5;45mNone\u001b[0m, \u001b[38;5;34m256\u001b[0m)            │        \u001b[38;5;34m33,024\u001b[0m │\n",
       "├─────────────────────────────────┼────────────────────────┼───────────────┤\n",
       "│ batch_normalization_1           │ (\u001b[38;5;45mNone\u001b[0m, \u001b[38;5;34m256\u001b[0m)            │         \u001b[38;5;34m1,024\u001b[0m │\n",
       "│ (\u001b[38;5;33mBatchNormalization\u001b[0m)            │                        │               │\n",
       "├─────────────────────────────────┼────────────────────────┼───────────────┤\n",
       "│ dropout_1 (\u001b[38;5;33mDropout\u001b[0m)             │ (\u001b[38;5;45mNone\u001b[0m, \u001b[38;5;34m256\u001b[0m)            │             \u001b[38;5;34m0\u001b[0m │\n",
       "├─────────────────────────────────┼────────────────────────┼───────────────┤\n",
       "│ dense_2 (\u001b[38;5;33mDense\u001b[0m)                 │ (\u001b[38;5;45mNone\u001b[0m, \u001b[38;5;34m256\u001b[0m)            │        \u001b[38;5;34m65,792\u001b[0m │\n",
       "├─────────────────────────────────┼────────────────────────┼───────────────┤\n",
       "│ batch_normalization_2           │ (\u001b[38;5;45mNone\u001b[0m, \u001b[38;5;34m256\u001b[0m)            │         \u001b[38;5;34m1,024\u001b[0m │\n",
       "│ (\u001b[38;5;33mBatchNormalization\u001b[0m)            │                        │               │\n",
       "├─────────────────────────────────┼────────────────────────┼───────────────┤\n",
       "│ dropout_2 (\u001b[38;5;33mDropout\u001b[0m)             │ (\u001b[38;5;45mNone\u001b[0m, \u001b[38;5;34m256\u001b[0m)            │             \u001b[38;5;34m0\u001b[0m │\n",
       "├─────────────────────────────────┼────────────────────────┼───────────────┤\n",
       "│ dense_3 (\u001b[38;5;33mDense\u001b[0m)                 │ (\u001b[38;5;45mNone\u001b[0m, \u001b[38;5;34m128\u001b[0m)            │        \u001b[38;5;34m32,896\u001b[0m │\n",
       "├─────────────────────────────────┼────────────────────────┼───────────────┤\n",
       "│ batch_normalization_3           │ (\u001b[38;5;45mNone\u001b[0m, \u001b[38;5;34m128\u001b[0m)            │           \u001b[38;5;34m512\u001b[0m │\n",
       "│ (\u001b[38;5;33mBatchNormalization\u001b[0m)            │                        │               │\n",
       "├─────────────────────────────────┼────────────────────────┼───────────────┤\n",
       "│ dropout_3 (\u001b[38;5;33mDropout\u001b[0m)             │ (\u001b[38;5;45mNone\u001b[0m, \u001b[38;5;34m128\u001b[0m)            │             \u001b[38;5;34m0\u001b[0m │\n",
       "├─────────────────────────────────┼────────────────────────┼───────────────┤\n",
       "│ dense_4 (\u001b[38;5;33mDense\u001b[0m)                 │ (\u001b[38;5;45mNone\u001b[0m, \u001b[38;5;34m209\u001b[0m)            │        \u001b[38;5;34m26,961\u001b[0m │\n",
       "└─────────────────────────────────┴────────────────────────┴───────────────┘\n"
      ]
     },
     "metadata": {},
     "output_type": "display_data"
    },
    {
     "data": {
      "text/html": [
       "<pre style=\"white-space:pre;overflow-x:auto;line-height:normal;font-family:Menlo,'DejaVu Sans Mono',consolas,'Courier New',monospace\"><span style=\"font-weight: bold\"> Total params: </span><span style=\"color: #00af00; text-decoration-color: #00af00\">163,409</span> (638.32 KB)\n",
       "</pre>\n"
      ],
      "text/plain": [
       "\u001b[1m Total params: \u001b[0m\u001b[38;5;34m163,409\u001b[0m (638.32 KB)\n"
      ]
     },
     "metadata": {},
     "output_type": "display_data"
    },
    {
     "data": {
      "text/html": [
       "<pre style=\"white-space:pre;overflow-x:auto;line-height:normal;font-family:Menlo,'DejaVu Sans Mono',consolas,'Courier New',monospace\"><span style=\"font-weight: bold\"> Trainable params: </span><span style=\"color: #00af00; text-decoration-color: #00af00\">161,873</span> (632.32 KB)\n",
       "</pre>\n"
      ],
      "text/plain": [
       "\u001b[1m Trainable params: \u001b[0m\u001b[38;5;34m161,873\u001b[0m (632.32 KB)\n"
      ]
     },
     "metadata": {},
     "output_type": "display_data"
    },
    {
     "data": {
      "text/html": [
       "<pre style=\"white-space:pre;overflow-x:auto;line-height:normal;font-family:Menlo,'DejaVu Sans Mono',consolas,'Courier New',monospace\"><span style=\"font-weight: bold\"> Non-trainable params: </span><span style=\"color: #00af00; text-decoration-color: #00af00\">1,536</span> (6.00 KB)\n",
       "</pre>\n"
      ],
      "text/plain": [
       "\u001b[1m Non-trainable params: \u001b[0m\u001b[38;5;34m1,536\u001b[0m (6.00 KB)\n"
      ]
     },
     "metadata": {},
     "output_type": "display_data"
    },
    {
     "name": "stdout",
     "output_type": "stream",
     "text": [
      "None\n"
     ]
    }
   ],
   "source": [
    "# Create models directory if it doesn't exist\n",
    "os.makedirs('models', exist_ok=True)\n",
    "\n",
    "# Get input shape from training data\n",
    "input_shape = (X_train.shape[1],)\n",
    "print(f\"Input shape for models: {input_shape}\")\n",
    "\n",
    "# Define callbacks for training\n",
    "callbacks = [\n",
    "    EarlyStopping(patience=5, restore_best_weights=True, verbose=1),\n",
    "    ReduceLROnPlateau(factor=0.5, patience=3, min_lr=1e-5, verbose=1),\n",
    "    ModelCheckpoint('models/best_model_checkpoint.keras', save_best_only=True, verbose=0)\n",
    "]\n",
    "\n",
    "# Train the feedforward model\n",
    "\n",
    "ff_model = create_feedforward_model(input_shape, n_classes)\n",
    "print(ff_model.summary())"
   ]
  },
  {
   "cell_type": "code",
   "execution_count": 23,
   "metadata": {},
   "outputs": [
    {
     "name": "stdout",
     "output_type": "stream",
     "text": [
      "Epoch 1/30\n",
      "\u001b[1m2298/2306\u001b[0m \u001b[32m━━━━━━━━━━━━━━━━━━━\u001b[0m\u001b[37m━\u001b[0m \u001b[1m0s\u001b[0m 4ms/step - accuracy: 0.1035 - loss: 4.3196\n",
      "Epoch 1: val_loss improved from inf to 3.69313, saving model to models/best_model_checkpoint.keras\n",
      "\u001b[1m2306/2306\u001b[0m \u001b[32m━━━━━━━━━━━━━━━━━━━━\u001b[0m\u001b[37m\u001b[0m \u001b[1m12s\u001b[0m 4ms/step - accuracy: 0.1036 - loss: 4.3184 - val_accuracy: 0.1417 - val_loss: 3.6931 - learning_rate: 0.0010\n",
      "Epoch 2/30\n",
      "\u001b[1m2297/2306\u001b[0m \u001b[32m━━━━━━━━━━━━━━━━━━━\u001b[0m\u001b[37m━\u001b[0m \u001b[1m0s\u001b[0m 4ms/step - accuracy: 0.1331 - loss: 3.7764\n",
      "Epoch 2: val_loss improved from 3.69313 to 3.62460, saving model to models/best_model_checkpoint.keras\n",
      "\u001b[1m2306/2306\u001b[0m \u001b[32m━━━━━━━━━━━━━━━━━━━━\u001b[0m\u001b[37m\u001b[0m \u001b[1m10s\u001b[0m 4ms/step - accuracy: 0.1331 - loss: 3.7764 - val_accuracy: 0.1483 - val_loss: 3.6246 - learning_rate: 0.0010\n",
      "Epoch 3/30\n",
      "\u001b[1m2298/2306\u001b[0m \u001b[32m━━━━━━━━━━━━━━━━━━━\u001b[0m\u001b[37m━\u001b[0m \u001b[1m0s\u001b[0m 4ms/step - accuracy: 0.1389 - loss: 3.7236\n",
      "Epoch 3: val_loss improved from 3.62460 to 3.58225, saving model to models/best_model_checkpoint.keras\n",
      "\u001b[1m2306/2306\u001b[0m \u001b[32m━━━━━━━━━━━━━━━━━━━━\u001b[0m\u001b[37m\u001b[0m \u001b[1m10s\u001b[0m 4ms/step - accuracy: 0.1389 - loss: 3.7236 - val_accuracy: 0.1541 - val_loss: 3.5822 - learning_rate: 0.0010\n",
      "Epoch 4/30\n",
      "\u001b[1m2294/2306\u001b[0m \u001b[32m━━━━━━━━━━━━━━━━━━━\u001b[0m\u001b[37m━\u001b[0m \u001b[1m0s\u001b[0m 4ms/step - accuracy: 0.1421 - loss: 3.6892\n",
      "Epoch 4: val_loss improved from 3.58225 to 3.55505, saving model to models/best_model_checkpoint.keras\n",
      "\u001b[1m2306/2306\u001b[0m \u001b[32m━━━━━━━━━━━━━━━━━━━━\u001b[0m\u001b[37m\u001b[0m \u001b[1m10s\u001b[0m 4ms/step - accuracy: 0.1421 - loss: 3.6891 - val_accuracy: 0.1570 - val_loss: 3.5550 - learning_rate: 0.0010\n",
      "Epoch 5/30\n",
      "\u001b[1m2294/2306\u001b[0m \u001b[32m━━━━━━━━━━━━━━━━━━━\u001b[0m\u001b[37m━\u001b[0m \u001b[1m0s\u001b[0m 4ms/step - accuracy: 0.1428 - loss: 3.6667\n",
      "Epoch 5: val_loss improved from 3.55505 to 3.52998, saving model to models/best_model_checkpoint.keras\n",
      "\u001b[1m2306/2306\u001b[0m \u001b[32m━━━━━━━━━━━━━━━━━━━━\u001b[0m\u001b[37m\u001b[0m \u001b[1m10s\u001b[0m 4ms/step - accuracy: 0.1428 - loss: 3.6667 - val_accuracy: 0.1623 - val_loss: 3.5300 - learning_rate: 0.0010\n",
      "Epoch 6/30\n",
      "\u001b[1m2298/2306\u001b[0m \u001b[32m━━━━━━━━━━━━━━━━━━━\u001b[0m\u001b[37m━\u001b[0m \u001b[1m0s\u001b[0m 4ms/step - accuracy: 0.1465 - loss: 3.6547\n",
      "Epoch 6: val_loss improved from 3.52998 to 3.51544, saving model to models/best_model_checkpoint.keras\n",
      "\u001b[1m2306/2306\u001b[0m \u001b[32m━━━━━━━━━━━━━━━━━━━━\u001b[0m\u001b[37m\u001b[0m \u001b[1m10s\u001b[0m 4ms/step - accuracy: 0.1465 - loss: 3.6547 - val_accuracy: 0.1616 - val_loss: 3.5154 - learning_rate: 0.0010\n",
      "Epoch 7/30\n",
      "\u001b[1m2294/2306\u001b[0m \u001b[32m━━━━━━━━━━━━━━━━━━━\u001b[0m\u001b[37m━\u001b[0m \u001b[1m0s\u001b[0m 4ms/step - accuracy: 0.1485 - loss: 3.6338\n",
      "Epoch 7: val_loss improved from 3.51544 to 3.50070, saving model to models/best_model_checkpoint.keras\n",
      "\u001b[1m2306/2306\u001b[0m \u001b[32m━━━━━━━━━━━━━━━━━━━━\u001b[0m\u001b[37m\u001b[0m \u001b[1m10s\u001b[0m 4ms/step - accuracy: 0.1485 - loss: 3.6338 - val_accuracy: 0.1637 - val_loss: 3.5007 - learning_rate: 0.0010\n",
      "Epoch 8/30\n",
      "\u001b[1m2295/2306\u001b[0m \u001b[32m━━━━━━━━━━━━━━━━━━━\u001b[0m\u001b[37m━\u001b[0m \u001b[1m0s\u001b[0m 4ms/step - accuracy: 0.1487 - loss: 3.6290\n",
      "Epoch 8: val_loss improved from 3.50070 to 3.49093, saving model to models/best_model_checkpoint.keras\n",
      "\u001b[1m2306/2306\u001b[0m \u001b[32m━━━━━━━━━━━━━━━━━━━━\u001b[0m\u001b[37m\u001b[0m \u001b[1m10s\u001b[0m 5ms/step - accuracy: 0.1487 - loss: 3.6290 - val_accuracy: 0.1643 - val_loss: 3.4909 - learning_rate: 0.0010\n",
      "Epoch 9/30\n",
      "\u001b[1m2296/2306\u001b[0m \u001b[32m━━━━━━━━━━━━━━━━━━━\u001b[0m\u001b[37m━\u001b[0m \u001b[1m0s\u001b[0m 4ms/step - accuracy: 0.1495 - loss: 3.6220\n",
      "Epoch 9: val_loss improved from 3.49093 to 3.47884, saving model to models/best_model_checkpoint.keras\n",
      "\u001b[1m2306/2306\u001b[0m \u001b[32m━━━━━━━━━━━━━━━━━━━━\u001b[0m\u001b[37m\u001b[0m \u001b[1m11s\u001b[0m 5ms/step - accuracy: 0.1495 - loss: 3.6220 - val_accuracy: 0.1664 - val_loss: 3.4788 - learning_rate: 0.0010\n",
      "Epoch 10/30\n",
      "\u001b[1m2296/2306\u001b[0m \u001b[32m━━━━━━━━━━━━━━━━━━━\u001b[0m\u001b[37m━\u001b[0m \u001b[1m0s\u001b[0m 4ms/step - accuracy: 0.1491 - loss: 3.6130\n",
      "Epoch 10: val_loss improved from 3.47884 to 3.47084, saving model to models/best_model_checkpoint.keras\n",
      "\u001b[1m2306/2306\u001b[0m \u001b[32m━━━━━━━━━━━━━━━━━━━━\u001b[0m\u001b[37m\u001b[0m \u001b[1m11s\u001b[0m 5ms/step - accuracy: 0.1491 - loss: 3.6130 - val_accuracy: 0.1683 - val_loss: 3.4708 - learning_rate: 0.0010\n",
      "Epoch 11/30\n",
      "\u001b[1m2303/2306\u001b[0m \u001b[32m━━━━━━━━━━━━━━━━━━━\u001b[0m\u001b[37m━\u001b[0m \u001b[1m0s\u001b[0m 4ms/step - accuracy: 0.1504 - loss: 3.6078\n",
      "Epoch 11: val_loss improved from 3.47084 to 3.45966, saving model to models/best_model_checkpoint.keras\n",
      "\u001b[1m2306/2306\u001b[0m \u001b[32m━━━━━━━━━━━━━━━━━━━━\u001b[0m\u001b[37m\u001b[0m \u001b[1m10s\u001b[0m 4ms/step - accuracy: 0.1504 - loss: 3.6078 - val_accuracy: 0.1685 - val_loss: 3.4597 - learning_rate: 0.0010\n",
      "Epoch 12/30\n",
      "\u001b[1m2293/2306\u001b[0m \u001b[32m━━━━━━━━━━━━━━━━━━━\u001b[0m\u001b[37m━\u001b[0m \u001b[1m0s\u001b[0m 4ms/step - accuracy: 0.1513 - loss: 3.6017\n",
      "Epoch 12: val_loss improved from 3.45966 to 3.45097, saving model to models/best_model_checkpoint.keras\n",
      "\u001b[1m2306/2306\u001b[0m \u001b[32m━━━━━━━━━━━━━━━━━━━━\u001b[0m\u001b[37m\u001b[0m \u001b[1m11s\u001b[0m 5ms/step - accuracy: 0.1513 - loss: 3.6017 - val_accuracy: 0.1700 - val_loss: 3.4510 - learning_rate: 0.0010\n",
      "Epoch 13/30\n",
      "\u001b[1m2298/2306\u001b[0m \u001b[32m━━━━━━━━━━━━━━━━━━━\u001b[0m\u001b[37m━\u001b[0m \u001b[1m0s\u001b[0m 4ms/step - accuracy: 0.1540 - loss: 3.5899\n",
      "Epoch 13: val_loss improved from 3.45097 to 3.44698, saving model to models/best_model_checkpoint.keras\n",
      "\u001b[1m2306/2306\u001b[0m \u001b[32m━━━━━━━━━━━━━━━━━━━━\u001b[0m\u001b[37m\u001b[0m \u001b[1m11s\u001b[0m 5ms/step - accuracy: 0.1540 - loss: 3.5899 - val_accuracy: 0.1701 - val_loss: 3.4470 - learning_rate: 0.0010\n",
      "Epoch 14/30\n",
      "\u001b[1m2303/2306\u001b[0m \u001b[32m━━━━━━━━━━━━━━━━━━━\u001b[0m\u001b[37m━\u001b[0m \u001b[1m0s\u001b[0m 4ms/step - accuracy: 0.1529 - loss: 3.5863\n",
      "Epoch 14: val_loss improved from 3.44698 to 3.44178, saving model to models/best_model_checkpoint.keras\n",
      "\u001b[1m2306/2306\u001b[0m \u001b[32m━━━━━━━━━━━━━━━━━━━━\u001b[0m\u001b[37m\u001b[0m \u001b[1m11s\u001b[0m 5ms/step - accuracy: 0.1529 - loss: 3.5863 - val_accuracy: 0.1705 - val_loss: 3.4418 - learning_rate: 0.0010\n",
      "Epoch 15/30\n",
      "\u001b[1m2300/2306\u001b[0m \u001b[32m━━━━━━━━━━━━━━━━━━━\u001b[0m\u001b[37m━\u001b[0m \u001b[1m0s\u001b[0m 4ms/step - accuracy: 0.1526 - loss: 3.5884\n",
      "Epoch 15: val_loss improved from 3.44178 to 3.43239, saving model to models/best_model_checkpoint.keras\n",
      "\u001b[1m2306/2306\u001b[0m \u001b[32m━━━━━━━━━━━━━━━━━━━━\u001b[0m\u001b[37m\u001b[0m \u001b[1m11s\u001b[0m 5ms/step - accuracy: 0.1526 - loss: 3.5884 - val_accuracy: 0.1720 - val_loss: 3.4324 - learning_rate: 0.0010\n",
      "Epoch 16/30\n",
      "\u001b[1m2296/2306\u001b[0m \u001b[32m━━━━━━━━━━━━━━━━━━━\u001b[0m\u001b[37m━\u001b[0m \u001b[1m0s\u001b[0m 4ms/step - accuracy: 0.1551 - loss: 3.5737\n",
      "Epoch 16: val_loss improved from 3.43239 to 3.43158, saving model to models/best_model_checkpoint.keras\n",
      "\u001b[1m2306/2306\u001b[0m \u001b[32m━━━━━━━━━━━━━━━━━━━━\u001b[0m\u001b[37m\u001b[0m \u001b[1m11s\u001b[0m 5ms/step - accuracy: 0.1550 - loss: 3.5737 - val_accuracy: 0.1735 - val_loss: 3.4316 - learning_rate: 0.0010\n",
      "Epoch 17/30\n",
      "\u001b[1m2299/2306\u001b[0m \u001b[32m━━━━━━━━━━━━━━━━━━━\u001b[0m\u001b[37m━\u001b[0m \u001b[1m0s\u001b[0m 5ms/step - accuracy: 0.1527 - loss: 3.5753\n",
      "Epoch 17: val_loss improved from 3.43158 to 3.42864, saving model to models/best_model_checkpoint.keras\n",
      "\u001b[1m2306/2306\u001b[0m \u001b[32m━━━━━━━━━━━━━━━━━━━━\u001b[0m\u001b[37m\u001b[0m \u001b[1m12s\u001b[0m 5ms/step - accuracy: 0.1527 - loss: 3.5753 - val_accuracy: 0.1729 - val_loss: 3.4286 - learning_rate: 0.0010\n",
      "Epoch 18/30\n",
      "\u001b[1m2304/2306\u001b[0m \u001b[32m━━━━━━━━━━━━━━━━━━━\u001b[0m\u001b[37m━\u001b[0m \u001b[1m0s\u001b[0m 5ms/step - accuracy: 0.1547 - loss: 3.5719\n",
      "Epoch 18: val_loss improved from 3.42864 to 3.42260, saving model to models/best_model_checkpoint.keras\n",
      "\u001b[1m2306/2306\u001b[0m \u001b[32m━━━━━━━━━━━━━━━━━━━━\u001b[0m\u001b[37m\u001b[0m \u001b[1m12s\u001b[0m 5ms/step - accuracy: 0.1547 - loss: 3.5719 - val_accuracy: 0.1743 - val_loss: 3.4226 - learning_rate: 0.0010\n",
      "Epoch 19/30\n",
      "\u001b[1m2305/2306\u001b[0m \u001b[32m━━━━━━━━━━━━━━━━━━━\u001b[0m\u001b[37m━\u001b[0m \u001b[1m0s\u001b[0m 4ms/step - accuracy: 0.1548 - loss: 3.5728\n",
      "Epoch 19: val_loss improved from 3.42260 to 3.41877, saving model to models/best_model_checkpoint.keras\n",
      "\u001b[1m2306/2306\u001b[0m \u001b[32m━━━━━━━━━━━━━━━━━━━━\u001b[0m\u001b[37m\u001b[0m \u001b[1m11s\u001b[0m 5ms/step - accuracy: 0.1548 - loss: 3.5728 - val_accuracy: 0.1740 - val_loss: 3.4188 - learning_rate: 0.0010\n",
      "Epoch 20/30\n",
      "\u001b[1m2300/2306\u001b[0m \u001b[32m━━━━━━━━━━━━━━━━━━━\u001b[0m\u001b[37m━\u001b[0m \u001b[1m0s\u001b[0m 4ms/step - accuracy: 0.1543 - loss: 3.5665\n",
      "Epoch 20: val_loss improved from 3.41877 to 3.41438, saving model to models/best_model_checkpoint.keras\n",
      "\u001b[1m2306/2306\u001b[0m \u001b[32m━━━━━━━━━━━━━━━━━━━━\u001b[0m\u001b[37m\u001b[0m \u001b[1m10s\u001b[0m 5ms/step - accuracy: 0.1543 - loss: 3.5665 - val_accuracy: 0.1725 - val_loss: 3.4144 - learning_rate: 0.0010\n",
      "Epoch 21/30\n",
      "\u001b[1m2296/2306\u001b[0m \u001b[32m━━━━━━━━━━━━━━━━━━━\u001b[0m\u001b[37m━\u001b[0m \u001b[1m0s\u001b[0m 4ms/step - accuracy: 0.1565 - loss: 3.5663\n",
      "Epoch 21: val_loss improved from 3.41438 to 3.41207, saving model to models/best_model_checkpoint.keras\n",
      "\u001b[1m2306/2306\u001b[0m \u001b[32m━━━━━━━━━━━━━━━━━━━━\u001b[0m\u001b[37m\u001b[0m \u001b[1m10s\u001b[0m 5ms/step - accuracy: 0.1565 - loss: 3.5663 - val_accuracy: 0.1742 - val_loss: 3.4121 - learning_rate: 0.0010\n",
      "Epoch 22/30\n",
      "\u001b[1m2296/2306\u001b[0m \u001b[32m━━━━━━━━━━━━━━━━━━━\u001b[0m\u001b[37m━\u001b[0m \u001b[1m0s\u001b[0m 4ms/step - accuracy: 0.1561 - loss: 3.5647\n",
      "Epoch 22: val_loss improved from 3.41207 to 3.40784, saving model to models/best_model_checkpoint.keras\n",
      "\u001b[1m2306/2306\u001b[0m \u001b[32m━━━━━━━━━━━━━━━━━━━━\u001b[0m\u001b[37m\u001b[0m \u001b[1m10s\u001b[0m 4ms/step - accuracy: 0.1561 - loss: 3.5647 - val_accuracy: 0.1754 - val_loss: 3.4078 - learning_rate: 0.0010\n",
      "Epoch 23/30\n",
      "\u001b[1m2303/2306\u001b[0m \u001b[32m━━━━━━━━━━━━━━━━━━━\u001b[0m\u001b[37m━\u001b[0m \u001b[1m0s\u001b[0m 4ms/step - accuracy: 0.1549 - loss: 3.5576\n",
      "Epoch 23: val_loss improved from 3.40784 to 3.40777, saving model to models/best_model_checkpoint.keras\n",
      "\u001b[1m2306/2306\u001b[0m \u001b[32m━━━━━━━━━━━━━━━━━━━━\u001b[0m\u001b[37m\u001b[0m \u001b[1m10s\u001b[0m 4ms/step - accuracy: 0.1549 - loss: 3.5576 - val_accuracy: 0.1746 - val_loss: 3.4078 - learning_rate: 0.0010\n",
      "Epoch 24/30\n",
      "\u001b[1m2303/2306\u001b[0m \u001b[32m━━━━━━━━━━━━━━━━━━━\u001b[0m\u001b[37m━\u001b[0m \u001b[1m0s\u001b[0m 4ms/step - accuracy: 0.1571 - loss: 3.5565\n",
      "Epoch 24: val_loss improved from 3.40777 to 3.40469, saving model to models/best_model_checkpoint.keras\n",
      "\u001b[1m2306/2306\u001b[0m \u001b[32m━━━━━━━━━━━━━━━━━━━━\u001b[0m\u001b[37m\u001b[0m \u001b[1m10s\u001b[0m 4ms/step - accuracy: 0.1571 - loss: 3.5565 - val_accuracy: 0.1757 - val_loss: 3.4047 - learning_rate: 0.0010\n",
      "Epoch 25/30\n",
      "\u001b[1m2296/2306\u001b[0m \u001b[32m━━━━━━━━━━━━━━━━━━━\u001b[0m\u001b[37m━\u001b[0m \u001b[1m0s\u001b[0m 4ms/step - accuracy: 0.1586 - loss: 3.5482\n",
      "Epoch 25: val_loss improved from 3.40469 to 3.40197, saving model to models/best_model_checkpoint.keras\n",
      "\u001b[1m2306/2306\u001b[0m \u001b[32m━━━━━━━━━━━━━━━━━━━━\u001b[0m\u001b[37m\u001b[0m \u001b[1m10s\u001b[0m 4ms/step - accuracy: 0.1585 - loss: 3.5482 - val_accuracy: 0.1762 - val_loss: 3.4020 - learning_rate: 0.0010\n",
      "Epoch 26/30\n",
      "\u001b[1m2295/2306\u001b[0m \u001b[32m━━━━━━━━━━━━━━━━━━━\u001b[0m\u001b[37m━\u001b[0m \u001b[1m0s\u001b[0m 4ms/step - accuracy: 0.1567 - loss: 3.5479\n",
      "Epoch 26: val_loss improved from 3.40197 to 3.40040, saving model to models/best_model_checkpoint.keras\n",
      "\u001b[1m2306/2306\u001b[0m \u001b[32m━━━━━━━━━━━━━━━━━━━━\u001b[0m\u001b[37m\u001b[0m \u001b[1m10s\u001b[0m 4ms/step - accuracy: 0.1567 - loss: 3.5479 - val_accuracy: 0.1774 - val_loss: 3.4004 - learning_rate: 0.0010\n",
      "Epoch 27/30\n",
      "\u001b[1m2305/2306\u001b[0m \u001b[32m━━━━━━━━━━━━━━━━━━━\u001b[0m\u001b[37m━\u001b[0m \u001b[1m0s\u001b[0m 4ms/step - accuracy: 0.1572 - loss: 3.5472\n",
      "Epoch 27: val_loss improved from 3.40040 to 3.39878, saving model to models/best_model_checkpoint.keras\n",
      "\u001b[1m2306/2306\u001b[0m \u001b[32m━━━━━━━━━━━━━━━━━━━━\u001b[0m\u001b[37m\u001b[0m \u001b[1m10s\u001b[0m 5ms/step - accuracy: 0.1572 - loss: 3.5472 - val_accuracy: 0.1764 - val_loss: 3.3988 - learning_rate: 0.0010\n",
      "Epoch 28/30\n",
      "\u001b[1m2293/2306\u001b[0m \u001b[32m━━━━━━━━━━━━━━━━━━━\u001b[0m\u001b[37m━\u001b[0m \u001b[1m0s\u001b[0m 4ms/step - accuracy: 0.1558 - loss: 3.5551\n",
      "Epoch 28: val_loss improved from 3.39878 to 3.39341, saving model to models/best_model_checkpoint.keras\n",
      "\u001b[1m2306/2306\u001b[0m \u001b[32m━━━━━━━━━━━━━━━━━━━━\u001b[0m\u001b[37m\u001b[0m \u001b[1m10s\u001b[0m 4ms/step - accuracy: 0.1558 - loss: 3.5551 - val_accuracy: 0.1778 - val_loss: 3.3934 - learning_rate: 0.0010\n",
      "Epoch 29/30\n",
      "\u001b[1m2298/2306\u001b[0m \u001b[32m━━━━━━━━━━━━━━━━━━━\u001b[0m\u001b[37m━\u001b[0m \u001b[1m0s\u001b[0m 4ms/step - accuracy: 0.1584 - loss: 3.5481\n",
      "Epoch 29: val_loss improved from 3.39341 to 3.39262, saving model to models/best_model_checkpoint.keras\n",
      "\u001b[1m2306/2306\u001b[0m \u001b[32m━━━━━━━━━━━━━━━━━━━━\u001b[0m\u001b[37m\u001b[0m \u001b[1m10s\u001b[0m 5ms/step - accuracy: 0.1584 - loss: 3.5481 - val_accuracy: 0.1760 - val_loss: 3.3926 - learning_rate: 0.0010\n",
      "Epoch 30/30\n",
      "\u001b[1m2303/2306\u001b[0m \u001b[32m━━━━━━━━━━━━━━━━━━━\u001b[0m\u001b[37m━\u001b[0m \u001b[1m0s\u001b[0m 4ms/step - accuracy: 0.1560 - loss: 3.5481\n",
      "Epoch 30: val_loss improved from 3.39262 to 3.39015, saving model to models/best_model_checkpoint.keras\n",
      "\u001b[1m2306/2306\u001b[0m \u001b[32m━━━━━━━━━━━━━━━━━━━━\u001b[0m\u001b[37m\u001b[0m \u001b[1m10s\u001b[0m 4ms/step - accuracy: 0.1560 - loss: 3.5481 - val_accuracy: 0.1779 - val_loss: 3.3901 - learning_rate: 0.0010\n",
      "Restoring model weights from the end of the best epoch: 30.\n"
     ]
    }
   ],
   "source": [
    "history_ff = ff_model.fit(\n",
    "    X_train, y_train,\n",
    "    epochs=30,\n",
    "    batch_size=128,\n",
    "    validation_split=0.2,\n",
    "    callbacks=callbacks,\n",
    "    verbose=1\n",
    ")"
   ]
  },
  {
   "cell_type": "code",
   "execution_count": 24,
   "metadata": {},
   "outputs": [
    {
     "name": "stdout",
     "output_type": "stream",
     "text": [
      "Feedforward model saved successfully\n"
     ]
    }
   ],
   "source": [
    "# Save the model\n",
    "ff_model.save('models/chord_classifier_feedforward.keras')\n",
    "print(\"Feedforward model saved successfully\")"
   ]
  },
  {
   "cell_type": "code",
   "execution_count": 25,
   "metadata": {},
   "outputs": [
    {
     "data": {
      "text/html": [
       "<pre style=\"white-space:pre;overflow-x:auto;line-height:normal;font-family:Menlo,'DejaVu Sans Mono',consolas,'Courier New',monospace\"><span style=\"font-weight: bold\">Model: \"sequential_1\"</span>\n",
       "</pre>\n"
      ],
      "text/plain": [
       "\u001b[1mModel: \"sequential_1\"\u001b[0m\n"
      ]
     },
     "metadata": {},
     "output_type": "display_data"
    },
    {
     "data": {
      "text/html": [
       "<pre style=\"white-space:pre;overflow-x:auto;line-height:normal;font-family:Menlo,'DejaVu Sans Mono',consolas,'Courier New',monospace\">┏━━━━━━━━━━━━━━━━━━━━━━━━━━━━━━━━━┳━━━━━━━━━━━━━━━━━━━━━━━━┳━━━━━━━━━━━━━━━┓\n",
       "┃<span style=\"font-weight: bold\"> Layer (type)                    </span>┃<span style=\"font-weight: bold\"> Output Shape           </span>┃<span style=\"font-weight: bold\">       Param # </span>┃\n",
       "┡━━━━━━━━━━━━━━━━━━━━━━━━━━━━━━━━━╇━━━━━━━━━━━━━━━━━━━━━━━━╇━━━━━━━━━━━━━━━┩\n",
       "│ reshape (<span style=\"color: #0087ff; text-decoration-color: #0087ff\">Reshape</span>)               │ (<span style=\"color: #00d7ff; text-decoration-color: #00d7ff\">None</span>, <span style=\"color: #00af00; text-decoration-color: #00af00\">12</span>, <span style=\"color: #00af00; text-decoration-color: #00af00\">1</span>)          │             <span style=\"color: #00af00; text-decoration-color: #00af00\">0</span> │\n",
       "├─────────────────────────────────┼────────────────────────┼───────────────┤\n",
       "│ conv1d (<span style=\"color: #0087ff; text-decoration-color: #0087ff\">Conv1D</span>)                 │ (<span style=\"color: #00d7ff; text-decoration-color: #00d7ff\">None</span>, <span style=\"color: #00af00; text-decoration-color: #00af00\">12</span>, <span style=\"color: #00af00; text-decoration-color: #00af00\">64</span>)         │           <span style=\"color: #00af00; text-decoration-color: #00af00\">256</span> │\n",
       "├─────────────────────────────────┼────────────────────────┼───────────────┤\n",
       "│ batch_normalization_4           │ (<span style=\"color: #00d7ff; text-decoration-color: #00d7ff\">None</span>, <span style=\"color: #00af00; text-decoration-color: #00af00\">12</span>, <span style=\"color: #00af00; text-decoration-color: #00af00\">64</span>)         │           <span style=\"color: #00af00; text-decoration-color: #00af00\">256</span> │\n",
       "│ (<span style=\"color: #0087ff; text-decoration-color: #0087ff\">BatchNormalization</span>)            │                        │               │\n",
       "├─────────────────────────────────┼────────────────────────┼───────────────┤\n",
       "│ max_pooling1d (<span style=\"color: #0087ff; text-decoration-color: #0087ff\">MaxPooling1D</span>)    │ (<span style=\"color: #00d7ff; text-decoration-color: #00d7ff\">None</span>, <span style=\"color: #00af00; text-decoration-color: #00af00\">6</span>, <span style=\"color: #00af00; text-decoration-color: #00af00\">64</span>)          │             <span style=\"color: #00af00; text-decoration-color: #00af00\">0</span> │\n",
       "├─────────────────────────────────┼────────────────────────┼───────────────┤\n",
       "│ dropout_4 (<span style=\"color: #0087ff; text-decoration-color: #0087ff\">Dropout</span>)             │ (<span style=\"color: #00d7ff; text-decoration-color: #00d7ff\">None</span>, <span style=\"color: #00af00; text-decoration-color: #00af00\">6</span>, <span style=\"color: #00af00; text-decoration-color: #00af00\">64</span>)          │             <span style=\"color: #00af00; text-decoration-color: #00af00\">0</span> │\n",
       "├─────────────────────────────────┼────────────────────────┼───────────────┤\n",
       "│ conv1d_1 (<span style=\"color: #0087ff; text-decoration-color: #0087ff\">Conv1D</span>)               │ (<span style=\"color: #00d7ff; text-decoration-color: #00d7ff\">None</span>, <span style=\"color: #00af00; text-decoration-color: #00af00\">6</span>, <span style=\"color: #00af00; text-decoration-color: #00af00\">128</span>)         │        <span style=\"color: #00af00; text-decoration-color: #00af00\">24,704</span> │\n",
       "├─────────────────────────────────┼────────────────────────┼───────────────┤\n",
       "│ batch_normalization_5           │ (<span style=\"color: #00d7ff; text-decoration-color: #00d7ff\">None</span>, <span style=\"color: #00af00; text-decoration-color: #00af00\">6</span>, <span style=\"color: #00af00; text-decoration-color: #00af00\">128</span>)         │           <span style=\"color: #00af00; text-decoration-color: #00af00\">512</span> │\n",
       "│ (<span style=\"color: #0087ff; text-decoration-color: #0087ff\">BatchNormalization</span>)            │                        │               │\n",
       "├─────────────────────────────────┼────────────────────────┼───────────────┤\n",
       "│ max_pooling1d_1 (<span style=\"color: #0087ff; text-decoration-color: #0087ff\">MaxPooling1D</span>)  │ (<span style=\"color: #00d7ff; text-decoration-color: #00d7ff\">None</span>, <span style=\"color: #00af00; text-decoration-color: #00af00\">3</span>, <span style=\"color: #00af00; text-decoration-color: #00af00\">128</span>)         │             <span style=\"color: #00af00; text-decoration-color: #00af00\">0</span> │\n",
       "├─────────────────────────────────┼────────────────────────┼───────────────┤\n",
       "│ dropout_5 (<span style=\"color: #0087ff; text-decoration-color: #0087ff\">Dropout</span>)             │ (<span style=\"color: #00d7ff; text-decoration-color: #00d7ff\">None</span>, <span style=\"color: #00af00; text-decoration-color: #00af00\">3</span>, <span style=\"color: #00af00; text-decoration-color: #00af00\">128</span>)         │             <span style=\"color: #00af00; text-decoration-color: #00af00\">0</span> │\n",
       "├─────────────────────────────────┼────────────────────────┼───────────────┤\n",
       "│ flatten (<span style=\"color: #0087ff; text-decoration-color: #0087ff\">Flatten</span>)               │ (<span style=\"color: #00d7ff; text-decoration-color: #00d7ff\">None</span>, <span style=\"color: #00af00; text-decoration-color: #00af00\">384</span>)            │             <span style=\"color: #00af00; text-decoration-color: #00af00\">0</span> │\n",
       "├─────────────────────────────────┼────────────────────────┼───────────────┤\n",
       "│ dense_5 (<span style=\"color: #0087ff; text-decoration-color: #0087ff\">Dense</span>)                 │ (<span style=\"color: #00d7ff; text-decoration-color: #00d7ff\">None</span>, <span style=\"color: #00af00; text-decoration-color: #00af00\">256</span>)            │        <span style=\"color: #00af00; text-decoration-color: #00af00\">98,560</span> │\n",
       "├─────────────────────────────────┼────────────────────────┼───────────────┤\n",
       "│ batch_normalization_6           │ (<span style=\"color: #00d7ff; text-decoration-color: #00d7ff\">None</span>, <span style=\"color: #00af00; text-decoration-color: #00af00\">256</span>)            │         <span style=\"color: #00af00; text-decoration-color: #00af00\">1,024</span> │\n",
       "│ (<span style=\"color: #0087ff; text-decoration-color: #0087ff\">BatchNormalization</span>)            │                        │               │\n",
       "├─────────────────────────────────┼────────────────────────┼───────────────┤\n",
       "│ dropout_6 (<span style=\"color: #0087ff; text-decoration-color: #0087ff\">Dropout</span>)             │ (<span style=\"color: #00d7ff; text-decoration-color: #00d7ff\">None</span>, <span style=\"color: #00af00; text-decoration-color: #00af00\">256</span>)            │             <span style=\"color: #00af00; text-decoration-color: #00af00\">0</span> │\n",
       "├─────────────────────────────────┼────────────────────────┼───────────────┤\n",
       "│ dense_6 (<span style=\"color: #0087ff; text-decoration-color: #0087ff\">Dense</span>)                 │ (<span style=\"color: #00d7ff; text-decoration-color: #00d7ff\">None</span>, <span style=\"color: #00af00; text-decoration-color: #00af00\">128</span>)            │        <span style=\"color: #00af00; text-decoration-color: #00af00\">32,896</span> │\n",
       "├─────────────────────────────────┼────────────────────────┼───────────────┤\n",
       "│ batch_normalization_7           │ (<span style=\"color: #00d7ff; text-decoration-color: #00d7ff\">None</span>, <span style=\"color: #00af00; text-decoration-color: #00af00\">128</span>)            │           <span style=\"color: #00af00; text-decoration-color: #00af00\">512</span> │\n",
       "│ (<span style=\"color: #0087ff; text-decoration-color: #0087ff\">BatchNormalization</span>)            │                        │               │\n",
       "├─────────────────────────────────┼────────────────────────┼───────────────┤\n",
       "│ dropout_7 (<span style=\"color: #0087ff; text-decoration-color: #0087ff\">Dropout</span>)             │ (<span style=\"color: #00d7ff; text-decoration-color: #00d7ff\">None</span>, <span style=\"color: #00af00; text-decoration-color: #00af00\">128</span>)            │             <span style=\"color: #00af00; text-decoration-color: #00af00\">0</span> │\n",
       "├─────────────────────────────────┼────────────────────────┼───────────────┤\n",
       "│ dense_7 (<span style=\"color: #0087ff; text-decoration-color: #0087ff\">Dense</span>)                 │ (<span style=\"color: #00d7ff; text-decoration-color: #00d7ff\">None</span>, <span style=\"color: #00af00; text-decoration-color: #00af00\">209</span>)            │        <span style=\"color: #00af00; text-decoration-color: #00af00\">26,961</span> │\n",
       "└─────────────────────────────────┴────────────────────────┴───────────────┘\n",
       "</pre>\n"
      ],
      "text/plain": [
       "┏━━━━━━━━━━━━━━━━━━━━━━━━━━━━━━━━━┳━━━━━━━━━━━━━━━━━━━━━━━━┳━━━━━━━━━━━━━━━┓\n",
       "┃\u001b[1m \u001b[0m\u001b[1mLayer (type)                   \u001b[0m\u001b[1m \u001b[0m┃\u001b[1m \u001b[0m\u001b[1mOutput Shape          \u001b[0m\u001b[1m \u001b[0m┃\u001b[1m \u001b[0m\u001b[1m      Param #\u001b[0m\u001b[1m \u001b[0m┃\n",
       "┡━━━━━━━━━━━━━━━━━━━━━━━━━━━━━━━━━╇━━━━━━━━━━━━━━━━━━━━━━━━╇━━━━━━━━━━━━━━━┩\n",
       "│ reshape (\u001b[38;5;33mReshape\u001b[0m)               │ (\u001b[38;5;45mNone\u001b[0m, \u001b[38;5;34m12\u001b[0m, \u001b[38;5;34m1\u001b[0m)          │             \u001b[38;5;34m0\u001b[0m │\n",
       "├─────────────────────────────────┼────────────────────────┼───────────────┤\n",
       "│ conv1d (\u001b[38;5;33mConv1D\u001b[0m)                 │ (\u001b[38;5;45mNone\u001b[0m, \u001b[38;5;34m12\u001b[0m, \u001b[38;5;34m64\u001b[0m)         │           \u001b[38;5;34m256\u001b[0m │\n",
       "├─────────────────────────────────┼────────────────────────┼───────────────┤\n",
       "│ batch_normalization_4           │ (\u001b[38;5;45mNone\u001b[0m, \u001b[38;5;34m12\u001b[0m, \u001b[38;5;34m64\u001b[0m)         │           \u001b[38;5;34m256\u001b[0m │\n",
       "│ (\u001b[38;5;33mBatchNormalization\u001b[0m)            │                        │               │\n",
       "├─────────────────────────────────┼────────────────────────┼───────────────┤\n",
       "│ max_pooling1d (\u001b[38;5;33mMaxPooling1D\u001b[0m)    │ (\u001b[38;5;45mNone\u001b[0m, \u001b[38;5;34m6\u001b[0m, \u001b[38;5;34m64\u001b[0m)          │             \u001b[38;5;34m0\u001b[0m │\n",
       "├─────────────────────────────────┼────────────────────────┼───────────────┤\n",
       "│ dropout_4 (\u001b[38;5;33mDropout\u001b[0m)             │ (\u001b[38;5;45mNone\u001b[0m, \u001b[38;5;34m6\u001b[0m, \u001b[38;5;34m64\u001b[0m)          │             \u001b[38;5;34m0\u001b[0m │\n",
       "├─────────────────────────────────┼────────────────────────┼───────────────┤\n",
       "│ conv1d_1 (\u001b[38;5;33mConv1D\u001b[0m)               │ (\u001b[38;5;45mNone\u001b[0m, \u001b[38;5;34m6\u001b[0m, \u001b[38;5;34m128\u001b[0m)         │        \u001b[38;5;34m24,704\u001b[0m │\n",
       "├─────────────────────────────────┼────────────────────────┼───────────────┤\n",
       "│ batch_normalization_5           │ (\u001b[38;5;45mNone\u001b[0m, \u001b[38;5;34m6\u001b[0m, \u001b[38;5;34m128\u001b[0m)         │           \u001b[38;5;34m512\u001b[0m │\n",
       "│ (\u001b[38;5;33mBatchNormalization\u001b[0m)            │                        │               │\n",
       "├─────────────────────────────────┼────────────────────────┼───────────────┤\n",
       "│ max_pooling1d_1 (\u001b[38;5;33mMaxPooling1D\u001b[0m)  │ (\u001b[38;5;45mNone\u001b[0m, \u001b[38;5;34m3\u001b[0m, \u001b[38;5;34m128\u001b[0m)         │             \u001b[38;5;34m0\u001b[0m │\n",
       "├─────────────────────────────────┼────────────────────────┼───────────────┤\n",
       "│ dropout_5 (\u001b[38;5;33mDropout\u001b[0m)             │ (\u001b[38;5;45mNone\u001b[0m, \u001b[38;5;34m3\u001b[0m, \u001b[38;5;34m128\u001b[0m)         │             \u001b[38;5;34m0\u001b[0m │\n",
       "├─────────────────────────────────┼────────────────────────┼───────────────┤\n",
       "│ flatten (\u001b[38;5;33mFlatten\u001b[0m)               │ (\u001b[38;5;45mNone\u001b[0m, \u001b[38;5;34m384\u001b[0m)            │             \u001b[38;5;34m0\u001b[0m │\n",
       "├─────────────────────────────────┼────────────────────────┼───────────────┤\n",
       "│ dense_5 (\u001b[38;5;33mDense\u001b[0m)                 │ (\u001b[38;5;45mNone\u001b[0m, \u001b[38;5;34m256\u001b[0m)            │        \u001b[38;5;34m98,560\u001b[0m │\n",
       "├─────────────────────────────────┼────────────────────────┼───────────────┤\n",
       "│ batch_normalization_6           │ (\u001b[38;5;45mNone\u001b[0m, \u001b[38;5;34m256\u001b[0m)            │         \u001b[38;5;34m1,024\u001b[0m │\n",
       "│ (\u001b[38;5;33mBatchNormalization\u001b[0m)            │                        │               │\n",
       "├─────────────────────────────────┼────────────────────────┼───────────────┤\n",
       "│ dropout_6 (\u001b[38;5;33mDropout\u001b[0m)             │ (\u001b[38;5;45mNone\u001b[0m, \u001b[38;5;34m256\u001b[0m)            │             \u001b[38;5;34m0\u001b[0m │\n",
       "├─────────────────────────────────┼────────────────────────┼───────────────┤\n",
       "│ dense_6 (\u001b[38;5;33mDense\u001b[0m)                 │ (\u001b[38;5;45mNone\u001b[0m, \u001b[38;5;34m128\u001b[0m)            │        \u001b[38;5;34m32,896\u001b[0m │\n",
       "├─────────────────────────────────┼────────────────────────┼───────────────┤\n",
       "│ batch_normalization_7           │ (\u001b[38;5;45mNone\u001b[0m, \u001b[38;5;34m128\u001b[0m)            │           \u001b[38;5;34m512\u001b[0m │\n",
       "│ (\u001b[38;5;33mBatchNormalization\u001b[0m)            │                        │               │\n",
       "├─────────────────────────────────┼────────────────────────┼───────────────┤\n",
       "│ dropout_7 (\u001b[38;5;33mDropout\u001b[0m)             │ (\u001b[38;5;45mNone\u001b[0m, \u001b[38;5;34m128\u001b[0m)            │             \u001b[38;5;34m0\u001b[0m │\n",
       "├─────────────────────────────────┼────────────────────────┼───────────────┤\n",
       "│ dense_7 (\u001b[38;5;33mDense\u001b[0m)                 │ (\u001b[38;5;45mNone\u001b[0m, \u001b[38;5;34m209\u001b[0m)            │        \u001b[38;5;34m26,961\u001b[0m │\n",
       "└─────────────────────────────────┴────────────────────────┴───────────────┘\n"
      ]
     },
     "metadata": {},
     "output_type": "display_data"
    },
    {
     "data": {
      "text/html": [
       "<pre style=\"white-space:pre;overflow-x:auto;line-height:normal;font-family:Menlo,'DejaVu Sans Mono',consolas,'Courier New',monospace\"><span style=\"font-weight: bold\"> Total params: </span><span style=\"color: #00af00; text-decoration-color: #00af00\">185,681</span> (725.32 KB)\n",
       "</pre>\n"
      ],
      "text/plain": [
       "\u001b[1m Total params: \u001b[0m\u001b[38;5;34m185,681\u001b[0m (725.32 KB)\n"
      ]
     },
     "metadata": {},
     "output_type": "display_data"
    },
    {
     "data": {
      "text/html": [
       "<pre style=\"white-space:pre;overflow-x:auto;line-height:normal;font-family:Menlo,'DejaVu Sans Mono',consolas,'Courier New',monospace\"><span style=\"font-weight: bold\"> Trainable params: </span><span style=\"color: #00af00; text-decoration-color: #00af00\">184,529</span> (720.82 KB)\n",
       "</pre>\n"
      ],
      "text/plain": [
       "\u001b[1m Trainable params: \u001b[0m\u001b[38;5;34m184,529\u001b[0m (720.82 KB)\n"
      ]
     },
     "metadata": {},
     "output_type": "display_data"
    },
    {
     "data": {
      "text/html": [
       "<pre style=\"white-space:pre;overflow-x:auto;line-height:normal;font-family:Menlo,'DejaVu Sans Mono',consolas,'Courier New',monospace\"><span style=\"font-weight: bold\"> Non-trainable params: </span><span style=\"color: #00af00; text-decoration-color: #00af00\">1,152</span> (4.50 KB)\n",
       "</pre>\n"
      ],
      "text/plain": [
       "\u001b[1m Non-trainable params: \u001b[0m\u001b[38;5;34m1,152\u001b[0m (4.50 KB)\n"
      ]
     },
     "metadata": {},
     "output_type": "display_data"
    },
    {
     "name": "stdout",
     "output_type": "stream",
     "text": [
      "None\n",
      "Epoch 1/30\n",
      "\u001b[1m2300/2306\u001b[0m \u001b[32m━━━━━━━━━━━━━━━━━━━\u001b[0m\u001b[37m━\u001b[0m \u001b[1m0s\u001b[0m 7ms/step - accuracy: 0.1009 - loss: 4.3374\n",
      "Epoch 1: val_loss did not improve from 3.39015\n",
      "\u001b[1m2306/2306\u001b[0m \u001b[32m━━━━━━━━━━━━━━━━━━━━\u001b[0m\u001b[37m\u001b[0m \u001b[1m19s\u001b[0m 7ms/step - accuracy: 0.1009 - loss: 4.3364 - val_accuracy: 0.1497 - val_loss: 3.6669 - learning_rate: 0.0010\n",
      "Epoch 2/30\n",
      "\u001b[1m2301/2306\u001b[0m \u001b[32m━━━━━━━━━━━━━━━━━━━\u001b[0m\u001b[37m━\u001b[0m \u001b[1m0s\u001b[0m 7ms/step - accuracy: 0.1384 - loss: 3.7480\n",
      "Epoch 2: val_loss did not improve from 3.39015\n",
      "\u001b[1m2306/2306\u001b[0m \u001b[32m━━━━━━━━━━━━━━━━━━━━\u001b[0m\u001b[37m\u001b[0m \u001b[1m16s\u001b[0m 7ms/step - accuracy: 0.1384 - loss: 3.7479 - val_accuracy: 0.1548 - val_loss: 3.5888 - learning_rate: 0.0010\n",
      "Epoch 3/30\n",
      "\u001b[1m2302/2306\u001b[0m \u001b[32m━━━━━━━━━━━━━━━━━━━\u001b[0m\u001b[37m━\u001b[0m \u001b[1m0s\u001b[0m 7ms/step - accuracy: 0.1433 - loss: 3.6864\n",
      "Epoch 3: val_loss did not improve from 3.39015\n",
      "\u001b[1m2306/2306\u001b[0m \u001b[32m━━━━━━━━━━━━━━━━━━━━\u001b[0m\u001b[37m\u001b[0m \u001b[1m17s\u001b[0m 7ms/step - accuracy: 0.1433 - loss: 3.6864 - val_accuracy: 0.1609 - val_loss: 3.5341 - learning_rate: 0.0010\n",
      "Epoch 4/30\n",
      "\u001b[1m2299/2306\u001b[0m \u001b[32m━━━━━━━━━━━━━━━━━━━\u001b[0m\u001b[37m━\u001b[0m \u001b[1m0s\u001b[0m 7ms/step - accuracy: 0.1463 - loss: 3.6501\n",
      "Epoch 4: val_loss did not improve from 3.39015\n",
      "\u001b[1m2306/2306\u001b[0m \u001b[32m━━━━━━━━━━━━━━━━━━━━\u001b[0m\u001b[37m\u001b[0m \u001b[1m16s\u001b[0m 7ms/step - accuracy: 0.1463 - loss: 3.6501 - val_accuracy: 0.1649 - val_loss: 3.5103 - learning_rate: 0.0010\n",
      "Epoch 5/30\n",
      "\u001b[1m2300/2306\u001b[0m \u001b[32m━━━━━━━━━━━━━━━━━━━\u001b[0m\u001b[37m━\u001b[0m \u001b[1m0s\u001b[0m 7ms/step - accuracy: 0.1502 - loss: 3.6223\n",
      "Epoch 5: val_loss did not improve from 3.39015\n",
      "\u001b[1m2306/2306\u001b[0m \u001b[32m━━━━━━━━━━━━━━━━━━━━\u001b[0m\u001b[37m\u001b[0m \u001b[1m17s\u001b[0m 7ms/step - accuracy: 0.1502 - loss: 3.6223 - val_accuracy: 0.1681 - val_loss: 3.4741 - learning_rate: 0.0010\n",
      "Epoch 6/30\n",
      "\u001b[1m2305/2306\u001b[0m \u001b[32m━━━━━━━━━━━━━━━━━━━\u001b[0m\u001b[37m━\u001b[0m \u001b[1m0s\u001b[0m 7ms/step - accuracy: 0.1534 - loss: 3.6071\n",
      "Epoch 6: val_loss did not improve from 3.39015\n",
      "\u001b[1m2306/2306\u001b[0m \u001b[32m━━━━━━━━━━━━━━━━━━━━\u001b[0m\u001b[37m\u001b[0m \u001b[1m17s\u001b[0m 7ms/step - accuracy: 0.1534 - loss: 3.6071 - val_accuracy: 0.1698 - val_loss: 3.4615 - learning_rate: 0.0010\n",
      "Epoch 7/30\n",
      "\u001b[1m2302/2306\u001b[0m \u001b[32m━━━━━━━━━━━━━━━━━━━\u001b[0m\u001b[37m━\u001b[0m \u001b[1m0s\u001b[0m 7ms/step - accuracy: 0.1544 - loss: 3.5912\n",
      "Epoch 7: val_loss did not improve from 3.39015\n",
      "\u001b[1m2306/2306\u001b[0m \u001b[32m━━━━━━━━━━━━━━━━━━━━\u001b[0m\u001b[37m\u001b[0m \u001b[1m17s\u001b[0m 7ms/step - accuracy: 0.1544 - loss: 3.5912 - val_accuracy: 0.1725 - val_loss: 3.4371 - learning_rate: 0.0010\n",
      "Epoch 8/30\n",
      "\u001b[1m2302/2306\u001b[0m \u001b[32m━━━━━━━━━━━━━━━━━━━\u001b[0m\u001b[37m━\u001b[0m \u001b[1m0s\u001b[0m 7ms/step - accuracy: 0.1568 - loss: 3.5714\n",
      "Epoch 8: val_loss did not improve from 3.39015\n",
      "\u001b[1m2306/2306\u001b[0m \u001b[32m━━━━━━━━━━━━━━━━━━━━\u001b[0m\u001b[37m\u001b[0m \u001b[1m18s\u001b[0m 8ms/step - accuracy: 0.1568 - loss: 3.5714 - val_accuracy: 0.1735 - val_loss: 3.4273 - learning_rate: 0.0010\n",
      "Epoch 9/30\n",
      "\u001b[1m2303/2306\u001b[0m \u001b[32m━━━━━━━━━━━━━━━━━━━\u001b[0m\u001b[37m━\u001b[0m \u001b[1m0s\u001b[0m 7ms/step - accuracy: 0.1566 - loss: 3.5691\n",
      "Epoch 9: val_loss did not improve from 3.39015\n",
      "\u001b[1m2306/2306\u001b[0m \u001b[32m━━━━━━━━━━━━━━━━━━━━\u001b[0m\u001b[37m\u001b[0m \u001b[1m16s\u001b[0m 7ms/step - accuracy: 0.1566 - loss: 3.5691 - val_accuracy: 0.1739 - val_loss: 3.4227 - learning_rate: 0.0010\n",
      "Epoch 10/30\n",
      "\u001b[1m2303/2306\u001b[0m \u001b[32m━━━━━━━━━━━━━━━━━━━\u001b[0m\u001b[37m━\u001b[0m \u001b[1m0s\u001b[0m 7ms/step - accuracy: 0.1577 - loss: 3.5536\n",
      "Epoch 10: val_loss did not improve from 3.39015\n",
      "\u001b[1m2306/2306\u001b[0m \u001b[32m━━━━━━━━━━━━━━━━━━━━\u001b[0m\u001b[37m\u001b[0m \u001b[1m17s\u001b[0m 7ms/step - accuracy: 0.1577 - loss: 3.5536 - val_accuracy: 0.1750 - val_loss: 3.4105 - learning_rate: 0.0010\n",
      "Epoch 11/30\n",
      "\u001b[1m2304/2306\u001b[0m \u001b[32m━━━━━━━━━━━━━━━━━━━\u001b[0m\u001b[37m━\u001b[0m \u001b[1m0s\u001b[0m 7ms/step - accuracy: 0.1588 - loss: 3.5510\n",
      "Epoch 11: val_loss did not improve from 3.39015\n",
      "\u001b[1m2306/2306\u001b[0m \u001b[32m━━━━━━━━━━━━━━━━━━━━\u001b[0m\u001b[37m\u001b[0m \u001b[1m17s\u001b[0m 7ms/step - accuracy: 0.1588 - loss: 3.5510 - val_accuracy: 0.1771 - val_loss: 3.3981 - learning_rate: 0.0010\n",
      "Epoch 12/30\n",
      "\u001b[1m2303/2306\u001b[0m \u001b[32m━━━━━━━━━━━━━━━━━━━\u001b[0m\u001b[37m━\u001b[0m \u001b[1m0s\u001b[0m 7ms/step - accuracy: 0.1589 - loss: 3.5443\n",
      "Epoch 12: val_loss did not improve from 3.39015\n",
      "\u001b[1m2306/2306\u001b[0m \u001b[32m━━━━━━━━━━━━━━━━━━━━\u001b[0m\u001b[37m\u001b[0m \u001b[1m17s\u001b[0m 7ms/step - accuracy: 0.1589 - loss: 3.5443 - val_accuracy: 0.1762 - val_loss: 3.3911 - learning_rate: 0.0010\n",
      "Epoch 13/30\n",
      "\u001b[1m2302/2306\u001b[0m \u001b[32m━━━━━━━━━━━━━━━━━━━\u001b[0m\u001b[37m━\u001b[0m \u001b[1m0s\u001b[0m 7ms/step - accuracy: 0.1613 - loss: 3.5371\n",
      "Epoch 13: val_loss improved from 3.39015 to 3.38293, saving model to models/best_model_checkpoint.keras\n",
      "\u001b[1m2306/2306\u001b[0m \u001b[32m━━━━━━━━━━━━━━━━━━━━\u001b[0m\u001b[37m\u001b[0m \u001b[1m17s\u001b[0m 7ms/step - accuracy: 0.1613 - loss: 3.5371 - val_accuracy: 0.1780 - val_loss: 3.3829 - learning_rate: 0.0010\n",
      "Epoch 14/30\n",
      "\u001b[1m2302/2306\u001b[0m \u001b[32m━━━━━━━━━━━━━━━━━━━\u001b[0m\u001b[37m━\u001b[0m \u001b[1m0s\u001b[0m 7ms/step - accuracy: 0.1606 - loss: 3.5293\n",
      "Epoch 14: val_loss improved from 3.38293 to 3.38154, saving model to models/best_model_checkpoint.keras\n",
      "\u001b[1m2306/2306\u001b[0m \u001b[32m━━━━━━━━━━━━━━━━━━━━\u001b[0m\u001b[37m\u001b[0m \u001b[1m17s\u001b[0m 7ms/step - accuracy: 0.1606 - loss: 3.5293 - val_accuracy: 0.1784 - val_loss: 3.3815 - learning_rate: 0.0010\n",
      "Epoch 15/30\n",
      "\u001b[1m2305/2306\u001b[0m \u001b[32m━━━━━━━━━━━━━━━━━━━\u001b[0m\u001b[37m━\u001b[0m \u001b[1m0s\u001b[0m 7ms/step - accuracy: 0.1609 - loss: 3.5276\n",
      "Epoch 15: val_loss improved from 3.38154 to 3.37745, saving model to models/best_model_checkpoint.keras\n",
      "\u001b[1m2306/2306\u001b[0m \u001b[32m━━━━━━━━━━━━━━━━━━━━\u001b[0m\u001b[37m\u001b[0m \u001b[1m17s\u001b[0m 7ms/step - accuracy: 0.1609 - loss: 3.5276 - val_accuracy: 0.1782 - val_loss: 3.3775 - learning_rate: 0.0010\n",
      "Epoch 16/30\n",
      "\u001b[1m2301/2306\u001b[0m \u001b[32m━━━━━━━━━━━━━━━━━━━\u001b[0m\u001b[37m━\u001b[0m \u001b[1m0s\u001b[0m 7ms/step - accuracy: 0.1607 - loss: 3.5238\n",
      "Epoch 16: val_loss improved from 3.37745 to 3.36867, saving model to models/best_model_checkpoint.keras\n",
      "\u001b[1m2306/2306\u001b[0m \u001b[32m━━━━━━━━━━━━━━━━━━━━\u001b[0m\u001b[37m\u001b[0m \u001b[1m17s\u001b[0m 7ms/step - accuracy: 0.1607 - loss: 3.5238 - val_accuracy: 0.1803 - val_loss: 3.3687 - learning_rate: 0.0010\n",
      "Epoch 17/30\n",
      "\u001b[1m2306/2306\u001b[0m \u001b[32m━━━━━━━━━━━━━━━━━━━━\u001b[0m\u001b[37m\u001b[0m \u001b[1m0s\u001b[0m 7ms/step - accuracy: 0.1629 - loss: 3.5158\n",
      "Epoch 17: val_loss improved from 3.36867 to 3.36633, saving model to models/best_model_checkpoint.keras\n",
      "\u001b[1m2306/2306\u001b[0m \u001b[32m━━━━━━━━━━━━━━━━━━━━\u001b[0m\u001b[37m\u001b[0m \u001b[1m17s\u001b[0m 7ms/step - accuracy: 0.1629 - loss: 3.5158 - val_accuracy: 0.1789 - val_loss: 3.3663 - learning_rate: 0.0010\n",
      "Epoch 18/30\n",
      "\u001b[1m2302/2306\u001b[0m \u001b[32m━━━━━━━━━━━━━━━━━━━\u001b[0m\u001b[37m━\u001b[0m \u001b[1m0s\u001b[0m 7ms/step - accuracy: 0.1622 - loss: 3.5118\n",
      "Epoch 18: val_loss improved from 3.36633 to 3.36042, saving model to models/best_model_checkpoint.keras\n",
      "\u001b[1m2306/2306\u001b[0m \u001b[32m━━━━━━━━━━━━━━━━━━━━\u001b[0m\u001b[37m\u001b[0m \u001b[1m17s\u001b[0m 7ms/step - accuracy: 0.1622 - loss: 3.5118 - val_accuracy: 0.1807 - val_loss: 3.3604 - learning_rate: 0.0010\n",
      "Epoch 19/30\n",
      "\u001b[1m2303/2306\u001b[0m \u001b[32m━━━━━━━━━━━━━━━━━━━\u001b[0m\u001b[37m━\u001b[0m \u001b[1m0s\u001b[0m 7ms/step - accuracy: 0.1632 - loss: 3.5095\n",
      "Epoch 19: val_loss improved from 3.36042 to 3.35649, saving model to models/best_model_checkpoint.keras\n",
      "\u001b[1m2306/2306\u001b[0m \u001b[32m━━━━━━━━━━━━━━━━━━━━\u001b[0m\u001b[37m\u001b[0m \u001b[1m17s\u001b[0m 7ms/step - accuracy: 0.1632 - loss: 3.5095 - val_accuracy: 0.1807 - val_loss: 3.3565 - learning_rate: 0.0010\n",
      "Epoch 20/30\n",
      "\u001b[1m2301/2306\u001b[0m \u001b[32m━━━━━━━━━━━━━━━━━━━\u001b[0m\u001b[37m━\u001b[0m \u001b[1m0s\u001b[0m 7ms/step - accuracy: 0.1633 - loss: 3.5018\n",
      "Epoch 20: val_loss did not improve from 3.35649\n",
      "\u001b[1m2306/2306\u001b[0m \u001b[32m━━━━━━━━━━━━━━━━━━━━\u001b[0m\u001b[37m\u001b[0m \u001b[1m17s\u001b[0m 7ms/step - accuracy: 0.1633 - loss: 3.5018 - val_accuracy: 0.1812 - val_loss: 3.3605 - learning_rate: 0.0010\n",
      "Epoch 21/30\n",
      "\u001b[1m2305/2306\u001b[0m \u001b[32m━━━━━━━━━━━━━━━━━━━\u001b[0m\u001b[37m━\u001b[0m \u001b[1m0s\u001b[0m 7ms/step - accuracy: 0.1635 - loss: 3.5065\n",
      "Epoch 21: val_loss improved from 3.35649 to 3.34388, saving model to models/best_model_checkpoint.keras\n",
      "\u001b[1m2306/2306\u001b[0m \u001b[32m━━━━━━━━━━━━━━━━━━━━\u001b[0m\u001b[37m\u001b[0m \u001b[1m17s\u001b[0m 7ms/step - accuracy: 0.1635 - loss: 3.5065 - val_accuracy: 0.1833 - val_loss: 3.3439 - learning_rate: 0.0010\n",
      "Epoch 22/30\n",
      "\u001b[1m2299/2306\u001b[0m \u001b[32m━━━━━━━━━━━━━━━━━━━\u001b[0m\u001b[37m━\u001b[0m \u001b[1m0s\u001b[0m 7ms/step - accuracy: 0.1652 - loss: 3.4991\n",
      "Epoch 22: val_loss did not improve from 3.34388\n",
      "\u001b[1m2306/2306\u001b[0m \u001b[32m━━━━━━━━━━━━━━━━━━━━\u001b[0m\u001b[37m\u001b[0m \u001b[1m17s\u001b[0m 7ms/step - accuracy: 0.1652 - loss: 3.4992 - val_accuracy: 0.1822 - val_loss: 3.3474 - learning_rate: 0.0010\n",
      "Epoch 23/30\n",
      "\u001b[1m2298/2306\u001b[0m \u001b[32m━━━━━━━━━━━━━━━━━━━\u001b[0m\u001b[37m━\u001b[0m \u001b[1m0s\u001b[0m 7ms/step - accuracy: 0.1627 - loss: 3.5087\n",
      "Epoch 23: val_loss did not improve from 3.34388\n",
      "\u001b[1m2306/2306\u001b[0m \u001b[32m━━━━━━━━━━━━━━━━━━━━\u001b[0m\u001b[37m\u001b[0m \u001b[1m17s\u001b[0m 7ms/step - accuracy: 0.1627 - loss: 3.5086 - val_accuracy: 0.1815 - val_loss: 3.3463 - learning_rate: 0.0010\n",
      "Epoch 24/30\n",
      "\u001b[1m2304/2306\u001b[0m \u001b[32m━━━━━━━━━━━━━━━━━━━\u001b[0m\u001b[37m━\u001b[0m \u001b[1m0s\u001b[0m 7ms/step - accuracy: 0.1631 - loss: 3.5018\n",
      "Epoch 24: ReduceLROnPlateau reducing learning rate to 0.0005000000237487257.\n",
      "\n",
      "Epoch 24: val_loss did not improve from 3.34388\n",
      "\u001b[1m2306/2306\u001b[0m \u001b[32m━━━━━━━━━━━━━━━━━━━━\u001b[0m\u001b[37m\u001b[0m \u001b[1m17s\u001b[0m 7ms/step - accuracy: 0.1631 - loss: 3.5018 - val_accuracy: 0.1823 - val_loss: 3.3463 - learning_rate: 0.0010\n",
      "Epoch 25/30\n",
      "\u001b[1m2305/2306\u001b[0m \u001b[32m━━━━━━━━━━━━━━━━━━━\u001b[0m\u001b[37m━\u001b[0m \u001b[1m0s\u001b[0m 7ms/step - accuracy: 0.1647 - loss: 3.4875\n",
      "Epoch 25: val_loss improved from 3.34388 to 3.33069, saving model to models/best_model_checkpoint.keras\n",
      "\u001b[1m2306/2306\u001b[0m \u001b[32m━━━━━━━━━━━━━━━━━━━━\u001b[0m\u001b[37m\u001b[0m \u001b[1m17s\u001b[0m 7ms/step - accuracy: 0.1647 - loss: 3.4875 - val_accuracy: 0.1846 - val_loss: 3.3307 - learning_rate: 5.0000e-04\n",
      "Epoch 26/30\n",
      "\u001b[1m2301/2306\u001b[0m \u001b[32m━━━━━━━━━━━━━━━━━━━\u001b[0m\u001b[37m━\u001b[0m \u001b[1m0s\u001b[0m 7ms/step - accuracy: 0.1655 - loss: 3.4861\n",
      "Epoch 26: val_loss improved from 3.33069 to 3.32778, saving model to models/best_model_checkpoint.keras\n",
      "\u001b[1m2306/2306\u001b[0m \u001b[32m━━━━━━━━━━━━━━━━━━━━\u001b[0m\u001b[37m\u001b[0m \u001b[1m17s\u001b[0m 7ms/step - accuracy: 0.1655 - loss: 3.4861 - val_accuracy: 0.1845 - val_loss: 3.3278 - learning_rate: 5.0000e-04\n",
      "Epoch 27/30\n",
      "\u001b[1m2300/2306\u001b[0m \u001b[32m━━━━━━━━━━━━━━━━━━━\u001b[0m\u001b[37m━\u001b[0m \u001b[1m0s\u001b[0m 7ms/step - accuracy: 0.1671 - loss: 3.4808\n",
      "Epoch 27: val_loss improved from 3.32778 to 3.32598, saving model to models/best_model_checkpoint.keras\n",
      "\u001b[1m2306/2306\u001b[0m \u001b[32m━━━━━━━━━━━━━━━━━━━━\u001b[0m\u001b[37m\u001b[0m \u001b[1m18s\u001b[0m 8ms/step - accuracy: 0.1671 - loss: 3.4808 - val_accuracy: 0.1851 - val_loss: 3.3260 - learning_rate: 5.0000e-04\n",
      "Epoch 28/30\n",
      "\u001b[1m2306/2306\u001b[0m \u001b[32m━━━━━━━━━━━━━━━━━━━━\u001b[0m\u001b[37m\u001b[0m \u001b[1m0s\u001b[0m 8ms/step - accuracy: 0.1667 - loss: 3.4815\n",
      "Epoch 28: val_loss improved from 3.32598 to 3.32396, saving model to models/best_model_checkpoint.keras\n",
      "\u001b[1m2306/2306\u001b[0m \u001b[32m━━━━━━━━━━━━━━━━━━━━\u001b[0m\u001b[37m\u001b[0m \u001b[1m20s\u001b[0m 9ms/step - accuracy: 0.1667 - loss: 3.4815 - val_accuracy: 0.1848 - val_loss: 3.3240 - learning_rate: 5.0000e-04\n",
      "Epoch 29/30\n",
      "\u001b[1m2301/2306\u001b[0m \u001b[32m━━━━━━━━━━━━━━━━━━━\u001b[0m\u001b[37m━\u001b[0m \u001b[1m0s\u001b[0m 8ms/step - accuracy: 0.1670 - loss: 3.4708\n",
      "Epoch 29: val_loss improved from 3.32396 to 3.32141, saving model to models/best_model_checkpoint.keras\n",
      "\u001b[1m2306/2306\u001b[0m \u001b[32m━━━━━━━━━━━━━━━━━━━━\u001b[0m\u001b[37m\u001b[0m \u001b[1m20s\u001b[0m 9ms/step - accuracy: 0.1670 - loss: 3.4708 - val_accuracy: 0.1850 - val_loss: 3.3214 - learning_rate: 5.0000e-04\n",
      "Epoch 30/30\n",
      "\u001b[1m2305/2306\u001b[0m \u001b[32m━━━━━━━━━━━━━━━━━━━\u001b[0m\u001b[37m━\u001b[0m \u001b[1m0s\u001b[0m 7ms/step - accuracy: 0.1666 - loss: 3.4712\n",
      "Epoch 30: val_loss improved from 3.32141 to 3.31831, saving model to models/best_model_checkpoint.keras\n",
      "\u001b[1m2306/2306\u001b[0m \u001b[32m━━━━━━━━━━━━━━━━━━━━\u001b[0m\u001b[37m\u001b[0m \u001b[1m18s\u001b[0m 8ms/step - accuracy: 0.1666 - loss: 3.4712 - val_accuracy: 0.1855 - val_loss: 3.3183 - learning_rate: 5.0000e-04\n",
      "Restoring model weights from the end of the best epoch: 30.\n"
     ]
    }
   ],
   "source": [
    "# Train the CNN model\n",
    "\n",
    "cnn_model = create_cnn_model(input_shape, n_classes)\n",
    "print(cnn_model.summary())\n",
    "\n",
    "history_cnn = cnn_model.fit(\n",
    "    X_train, y_train,\n",
    "    epochs=30,\n",
    "    batch_size=128,\n",
    "    validation_split=0.2,\n",
    "    callbacks=callbacks,\n",
    "    verbose=1\n",
    ")"
   ]
  },
  {
   "cell_type": "code",
   "execution_count": 26,
   "metadata": {},
   "outputs": [
    {
     "name": "stdout",
     "output_type": "stream",
     "text": [
      "CNN model saved successfully\n"
     ]
    }
   ],
   "source": [
    "# Save the model\n",
    "cnn_model.save('models/chord_classifier_cnn.keras')\n",
    "print(\"CNN model saved successfully\")"
   ]
  },
  {
   "cell_type": "code",
   "execution_count": null,
   "metadata": {},
   "outputs": [
    {
     "data": {
      "text/html": [
       "<pre style=\"white-space:pre;overflow-x:auto;line-height:normal;font-family:Menlo,'DejaVu Sans Mono',consolas,'Courier New',monospace\"><span style=\"font-weight: bold\">Model: \"sequential_2\"</span>\n",
       "</pre>\n"
      ],
      "text/plain": [
       "\u001b[1mModel: \"sequential_2\"\u001b[0m\n"
      ]
     },
     "metadata": {},
     "output_type": "display_data"
    },
    {
     "data": {
      "text/html": [
       "<pre style=\"white-space:pre;overflow-x:auto;line-height:normal;font-family:Menlo,'DejaVu Sans Mono',consolas,'Courier New',monospace\">┏━━━━━━━━━━━━━━━━━━━━━━━━━━━━━━━━━┳━━━━━━━━━━━━━━━━━━━━━━━━┳━━━━━━━━━━━━━━━┓\n",
       "┃<span style=\"font-weight: bold\"> Layer (type)                    </span>┃<span style=\"font-weight: bold\"> Output Shape           </span>┃<span style=\"font-weight: bold\">       Param # </span>┃\n",
       "┡━━━━━━━━━━━━━━━━━━━━━━━━━━━━━━━━━╇━━━━━━━━━━━━━━━━━━━━━━━━╇━━━━━━━━━━━━━━━┩\n",
       "│ reshape_1 (<span style=\"color: #0087ff; text-decoration-color: #0087ff\">Reshape</span>)             │ (<span style=\"color: #00d7ff; text-decoration-color: #00d7ff\">None</span>, <span style=\"color: #00af00; text-decoration-color: #00af00\">12</span>, <span style=\"color: #00af00; text-decoration-color: #00af00\">1</span>)          │             <span style=\"color: #00af00; text-decoration-color: #00af00\">0</span> │\n",
       "├─────────────────────────────────┼────────────────────────┼───────────────┤\n",
       "│ lstm (<span style=\"color: #0087ff; text-decoration-color: #0087ff\">LSTM</span>)                     │ (<span style=\"color: #00d7ff; text-decoration-color: #00d7ff\">None</span>, <span style=\"color: #00af00; text-decoration-color: #00af00\">12</span>, <span style=\"color: #00af00; text-decoration-color: #00af00\">128</span>)        │        <span style=\"color: #00af00; text-decoration-color: #00af00\">66,560</span> │\n",
       "├─────────────────────────────────┼────────────────────────┼───────────────┤\n",
       "│ batch_normalization_8           │ (<span style=\"color: #00d7ff; text-decoration-color: #00d7ff\">None</span>, <span style=\"color: #00af00; text-decoration-color: #00af00\">12</span>, <span style=\"color: #00af00; text-decoration-color: #00af00\">128</span>)        │           <span style=\"color: #00af00; text-decoration-color: #00af00\">512</span> │\n",
       "│ (<span style=\"color: #0087ff; text-decoration-color: #0087ff\">BatchNormalization</span>)            │                        │               │\n",
       "├─────────────────────────────────┼────────────────────────┼───────────────┤\n",
       "│ dropout_8 (<span style=\"color: #0087ff; text-decoration-color: #0087ff\">Dropout</span>)             │ (<span style=\"color: #00d7ff; text-decoration-color: #00d7ff\">None</span>, <span style=\"color: #00af00; text-decoration-color: #00af00\">12</span>, <span style=\"color: #00af00; text-decoration-color: #00af00\">128</span>)        │             <span style=\"color: #00af00; text-decoration-color: #00af00\">0</span> │\n",
       "├─────────────────────────────────┼────────────────────────┼───────────────┤\n",
       "│ lstm_1 (<span style=\"color: #0087ff; text-decoration-color: #0087ff\">LSTM</span>)                   │ (<span style=\"color: #00d7ff; text-decoration-color: #00d7ff\">None</span>, <span style=\"color: #00af00; text-decoration-color: #00af00\">64</span>)             │        <span style=\"color: #00af00; text-decoration-color: #00af00\">49,408</span> │\n",
       "├─────────────────────────────────┼────────────────────────┼───────────────┤\n",
       "│ batch_normalization_9           │ (<span style=\"color: #00d7ff; text-decoration-color: #00d7ff\">None</span>, <span style=\"color: #00af00; text-decoration-color: #00af00\">64</span>)             │           <span style=\"color: #00af00; text-decoration-color: #00af00\">256</span> │\n",
       "│ (<span style=\"color: #0087ff; text-decoration-color: #0087ff\">BatchNormalization</span>)            │                        │               │\n",
       "├─────────────────────────────────┼────────────────────────┼───────────────┤\n",
       "│ dropout_9 (<span style=\"color: #0087ff; text-decoration-color: #0087ff\">Dropout</span>)             │ (<span style=\"color: #00d7ff; text-decoration-color: #00d7ff\">None</span>, <span style=\"color: #00af00; text-decoration-color: #00af00\">64</span>)             │             <span style=\"color: #00af00; text-decoration-color: #00af00\">0</span> │\n",
       "├─────────────────────────────────┼────────────────────────┼───────────────┤\n",
       "│ dense_8 (<span style=\"color: #0087ff; text-decoration-color: #0087ff\">Dense</span>)                 │ (<span style=\"color: #00d7ff; text-decoration-color: #00d7ff\">None</span>, <span style=\"color: #00af00; text-decoration-color: #00af00\">128</span>)            │         <span style=\"color: #00af00; text-decoration-color: #00af00\">8,320</span> │\n",
       "├─────────────────────────────────┼────────────────────────┼───────────────┤\n",
       "│ batch_normalization_10          │ (<span style=\"color: #00d7ff; text-decoration-color: #00d7ff\">None</span>, <span style=\"color: #00af00; text-decoration-color: #00af00\">128</span>)            │           <span style=\"color: #00af00; text-decoration-color: #00af00\">512</span> │\n",
       "│ (<span style=\"color: #0087ff; text-decoration-color: #0087ff\">BatchNormalization</span>)            │                        │               │\n",
       "├─────────────────────────────────┼────────────────────────┼───────────────┤\n",
       "│ dropout_10 (<span style=\"color: #0087ff; text-decoration-color: #0087ff\">Dropout</span>)            │ (<span style=\"color: #00d7ff; text-decoration-color: #00d7ff\">None</span>, <span style=\"color: #00af00; text-decoration-color: #00af00\">128</span>)            │             <span style=\"color: #00af00; text-decoration-color: #00af00\">0</span> │\n",
       "├─────────────────────────────────┼────────────────────────┼───────────────┤\n",
       "│ dense_9 (<span style=\"color: #0087ff; text-decoration-color: #0087ff\">Dense</span>)                 │ (<span style=\"color: #00d7ff; text-decoration-color: #00d7ff\">None</span>, <span style=\"color: #00af00; text-decoration-color: #00af00\">209</span>)            │        <span style=\"color: #00af00; text-decoration-color: #00af00\">26,961</span> │\n",
       "└─────────────────────────────────┴────────────────────────┴───────────────┘\n",
       "</pre>\n"
      ],
      "text/plain": [
       "┏━━━━━━━━━━━━━━━━━━━━━━━━━━━━━━━━━┳━━━━━━━━━━━━━━━━━━━━━━━━┳━━━━━━━━━━━━━━━┓\n",
       "┃\u001b[1m \u001b[0m\u001b[1mLayer (type)                   \u001b[0m\u001b[1m \u001b[0m┃\u001b[1m \u001b[0m\u001b[1mOutput Shape          \u001b[0m\u001b[1m \u001b[0m┃\u001b[1m \u001b[0m\u001b[1m      Param #\u001b[0m\u001b[1m \u001b[0m┃\n",
       "┡━━━━━━━━━━━━━━━━━━━━━━━━━━━━━━━━━╇━━━━━━━━━━━━━━━━━━━━━━━━╇━━━━━━━━━━━━━━━┩\n",
       "│ reshape_1 (\u001b[38;5;33mReshape\u001b[0m)             │ (\u001b[38;5;45mNone\u001b[0m, \u001b[38;5;34m12\u001b[0m, \u001b[38;5;34m1\u001b[0m)          │             \u001b[38;5;34m0\u001b[0m │\n",
       "├─────────────────────────────────┼────────────────────────┼───────────────┤\n",
       "│ lstm (\u001b[38;5;33mLSTM\u001b[0m)                     │ (\u001b[38;5;45mNone\u001b[0m, \u001b[38;5;34m12\u001b[0m, \u001b[38;5;34m128\u001b[0m)        │        \u001b[38;5;34m66,560\u001b[0m │\n",
       "├─────────────────────────────────┼────────────────────────┼───────────────┤\n",
       "│ batch_normalization_8           │ (\u001b[38;5;45mNone\u001b[0m, \u001b[38;5;34m12\u001b[0m, \u001b[38;5;34m128\u001b[0m)        │           \u001b[38;5;34m512\u001b[0m │\n",
       "│ (\u001b[38;5;33mBatchNormalization\u001b[0m)            │                        │               │\n",
       "├─────────────────────────────────┼────────────────────────┼───────────────┤\n",
       "│ dropout_8 (\u001b[38;5;33mDropout\u001b[0m)             │ (\u001b[38;5;45mNone\u001b[0m, \u001b[38;5;34m12\u001b[0m, \u001b[38;5;34m128\u001b[0m)        │             \u001b[38;5;34m0\u001b[0m │\n",
       "├─────────────────────────────────┼────────────────────────┼───────────────┤\n",
       "│ lstm_1 (\u001b[38;5;33mLSTM\u001b[0m)                   │ (\u001b[38;5;45mNone\u001b[0m, \u001b[38;5;34m64\u001b[0m)             │        \u001b[38;5;34m49,408\u001b[0m │\n",
       "├─────────────────────────────────┼────────────────────────┼───────────────┤\n",
       "│ batch_normalization_9           │ (\u001b[38;5;45mNone\u001b[0m, \u001b[38;5;34m64\u001b[0m)             │           \u001b[38;5;34m256\u001b[0m │\n",
       "│ (\u001b[38;5;33mBatchNormalization\u001b[0m)            │                        │               │\n",
       "├─────────────────────────────────┼────────────────────────┼───────────────┤\n",
       "│ dropout_9 (\u001b[38;5;33mDropout\u001b[0m)             │ (\u001b[38;5;45mNone\u001b[0m, \u001b[38;5;34m64\u001b[0m)             │             \u001b[38;5;34m0\u001b[0m │\n",
       "├─────────────────────────────────┼────────────────────────┼───────────────┤\n",
       "│ dense_8 (\u001b[38;5;33mDense\u001b[0m)                 │ (\u001b[38;5;45mNone\u001b[0m, \u001b[38;5;34m128\u001b[0m)            │         \u001b[38;5;34m8,320\u001b[0m │\n",
       "├─────────────────────────────────┼────────────────────────┼───────────────┤\n",
       "│ batch_normalization_10          │ (\u001b[38;5;45mNone\u001b[0m, \u001b[38;5;34m128\u001b[0m)            │           \u001b[38;5;34m512\u001b[0m │\n",
       "│ (\u001b[38;5;33mBatchNormalization\u001b[0m)            │                        │               │\n",
       "├─────────────────────────────────┼────────────────────────┼───────────────┤\n",
       "│ dropout_10 (\u001b[38;5;33mDropout\u001b[0m)            │ (\u001b[38;5;45mNone\u001b[0m, \u001b[38;5;34m128\u001b[0m)            │             \u001b[38;5;34m0\u001b[0m │\n",
       "├─────────────────────────────────┼────────────────────────┼───────────────┤\n",
       "│ dense_9 (\u001b[38;5;33mDense\u001b[0m)                 │ (\u001b[38;5;45mNone\u001b[0m, \u001b[38;5;34m209\u001b[0m)            │        \u001b[38;5;34m26,961\u001b[0m │\n",
       "└─────────────────────────────────┴────────────────────────┴───────────────┘\n"
      ]
     },
     "metadata": {},
     "output_type": "display_data"
    },
    {
     "data": {
      "text/html": [
       "<pre style=\"white-space:pre;overflow-x:auto;line-height:normal;font-family:Menlo,'DejaVu Sans Mono',consolas,'Courier New',monospace\"><span style=\"font-weight: bold\"> Total params: </span><span style=\"color: #00af00; text-decoration-color: #00af00\">152,529</span> (595.82 KB)\n",
       "</pre>\n"
      ],
      "text/plain": [
       "\u001b[1m Total params: \u001b[0m\u001b[38;5;34m152,529\u001b[0m (595.82 KB)\n"
      ]
     },
     "metadata": {},
     "output_type": "display_data"
    },
    {
     "data": {
      "text/html": [
       "<pre style=\"white-space:pre;overflow-x:auto;line-height:normal;font-family:Menlo,'DejaVu Sans Mono',consolas,'Courier New',monospace\"><span style=\"font-weight: bold\"> Trainable params: </span><span style=\"color: #00af00; text-decoration-color: #00af00\">151,889</span> (593.32 KB)\n",
       "</pre>\n"
      ],
      "text/plain": [
       "\u001b[1m Trainable params: \u001b[0m\u001b[38;5;34m151,889\u001b[0m (593.32 KB)\n"
      ]
     },
     "metadata": {},
     "output_type": "display_data"
    },
    {
     "data": {
      "text/html": [
       "<pre style=\"white-space:pre;overflow-x:auto;line-height:normal;font-family:Menlo,'DejaVu Sans Mono',consolas,'Courier New',monospace\"><span style=\"font-weight: bold\"> Non-trainable params: </span><span style=\"color: #00af00; text-decoration-color: #00af00\">640</span> (2.50 KB)\n",
       "</pre>\n"
      ],
      "text/plain": [
       "\u001b[1m Non-trainable params: \u001b[0m\u001b[38;5;34m640\u001b[0m (2.50 KB)\n"
      ]
     },
     "metadata": {},
     "output_type": "display_data"
    },
    {
     "name": "stdout",
     "output_type": "stream",
     "text": [
      "None\n",
      "Epoch 1/30\n",
      "\u001b[1m2305/2306\u001b[0m \u001b[32m━━━━━━━━━━━━━━━━━━━\u001b[0m\u001b[37m━\u001b[0m \u001b[1m0s\u001b[0m 18ms/step - accuracy: 0.0717 - loss: 4.5426\n",
      "Epoch 1: val_loss did not improve from 3.31831\n",
      "\u001b[1m2306/2306\u001b[0m \u001b[32m━━━━━━━━━━━━━━━━━━━━\u001b[0m\u001b[37m\u001b[0m \u001b[1m49s\u001b[0m 20ms/step - accuracy: 0.0717 - loss: 4.5423 - val_accuracy: 0.1130 - val_loss: 3.9767 - learning_rate: 0.0010\n",
      "Epoch 2/30\n",
      "\u001b[1m2304/2306\u001b[0m \u001b[32m━━━━━━━━━━━━━━━━━━━\u001b[0m\u001b[37m━\u001b[0m \u001b[1m0s\u001b[0m 19ms/step - accuracy: 0.1210 - loss: 3.9035\n",
      "Epoch 2: val_loss did not improve from 3.31831\n",
      "\u001b[1m2306/2306\u001b[0m \u001b[32m━━━━━━━━━━━━━━━━━━━━\u001b[0m\u001b[37m\u001b[0m \u001b[1m50s\u001b[0m 22ms/step - accuracy: 0.1210 - loss: 3.9034 - val_accuracy: 0.1429 - val_loss: 3.6923 - learning_rate: 0.0010\n",
      "Epoch 3/30\n",
      "\u001b[1m2305/2306\u001b[0m \u001b[32m━━━━━━━━━━━━━━━━━━━\u001b[0m\u001b[37m━\u001b[0m \u001b[1m0s\u001b[0m 19ms/step - accuracy: 0.1359 - loss: 3.7504\n",
      "Epoch 3: val_loss did not improve from 3.31831\n",
      "\u001b[1m2306/2306\u001b[0m \u001b[32m━━━━━━━━━━━━━━━━━━━━\u001b[0m\u001b[37m\u001b[0m \u001b[1m49s\u001b[0m 21ms/step - accuracy: 0.1360 - loss: 3.7504 - val_accuracy: 0.1497 - val_loss: 3.6286 - learning_rate: 0.0010\n",
      "Epoch 4/30\n",
      "\u001b[1m2305/2306\u001b[0m \u001b[32m━━━━━━━━━━━━━━━━━━━\u001b[0m\u001b[37m━\u001b[0m \u001b[1m0s\u001b[0m 18ms/step - accuracy: 0.1427 - loss: 3.6909\n",
      "Epoch 4: val_loss did not improve from 3.31831\n",
      "\u001b[1m2306/2306\u001b[0m \u001b[32m━━━━━━━━━━━━━━━━━━━━\u001b[0m\u001b[37m\u001b[0m \u001b[1m46s\u001b[0m 20ms/step - accuracy: 0.1427 - loss: 3.6909 - val_accuracy: 0.1500 - val_loss: 3.6215 - learning_rate: 0.0010\n",
      "Epoch 5/30\n",
      "\u001b[1m2304/2306\u001b[0m \u001b[32m━━━━━━━━━━━━━━━━━━━\u001b[0m\u001b[37m━\u001b[0m \u001b[1m0s\u001b[0m 18ms/step - accuracy: 0.1441 - loss: 3.6706\n",
      "Epoch 5: val_loss did not improve from 3.31831\n",
      "\u001b[1m2306/2306\u001b[0m \u001b[32m━━━━━━━━━━━━━━━━━━━━\u001b[0m\u001b[37m\u001b[0m \u001b[1m46s\u001b[0m 20ms/step - accuracy: 0.1441 - loss: 3.6706 - val_accuracy: 0.1537 - val_loss: 3.5697 - learning_rate: 0.0010\n",
      "Epoch 6/30\n",
      "\u001b[1m2303/2306\u001b[0m \u001b[32m━━━━━━━━━━━━━━━━━━━\u001b[0m\u001b[37m━\u001b[0m \u001b[1m0s\u001b[0m 18ms/step - accuracy: 0.1463 - loss: 3.6430\n",
      "Epoch 6: val_loss did not improve from 3.31831\n",
      "\u001b[1m2306/2306\u001b[0m \u001b[32m━━━━━━━━━━━━━━━━━━━━\u001b[0m\u001b[37m\u001b[0m \u001b[1m46s\u001b[0m 20ms/step - accuracy: 0.1463 - loss: 3.6430 - val_accuracy: 0.1572 - val_loss: 3.5597 - learning_rate: 0.0010\n",
      "Epoch 7/30\n",
      "\u001b[1m2303/2306\u001b[0m \u001b[32m━━━━━━━━━━━━━━━━━━━\u001b[0m\u001b[37m━\u001b[0m \u001b[1m0s\u001b[0m 19ms/step - accuracy: 0.1484 - loss: 3.6252\n",
      "Epoch 7: val_loss did not improve from 3.31831\n",
      "\u001b[1m2306/2306\u001b[0m \u001b[32m━━━━━━━━━━━━━━━━━━━━\u001b[0m\u001b[37m\u001b[0m \u001b[1m48s\u001b[0m 21ms/step - accuracy: 0.1484 - loss: 3.6252 - val_accuracy: 0.1554 - val_loss: 3.5729 - learning_rate: 0.0010\n",
      "Epoch 8/30\n",
      "\u001b[1m2303/2306\u001b[0m \u001b[32m━━━━━━━━━━━━━━━━━━━\u001b[0m\u001b[37m━\u001b[0m \u001b[1m0s\u001b[0m 18ms/step - accuracy: 0.1508 - loss: 3.6077\n",
      "Epoch 8: val_loss did not improve from 3.31831\n",
      "\u001b[1m2306/2306\u001b[0m \u001b[32m━━━━━━━━━━━━━━━━━━━━\u001b[0m\u001b[37m\u001b[0m \u001b[1m47s\u001b[0m 20ms/step - accuracy: 0.1508 - loss: 3.6077 - val_accuracy: 0.1530 - val_loss: 3.5780 - learning_rate: 0.0010\n",
      "Epoch 9/30\n",
      "\u001b[1m2303/2306\u001b[0m \u001b[32m━━━━━━━━━━━━━━━━━━━\u001b[0m\u001b[37m━\u001b[0m \u001b[1m0s\u001b[0m 18ms/step - accuracy: 0.1514 - loss: 3.5958\n",
      "Epoch 9: val_loss did not improve from 3.31831\n",
      "\u001b[1m2306/2306\u001b[0m \u001b[32m━━━━━━━━━━━━━━━━━━━━\u001b[0m\u001b[37m\u001b[0m \u001b[1m47s\u001b[0m 20ms/step - accuracy: 0.1514 - loss: 3.5958 - val_accuracy: 0.1649 - val_loss: 3.4982 - learning_rate: 0.0010\n",
      "Epoch 10/30\n",
      "\u001b[1m2303/2306\u001b[0m \u001b[32m━━━━━━━━━━━━━━━━━━━\u001b[0m\u001b[37m━\u001b[0m \u001b[1m0s\u001b[0m 18ms/step - accuracy: 0.1526 - loss: 3.5927\n",
      "Epoch 10: val_loss did not improve from 3.31831\n",
      "\u001b[1m2306/2306\u001b[0m \u001b[32m━━━━━━━━━━━━━━━━━━━━\u001b[0m\u001b[37m\u001b[0m \u001b[1m47s\u001b[0m 20ms/step - accuracy: 0.1526 - loss: 3.5927 - val_accuracy: 0.1609 - val_loss: 3.5058 - learning_rate: 0.0010\n",
      "Epoch 11/30\n",
      "\u001b[1m2303/2306\u001b[0m \u001b[32m━━━━━━━━━━━━━━━━━━━\u001b[0m\u001b[37m━\u001b[0m \u001b[1m0s\u001b[0m 19ms/step - accuracy: 0.1537 - loss: 3.5813\n",
      "Epoch 11: val_loss did not improve from 3.31831\n",
      "\u001b[1m2306/2306\u001b[0m \u001b[32m━━━━━━━━━━━━━━━━━━━━\u001b[0m\u001b[37m\u001b[0m \u001b[1m48s\u001b[0m 21ms/step - accuracy: 0.1537 - loss: 3.5813 - val_accuracy: 0.1641 - val_loss: 3.4989 - learning_rate: 0.0010\n",
      "Epoch 12/30\n",
      "\u001b[1m2305/2306\u001b[0m \u001b[32m━━━━━━━━━━━━━━━━━━━\u001b[0m\u001b[37m━\u001b[0m \u001b[1m0s\u001b[0m 19ms/step - accuracy: 0.1555 - loss: 3.5689"
     ]
    }
   ],
   "source": [
    "# Train the LSTM model\n",
    "\n",
    "lstm_model = create_lstm_model(input_shape, n_classes)\n",
    "print(lstm_model.summary())\n",
    "\n",
    "history_lstm = lstm_model.fit(\n",
    "    X_train, y_train,\n",
    "    epochs=30,\n",
    "    batch_size=128,\n",
    "    validation_split=0.2,\n",
    "    callbacks=callbacks,\n",
    "    verbose=1\n",
    ")"
   ]
  },
  {
   "cell_type": "code",
   "execution_count": null,
   "metadata": {},
   "outputs": [],
   "source": [
    "# Save the model\n",
    "lstm_model.save('models/chord_classifier_lstm.keras')\n",
    "print(\"LSTM model saved successfully\")"
   ]
  },
  {
   "cell_type": "code",
   "execution_count": null,
   "metadata": {},
   "outputs": [],
   "source": [
    "print(\"\\n--- Model Evaluation ---\")\n",
    "    \n",
    "# Function to safely evaluate models\n",
    "def safe_evaluate(model, model_name):\n",
    "    try:\n",
    "        scores = model.evaluate(X_test, y_test, verbose=1)\n",
    "        print(f\"{model_name} - Test Loss: {scores[0]:.4f}, Test Accuracy: {scores[1]:.4f}\")\n",
    "        return scores\n",
    "    except Exception as e:\n",
    "        print(f\"Error evaluating {model_name}: {e}\")\n",
    "        return None\n",
    "\n",
    "# Evaluate each model if it exists\n",
    "if 'ff_model' in locals():\n",
    "    ff_scores = safe_evaluate(ff_model, \"Feedforward Model\")\n",
    "\n",
    "if 'cnn_model' in locals():\n",
    "    cnn_scores = safe_evaluate(cnn_model, \"CNN Model\")\n",
    "\n",
    "if 'lstm_model' in locals():\n",
    "    lstm_scores = safe_evaluate(lstm_model, \"LSTM Model\")"
   ]
  },
  {
   "cell_type": "code",
   "execution_count": null,
   "metadata": {},
   "outputs": [],
   "source": [
    "# Plot training history\n",
    "def plot_history(history, title):\n",
    "    if history is None:\n",
    "        print(f\"No training history available for {title}\")\n",
    "        return\n",
    "        \n",
    "    try:\n",
    "        plt.figure(figsize=(12, 4))\n",
    "        \n",
    "        # Plot accuracy\n",
    "        plt.subplot(1, 2, 1)\n",
    "        plt.plot(history.history['accuracy'])\n",
    "        plt.plot(history.history['val_accuracy'])\n",
    "        plt.title(f'{title} - Accuracy')\n",
    "        plt.ylabel('Accuracy')\n",
    "        plt.xlabel('Epoch')\n",
    "        plt.legend(['Train', 'Validation'], loc='lower right')\n",
    "        \n",
    "        # Plot loss\n",
    "        plt.subplot(1, 2, 2)\n",
    "        plt.plot(history.history['loss'])\n",
    "        plt.plot(history.history['val_loss'])\n",
    "        plt.title(f'{title} - Loss')\n",
    "        plt.ylabel('Loss')\n",
    "        plt.xlabel('Epoch')\n",
    "        plt.legend(['Train', 'Validation'], loc='upper right')\n",
    "        \n",
    "        plt.tight_layout()\n",
    "        plt.savefig(f\"models/{title.replace(' ', '_').lower()}_training_history.png\")\n",
    "        plt.show()\n",
    "    except Exception as e:\n",
    "        print(f\"Error plotting history for {title}: {e}\")"
   ]
  },
  {
   "cell_type": "code",
   "execution_count": null,
   "metadata": {},
   "outputs": [],
   "source": [
    "# Plot histories if available\n",
    "if 'history_ff' in locals():\n",
    "    plot_history(history_ff, 'Feedforward Model')\n",
    "\n",
    "if 'history_cnn' in locals():\n",
    "    plot_history(history_cnn, 'CNN Model')\n",
    "\n",
    "if 'history_lstm' in locals():\n",
    "    plot_history(history_lstm, 'LSTM Model')"
   ]
  },
  {
   "cell_type": "code",
   "execution_count": null,
   "metadata": {},
   "outputs": [],
   "source": [
    "# Function to get confusion matrix and classification report\n",
    "def model_analysis(model, X, y, label_encoder, title):\n",
    "    \"\"\"Analyze model performance with confusion matrix and classification report\"\"\"\n",
    "    # Get predictions\n",
    "    y_pred_proba = model.predict(X)\n",
    "    y_pred = np.argmax(y_pred_proba, axis=1)\n",
    "    y_true = np.argmax(y, axis=1)\n",
    "    \n",
    "    # Get class names\n",
    "    class_names = label_encoder.classes_\n",
    "    \n",
    "    # Create confusion matrix (limit to top N classes for readability)\n",
    "    top_n = 20\n",
    "    top_classes_idx = np.bincount(y_true).argsort()[-top_n:]\n",
    "    \n",
    "    # Filter to only include top classes\n",
    "    mask_true = np.isin(y_true, top_classes_idx)\n",
    "    y_true_filtered = y_true[mask_true]\n",
    "    y_pred_filtered = y_pred[mask_true]\n",
    "    \n",
    "    # Confusion matrix\n",
    "    cm = confusion_matrix(y_true_filtered, y_pred_filtered)\n",
    "    \n",
    "    # Plot confusion matrix\n",
    "    plt.figure(figsize=(12, 10))\n",
    "    sns.heatmap(\n",
    "        cm, \n",
    "        annot=True, \n",
    "        fmt='d', \n",
    "        cmap='Blues',\n",
    "        xticklabels=[class_names[i] for i in top_classes_idx],\n",
    "        yticklabels=[class_names[i] for i in top_classes_idx]\n",
    "    )\n",
    "    plt.title(f'{title} - Confusion Matrix (Top {top_n} Classes)')\n",
    "    plt.ylabel('True Label')\n",
    "    plt.xlabel('Predicted Label')\n",
    "    plt.xticks(rotation=45, ha='right')\n",
    "    plt.tight_layout()\n",
    "    plt.show()\n",
    "    \n",
    "    # Classification report\n",
    "    print(f\"\\n{title} - Classification Report:\")\n",
    "    print(classification_report(\n",
    "        y_true, \n",
    "        y_pred, \n",
    "        target_names=class_names,\n",
    "        labels=range(len(class_names)),\n",
    "        zero_division=0\n",
    "    ))"
   ]
  },
  {
   "cell_type": "code",
   "execution_count": null,
   "metadata": {},
   "outputs": [],
   "source": [
    "# Analyze the best performing model\n",
    "best_model = lstm_model  # Change this based on your results\n",
    "model_analysis(best_model, X_test, y_test, label_encoder, 'Best Model')"
   ]
  }
 ],
 "metadata": {
  "kernelspec": {
   "display_name": "Python 3",
   "language": "python",
   "name": "python3"
  },
  "language_info": {
   "codemirror_mode": {
    "name": "ipython",
    "version": 3
   },
   "file_extension": ".py",
   "mimetype": "text/x-python",
   "name": "python",
   "nbconvert_exporter": "python",
   "pygments_lexer": "ipython3",
   "version": "3.12.8"
  }
 },
 "nbformat": 4,
 "nbformat_minor": 2
}
